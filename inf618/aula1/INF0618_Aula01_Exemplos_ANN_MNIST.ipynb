{
 "cells": [
  {
   "cell_type": "code",
   "execution_count": 1,
   "metadata": {},
   "outputs": [],
   "source": [
    "%matplotlib inline"
   ]
  },
  {
   "cell_type": "markdown",
   "metadata": {},
   "source": [
    "# Building a simple neural-network with Keras\n",
    "\n",
    "Written by **Xavier Snelgrove** ([link to his GitHub](https://github.com/wxs/keras-mnist-tutorial/blob/master/MNIST%20in%20Keras.ipynb)), with minor modifications from **Rafael Padilha**.\n",
    "\n",
    "This is a simple tutorial on working with neural networks in Keras. In this exercise, we will define, train and evaluate a simple feed-forward NN to classify handwritten digits.\n"
   ]
  },
  {
   "cell_type": "markdown",
   "metadata": {},
   "source": [
    "## Imports\n",
    "First let's import some prerequisites:"
   ]
  },
  {
   "cell_type": "code",
   "execution_count": 2,
   "metadata": {},
   "outputs": [
    {
     "name": "stderr",
     "output_type": "stream",
     "text": [
      "Using TensorFlow backend.\n",
      "/opt/conda/lib/python3.6/site-packages/requests/__init__.py:80: RequestsDependencyWarning: urllib3 (1.23) or chardet (3.0.4) doesn't match a supported version!\n",
      "  RequestsDependencyWarning)\n"
     ]
    }
   ],
   "source": [
    "import numpy as np\n",
    "from random import shuffle, seed\n",
    "seed(42)\n",
    "import matplotlib.pyplot as plt\n",
    "plt.rcParams['figure.figsize'] = (15,15) # Make the figures a bit bigger\n",
    "\n",
    "from keras.datasets import mnist\n",
    "from keras.models import Sequential\n",
    "from keras.layers.core import Dense, Activation\n",
    "from keras.utils import np_utils\n",
    "from keras import optimizers"
   ]
  },
  {
   "cell_type": "markdown",
   "metadata": {},
   "source": [
    "## Load training data"
   ]
  },
  {
   "cell_type": "code",
   "execution_count": 3,
   "metadata": {},
   "outputs": [
    {
     "name": "stdout",
     "output_type": "stream",
     "text": [
      "X_train original shape (48000, 28, 28)\n",
      "y_train original shape (48000,)\n",
      "X_val original shape (12000, 28, 28)\n",
      "y_val original shape (12000,)\n",
      "X_test original shape (10000, 28, 28)\n",
      "y_test original shape (10000,)\n"
     ]
    }
   ],
   "source": [
    "nb_classes = 10\n",
    "\n",
    "# the data, shuffled and split between trainVal and test sets\n",
    "(trainVal_data, trainVal_label), (X_test, y_test) = mnist.load_data()\n",
    "\n",
    "# We want now to split the trainVal data into train and validation sets\n",
    "nData = trainVal_data.shape[0]  #find the size of trainVal\n",
    "nTrain = int(nData * 0.8)  #80% to train, 20% to val\n",
    "\n",
    "randomIdx = list(range(nData))   #randomly select indexes\n",
    "shuffle(randomIdx)\n",
    "trainIdx = randomIdx[:nTrain] \n",
    "valIdx = randomIdx[nTrain:]\n",
    "\n",
    "# Split the data\n",
    "X_val, y_val = trainVal_data[valIdx], trainVal_label[valIdx]\n",
    "X_train, y_train = trainVal_data[trainIdx], trainVal_label[trainIdx]\n",
    "\n",
    "print(\"X_train original shape\", X_train.shape)\n",
    "print(\"y_train original shape\", y_train.shape), \"\\n\"\n",
    "\n",
    "print(\"X_val original shape\", X_val.shape)\n",
    "print(\"y_val original shape\", y_val.shape), \"\\n\"\n",
    "\n",
    "print(\"X_test original shape\", X_test.shape)\n",
    "print(\"y_test original shape\", y_test.shape)"
   ]
  },
  {
   "cell_type": "markdown",
   "metadata": {},
   "source": [
    "Let's look at some examples of the training data:"
   ]
  },
  {
   "cell_type": "code",
   "execution_count": 4,
   "metadata": {},
   "outputs": [
    {
     "data": {
      "image/png": "[encoded data removed]",
      "text/plain": [
       "<Figure size 1080x1080 with 9 Axes>"
      ]
     },
     "metadata": {},
     "output_type": "display_data"
    }
   ],
   "source": [
    "for i in range(9):\n",
    "    plt.subplot(3,3,i+1)\n",
    "    plt.imshow(X_train[i], cmap='gray', interpolation='none')\n",
    "    plt.title(\"Class {}\".format(y_train[i]))"
   ]
  },
  {
   "cell_type": "markdown",
   "metadata": {},
   "source": [
    "## How balanced is our training?\n",
    "Let's check how many examples we have for each class and calculate a class weight. This can be useful to tell the model to \"pay more attention\" during training to samples from an under-represented class."
   ]
  },
  {
   "cell_type": "code",
   "execution_count": 5,
   "metadata": {},
   "outputs": [
    {
     "name": "stdout",
     "output_type": "stream",
     "text": [
      "Train --->  {0: 4724, 1: 5393, 2: 4723, 3: 4881, 4: 4704, 5: 4313, 6: 4769, 7: 5001, 8: 4730, 9: 4762} \n",
      "\n",
      "{0: 1.0160880609652836, 1: 0.8900426478768775, 2: 1.0163031971204743, 3: 0.9834050399508297, 4: 1.0204081632653061, 5: 1.1129144447020636, 6: 1.0065003145313483, 7: 0.9598080383923215, 8: 1.014799154334038, 9: 1.0079798404031919} \n",
      "\n"
     ]
    }
   ],
   "source": [
    "unique, counts = np.unique(y_train, return_counts=True)\n",
    "print (\"Train ---> \", dict(zip(unique, counts)), \"\\n\")\n",
    "\n",
    "\n",
    "from sklearn.utils.class_weight import compute_class_weight\n",
    "class_weights = compute_class_weight('balanced', np.unique(y_train), y_train)\n",
    "train_class_weights = dict(enumerate(class_weights))\n",
    "print (train_class_weights, \"\\n\")"
   ]
  },
  {
   "cell_type": "code",
   "execution_count": 6,
   "metadata": {},
   "outputs": [
    {
     "name": "stdout",
     "output_type": "stream",
     "text": [
      "Test --->  {0: 980, 1: 1135, 2: 1032, 3: 1010, 4: 982, 5: 892, 6: 958, 7: 1028, 8: 974, 9: 1009} \n",
      "\n"
     ]
    }
   ],
   "source": [
    "#For the test set ---> We will use this to find the normalized accuracy\n",
    "unique, counts = np.unique(y_test, return_counts=True)\n",
    "print(\"Test ---> \", dict(zip(unique, counts)), \"\\n\")\n",
    "\n",
    "test_sample_per_class = counts"
   ]
  },
  {
   "cell_type": "markdown",
   "metadata": {},
   "source": [
    "## Format the data for training\n",
    "Our neural-network is going to take a single vector for each training example, so we need to reshape the input so that each 28x28 image becomes a single 784 dimensional vector. We'll also scale the inputs to be in the range [0-1] rather than [0-255]"
   ]
  },
  {
   "cell_type": "code",
   "execution_count": 7,
   "metadata": {},
   "outputs": [
    {
     "name": "stdout",
     "output_type": "stream",
     "text": [
      "Training matrix shape (48000, 784)\n",
      "Validation matrix shape (12000, 784)\n",
      "Testing matrix shape (10000, 784)\n"
     ]
    }
   ],
   "source": [
    "X_train = X_train.reshape(48000, 784)\n",
    "X_val = X_val.reshape(12000, 784)\n",
    "X_test = X_test.reshape(10000, 784)\n",
    "\n",
    "X_train = X_train.astype('float32')\n",
    "X_val = X_val.astype('float32')\n",
    "X_test = X_test.astype('float32')\n",
    "\n",
    "X_train /= 255\n",
    "X_val /= 255\n",
    "X_test /= 255\n",
    "\n",
    "print(\"Training matrix shape\", X_train.shape)\n",
    "print(\"Validation matrix shape\", X_val.shape)\n",
    "print(\"Testing matrix shape\", X_test.shape)"
   ]
  },
  {
   "cell_type": "markdown",
   "metadata": {},
   "source": [
    "Let's also modify the target matrices to be in the one-hot format, i.e.\n",
    "\n",
    "```\n",
    "0 -> [1, 0, 0, 0, 0, 0, 0, 0, 0]\n",
    "1 -> [0, 1, 0, 0, 0, 0, 0, 0, 0]\n",
    "2 -> [0, 0, 1, 0, 0, 0, 0, 0, 0]\n",
    "3 -> [0, 0, 0, 1, 0, 0, 0, 0, 0]\n",
    "...\n",
    "9 -> [0, 0, 0, 0, 0, 0, 0, 0, 1]\n",
    "```\n",
    "\n",
    "Keras already has a method to do this, `np_utils.to_categorical`:"
   ]
  },
  {
   "cell_type": "code",
   "execution_count": 8,
   "metadata": {},
   "outputs": [],
   "source": [
    "Y_train = np_utils.to_categorical(y_train, nb_classes)\n",
    "Y_val = np_utils.to_categorical(y_val, nb_classes)\n",
    "Y_test = np_utils.to_categorical(y_test, nb_classes)"
   ]
  },
  {
   "cell_type": "markdown",
   "metadata": {},
   "source": [
    "# Build the neural network\n",
    "Build the neural-network. Here we'll do a simple neural network with 4 layers (input + 2 hidden layers + output), using fully connected layers. In this type of layer, each neuron is connected to every input units. If we consider the first hidden layer, each of its neurons is connected to each pixel in the input image.\n",
    "<img src=\"figure.png\" />"
   ]
  },
  {
   "cell_type": "code",
   "execution_count": 9,
   "metadata": {},
   "outputs": [],
   "source": [
    "# The Sequential model is a linear stack of layers.\n",
    "model = Sequential()\n",
    "\n",
    "model.add(Dense(512, input_shape=(784,), activation='sigmoid'))\n",
    "model.add(Dense(512, activation='sigmoid'))\n",
    "\n",
    "# And connect it with the output layer, which has neurons equal to the number of classes\n",
    "#in our problem (10 neurons as it will predict one-hot vectors of size 10)\n",
    "model.add(Dense(10))\n",
    "\n",
    "# Finally, we will use the softmax activation\n",
    "model.add(Activation('softmax')) # \"softmax\", among other things, ensures the output \n",
    "                                 # is a valid probaility distribution, that is\n",
    "                                 # that its values are all non-negative and sum to 1."
   ]
  },
  {
   "cell_type": "markdown",
   "metadata": {},
   "source": [
    "## Compile the model\n",
    "Keras is built on top of TensorFlow or Theano, both packages that allow you to define a *computation graph* in Python, which they then compile and run efficiently on the CPU or GPU without the overhead of the Python interpreter.\n",
    "\n",
    "When compiing a model, Keras asks you to specify your **loss function**, your **optimizer** and some **metrics**. The loss function we'll use here is called *categorical crossentropy*, and is a loss function well-suited to comparing two probability distributions.\n",
    "\n",
    "Here our predictions are probability distributions across the ten different digits (e.g. \"we're 80% confident this image is a 3, 10% sure it's an 8, 5% it's a 2, etc.\"), and the target is a probability distribution with 100% for the correct category, and 0 for everything else. The cross-entropy is a measure of how different your predicted distribution is from the target distribution. [More detail at Wikipedia](https://en.wikipedia.org/wiki/Cross_entropy)\n",
    "\n",
    "The [optimizer](https://keras.io/optimizers) helps determine how quickly the model learns, how resistent it is to getting \"stuck\" or \"blowing up\". In this exercise we will use a variation of the Gradient Descent, called **Stocastic Gradient Descent (SGD)**. Instead of considering the whole training data at each iteration of the optimization, SGD only uses a batch sampled from the available training data at a time.\n",
    "\n",
    "Besides that, we can define a number of metrics (such as accuracy, mean squared error, mean absolute error etc) to follow during training. **However, by default Keras does not output the normalized accuracy!**"
   ]
  },
  {
   "cell_type": "code",
   "execution_count": 10,
   "metadata": {},
   "outputs": [],
   "source": [
    "sgd = optimizers.SGD(lr=0.01) #lr = learning rate\n",
    "model.compile(loss='categorical_crossentropy', optimizer=sgd, metrics=['accuracy'])"
   ]
  },
  {
   "cell_type": "markdown",
   "metadata": {},
   "source": [
    "## Train the model!\n",
    "This is the fun part: you can feed the training data loaded in earlier into this model and it will learn to classify digits. \n",
    "\n",
    "But first, let's understand what are these arguments:\n",
    "- **X_train & Y_train:** the training data and labels;\n",
    "- **batch_size:** instead of optimizing your network on all training data, we usually optimize it over batches (small samples from the training data). In this case, we will update our weights (backpropagation) after forwarding/processing 128 images;\n",
    "- **nb_epoch:** an epoch occurs when all your training data is processed/forwarded once. We are saying we will process our data 8 times;\n",
    "- **verbose:** show loss after each epoch;\n",
    "- **class_weight:** the weight of each class, considering they are not balanced. This will ponder the loss based on how frequent each class is;\n",
    "- **validation_data:** after each epoch our model will predict these data and output the loss and accuracy."
   ]
  },
  {
   "cell_type": "code",
   "execution_count": 11,
   "metadata": {},
   "outputs": [
    {
     "name": "stdout",
     "output_type": "stream",
     "text": [
      "Train on 48000 samples, validate on 12000 samples\n",
      "Epoch 1/50\n",
      "48000/48000 [==============================] - 4s 88us/step - loss: 2.2744 - acc: 0.1788 - val_loss: 2.2441 - val_acc: 0.2949\n",
      "Epoch 2/50\n",
      "48000/48000 [==============================] - 4s 81us/step - loss: 2.2136 - acc: 0.3876 - val_loss: 2.1774 - val_acc: 0.5602\n",
      "Epoch 3/50\n",
      "48000/48000 [==============================] - 4s 82us/step - loss: 2.1401 - acc: 0.5531 - val_loss: 2.0908 - val_acc: 0.6560\n",
      "Epoch 4/50\n",
      "48000/48000 [==============================] - 4s 86us/step - loss: 2.0430 - acc: 0.6335 - val_loss: 1.9793 - val_acc: 0.6675\n",
      "Epoch 5/50\n",
      "48000/48000 [==============================] - 4s 86us/step - loss: 1.9112 - acc: 0.6707 - val_loss: 1.8229 - val_acc: 0.7195\n",
      "Epoch 6/50\n",
      "48000/48000 [==============================] - 4s 86us/step - loss: 1.7409 - acc: 0.6986 - val_loss: 1.6348 - val_acc: 0.6948\n",
      "Epoch 7/50\n",
      "48000/48000 [==============================] - 4s 82us/step - loss: 1.5456 - acc: 0.7194 - val_loss: 1.4334 - val_acc: 0.7448\n",
      "Epoch 8/50\n",
      "48000/48000 [==============================] - 4s 82us/step - loss: 1.3510 - acc: 0.7433 - val_loss: 1.2503 - val_acc: 0.7747\n",
      "Epoch 9/50\n",
      "48000/48000 [==============================] - 4s 87us/step - loss: 1.1811 - acc: 0.7643 - val_loss: 1.0946 - val_acc: 0.7701\n",
      "Epoch 10/50\n",
      "48000/48000 [==============================] - 4s 83us/step - loss: 1.0440 - acc: 0.7801 - val_loss: 0.9757 - val_acc: 0.7748\n",
      "Epoch 11/50\n",
      "48000/48000 [==============================] - 4s 83us/step - loss: 0.9375 - acc: 0.7939 - val_loss: 0.8834 - val_acc: 0.7940\n",
      "Epoch 12/50\n",
      "48000/48000 [==============================] - 4s 88us/step - loss: 0.8533 - acc: 0.8052 - val_loss: 0.8098 - val_acc: 0.8099\n",
      "Epoch 13/50\n",
      "48000/48000 [==============================] - 4s 83us/step - loss: 0.7862 - acc: 0.8167 - val_loss: 0.7499 - val_acc: 0.8128\n",
      "Epoch 14/50\n",
      "48000/48000 [==============================] - 4s 87us/step - loss: 0.7316 - acc: 0.8250 - val_loss: 0.7016 - val_acc: 0.8283\n",
      "Epoch 15/50\n",
      "48000/48000 [==============================] - 4s 88us/step - loss: 0.6862 - acc: 0.8315 - val_loss: 0.6614 - val_acc: 0.8305\n",
      "Epoch 16/50\n",
      "48000/48000 [==============================] - 4s 87us/step - loss: 0.6484 - acc: 0.8391 - val_loss: 0.6272 - val_acc: 0.8388\n",
      "Epoch 17/50\n",
      "48000/48000 [==============================] - 4s 88us/step - loss: 0.6161 - acc: 0.8445 - val_loss: 0.5977 - val_acc: 0.8469\n",
      "Epoch 18/50\n",
      "48000/48000 [==============================] - 4s 87us/step - loss: 0.5885 - acc: 0.8499 - val_loss: 0.5739 - val_acc: 0.8511\n",
      "Epoch 19/50\n",
      "48000/48000 [==============================] - 4s 88us/step - loss: 0.5644 - acc: 0.8546 - val_loss: 0.5516 - val_acc: 0.8575\n",
      "Epoch 20/50\n",
      "48000/48000 [==============================] - 4s 88us/step - loss: 0.5437 - acc: 0.8593 - val_loss: 0.5343 - val_acc: 0.8604\n",
      "Epoch 21/50\n",
      "48000/48000 [==============================] - 4s 89us/step - loss: 0.5252 - acc: 0.8624 - val_loss: 0.5164 - val_acc: 0.8649\n",
      "Epoch 22/50\n",
      "48000/48000 [==============================] - 4s 90us/step - loss: 0.5091 - acc: 0.8659 - val_loss: 0.5013 - val_acc: 0.8682\n",
      "Epoch 23/50\n",
      "48000/48000 [==============================] - 4s 93us/step - loss: 0.4944 - acc: 0.8698 - val_loss: 0.4882 - val_acc: 0.8714\n",
      "Epoch 24/50\n",
      "48000/48000 [==============================] - 1672s 35ms/step - loss: 0.4813 - acc: 0.8721 - val_loss: 0.4764 - val_acc: 0.8732\n",
      "Epoch 25/50\n",
      "48000/48000 [==============================] - 5s 104us/step - loss: 0.4697 - acc: 0.8755 - val_loss: 0.4650 - val_acc: 0.8753\n",
      "Epoch 26/50\n",
      "48000/48000 [==============================] - 5s 105us/step - loss: 0.4592 - acc: 0.8774 - val_loss: 0.4562 - val_acc: 0.8769\n",
      "Epoch 27/50\n",
      "48000/48000 [==============================] - 4s 87us/step - loss: 0.4495 - acc: 0.8796 - val_loss: 0.4472 - val_acc: 0.8792\n",
      "Epoch 28/50\n",
      "48000/48000 [==============================] - 4s 82us/step - loss: 0.4408 - acc: 0.8814 - val_loss: 0.4389 - val_acc: 0.8809\n",
      "Epoch 29/50\n",
      "48000/48000 [==============================] - 4s 76us/step - loss: 0.4327 - acc: 0.8829 - val_loss: 0.4323 - val_acc: 0.8822\n",
      "Epoch 30/50\n",
      "48000/48000 [==============================] - 4s 84us/step - loss: 0.4256 - acc: 0.8844 - val_loss: 0.4255 - val_acc: 0.8816\n",
      "Epoch 31/50\n",
      "48000/48000 [==============================] - 4s 86us/step - loss: 0.4187 - acc: 0.8858 - val_loss: 0.4200 - val_acc: 0.8852\n",
      "Epoch 32/50\n",
      "48000/48000 [==============================] - 4s 82us/step - loss: 0.4124 - acc: 0.8870 - val_loss: 0.4134 - val_acc: 0.8863\n",
      "Epoch 33/50\n",
      "48000/48000 [==============================] - 4s 87us/step - loss: 0.4067 - acc: 0.8888 - val_loss: 0.4099 - val_acc: 0.8875\n",
      "Epoch 34/50\n",
      "48000/48000 [==============================] - 4s 86us/step - loss: 0.4017 - acc: 0.8891 - val_loss: 0.4034 - val_acc: 0.8885\n",
      "Epoch 35/50\n",
      "48000/48000 [==============================] - 4s 74us/step - loss: 0.3966 - acc: 0.8910 - val_loss: 0.3993 - val_acc: 0.8892\n",
      "Epoch 36/50\n",
      "48000/48000 [==============================] - 4s 74us/step - loss: 0.3920 - acc: 0.8917 - val_loss: 0.3947 - val_acc: 0.8903\n",
      "Epoch 37/50\n",
      "48000/48000 [==============================] - 4s 73us/step - loss: 0.3879 - acc: 0.8931 - val_loss: 0.3909 - val_acc: 0.8926\n",
      "Epoch 38/50\n",
      "48000/48000 [==============================] - 4s 74us/step - loss: 0.3839 - acc: 0.8940 - val_loss: 0.3873 - val_acc: 0.8924\n",
      "Epoch 39/50\n",
      "48000/48000 [==============================] - 4s 73us/step - loss: 0.3800 - acc: 0.8946 - val_loss: 0.3843 - val_acc: 0.8934\n",
      "Epoch 40/50\n",
      "48000/48000 [==============================] - 4s 74us/step - loss: 0.3763 - acc: 0.8951 - val_loss: 0.3808 - val_acc: 0.8949\n",
      "Epoch 41/50\n",
      "48000/48000 [==============================] - 4s 74us/step - loss: 0.3731 - acc: 0.8962 - val_loss: 0.3782 - val_acc: 0.8952\n",
      "Epoch 42/50\n",
      "48000/48000 [==============================] - 4s 74us/step - loss: 0.3702 - acc: 0.8973 - val_loss: 0.3754 - val_acc: 0.8948\n",
      "Epoch 43/50\n",
      "48000/48000 [==============================] - 4s 74us/step - loss: 0.3671 - acc: 0.8974 - val_loss: 0.3722 - val_acc: 0.8962\n",
      "Epoch 44/50\n",
      "48000/48000 [==============================] - 4s 74us/step - loss: 0.3642 - acc: 0.8981 - val_loss: 0.3706 - val_acc: 0.8950\n",
      "Epoch 45/50\n",
      "48000/48000 [==============================] - 4s 74us/step - loss: 0.3615 - acc: 0.8988 - val_loss: 0.3675 - val_acc: 0.8979\n",
      "Epoch 46/50\n",
      "48000/48000 [==============================] - 4s 75us/step - loss: 0.3590 - acc: 0.8994 - val_loss: 0.3661 - val_acc: 0.8969\n",
      "Epoch 47/50\n",
      "48000/48000 [==============================] - 4s 74us/step - loss: 0.3566 - acc: 0.8999 - val_loss: 0.3627 - val_acc: 0.8982\n",
      "Epoch 48/50\n",
      "48000/48000 [==============================] - 4s 76us/step - loss: 0.3542 - acc: 0.9007 - val_loss: 0.3607 - val_acc: 0.8988\n",
      "Epoch 49/50\n",
      "48000/48000 [==============================] - 4s 75us/step - loss: 0.3519 - acc: 0.9013 - val_loss: 0.3587 - val_acc: 0.8995\n",
      "Epoch 50/50\n",
      "48000/48000 [==============================] - 4s 90us/step - loss: 0.3498 - acc: 0.9019 - val_loss: 0.3571 - val_acc: 0.9000\n"
     ]
    },
    {
     "data": {
      "text/plain": [
       "<keras.callbacks.History at 0x7fe35c101e48>"
      ]
     },
     "execution_count": 11,
     "metadata": {},
     "output_type": "execute_result"
    }
   ],
   "source": [
    "model.fit(X_train, Y_train,\n",
    "          batch_size=128, epochs=50, verbose=1,\n",
    "          class_weight = train_class_weights, \n",
    "          validation_data=(X_val, Y_val))"
   ]
  },
  {
   "cell_type": "markdown",
   "metadata": {},
   "source": [
    "## Finally, evaluate its performance on the test data"
   ]
  },
  {
   "cell_type": "code",
   "execution_count": 12,
   "metadata": {},
   "outputs": [
    {
     "name": "stdout",
     "output_type": "stream",
     "text": [
      "10000/10000 [==============================] - 0s 47us/step\n",
      "Test loss: 0.3352061598181725\n",
      "Test accuracy (NOT NORMALIZED): 0.9044\n"
     ]
    }
   ],
   "source": [
    "score = model.evaluate(X_test, Y_test, verbose=1)\n",
    "print('Test loss:', score[0])\n",
    "print('Test accuracy (NOT NORMALIZED):', score[1])"
   ]
  },
  {
   "cell_type": "markdown",
   "metadata": {},
   "source": [
    "## Normalized Accuracy"
   ]
  },
  {
   "cell_type": "code",
   "execution_count": 13,
   "metadata": {},
   "outputs": [
    {
     "name": "stdout",
     "output_type": "stream",
     "text": [
      "{0: 0.9734693877551021, 1: 0.9682819383259912, 2: 0.8624031007751938, 3: 0.8900990099009901, 4: 0.9266802443991853, 5: 0.844170403587444, 6: 0.9258872651356994, 7: 0.9036964980544747, 8: 0.8603696098562629, 9: 0.8771060455896927} \n",
      "\n",
      "Normalized Acc -->  0.9032163503380037\n"
     ]
    }
   ],
   "source": [
    "# The predict_classes function outputs the highest probability class\n",
    "# according to the trained classifier for each input example.\n",
    "predicted_classes = model.predict_classes(X_test)\n",
    "\n",
    "#Get the class for each one_hot array of our test samples\n",
    "Y_test_classes = np.argmax(Y_test, axis=-1)\n",
    "\n",
    "accPerClass = []\n",
    "for classIdx in range(nb_classes):\n",
    "    idx = (Y_test_classes == classIdx)\n",
    "    \n",
    "    correctPred = np.sum(predicted_classes[idx] == Y_test_classes[idx])\n",
    "    accPerClass.append( correctPred / float(test_sample_per_class[classIdx]))\n",
    "    \n",
    "print (dict(zip(range(nb_classes),accPerClass)), \"\\n\")\n",
    "print (\"Normalized Acc --> \", np.mean(accPerClass))"
   ]
  },
  {
   "cell_type": "markdown",
   "metadata": {},
   "source": [
    "### Inspecting the output\n",
    "\n",
    "It's always a good idea to inspect the output and make sure everything looks sane. Here we'll look at some examples it gets right, and some examples it gets wrong."
   ]
  },
  {
   "cell_type": "code",
   "execution_count": 14,
   "metadata": {},
   "outputs": [],
   "source": [
    "# The predict_classes function outputs the highest probability class\n",
    "# according to the trained classifier for each input example.\n",
    "predicted_classes = model.predict_classes(X_test)\n",
    "\n",
    "# Check which items we got right / wrong\n",
    "correct_indices = np.nonzero(predicted_classes == y_test)[0]\n",
    "incorrect_indices = np.nonzero(predicted_classes != y_test)[0]"
   ]
  },
  {
   "cell_type": "code",
   "execution_count": 15,
   "metadata": {},
   "outputs": [
    {
     "data": {
      "image/png": "[encoded data removed]",
      "text/plain": [
       "<Figure size 1080x1080 with 9 Axes>"
      ]
     },
     "metadata": {},
     "output_type": "display_data"
    },
    {
     "data": {
      "image/png": "[encoded data removed]",
      "text/plain": [
       "<Figure size 1080x1080 with 9 Axes>"
      ]
     },
     "metadata": {},
     "output_type": "display_data"
    }
   ],
   "source": [
    "plt.figure()\n",
    "for i, correct in enumerate(correct_indices[:9]):\n",
    "    plt.subplot(3,3,i+1)\n",
    "    plt.imshow(X_test[correct].reshape(28,28), cmap='gray', interpolation='none')\n",
    "    plt.title(\"Predicted {}, Class {}\".format(predicted_classes[correct], y_test[correct]))\n",
    "    \n",
    "plt.figure()\n",
    "for i, incorrect in enumerate(incorrect_indices[:9]):\n",
    "    plt.subplot(3,3,i+1)\n",
    "    plt.imshow(X_test[incorrect].reshape(28,28), cmap='gray', interpolation='none')\n",
    "    plt.title(\"Predicted {}, Class {}\".format(predicted_classes[incorrect], y_test[incorrect]))"
   ]
  },
  {
   "cell_type": "markdown",
   "metadata": {},
   "source": [
    "# References"
   ]
  },
  {
   "cell_type": "markdown",
   "metadata": {},
   "source": [
    "There are lots of other great examples at the Keras homepage at http://keras.io and in the source code at https://github.com/fchollet/keras. Besides those, this notebook was adapted from [this](https://github.com/wxs/keras-mnist-tutorial/blob/master/MNIST%20in%20Keras.ipynb)."
   ]
  }
 ],
 "metadata": {
  "kernelspec": {
   "display_name": "Python 3",
   "language": "python",
   "name": "python3"
  },
  "language_info": {
   "codemirror_mode": {
    "name": "ipython",
    "version": 3
   },
   "file_extension": ".py",
   "mimetype": "text/x-python",
   "name": "python",
   "nbconvert_exporter": "python",
   "pygments_lexer": "ipython3",
   "version": "3.6.5"
  }
 },
 "nbformat": 4,
 "nbformat_minor": 1
}
