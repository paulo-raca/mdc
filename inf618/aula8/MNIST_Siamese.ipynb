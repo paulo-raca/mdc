{
 "cells": [
  {
   "cell_type": "code",
   "execution_count": null,
   "metadata": {},
   "outputs": [],
   "source": [
    "%matplotlib inline"
   ]
  },
  {
   "cell_type": "markdown",
   "metadata": {},
   "source": [
    "# Siamese CNN - MNIST\n",
    "In this exercise, we will employ a siamese structure to classify if two handwritten images from MNIST represent the same digit or not. \n",
    "\n",
    "The siamese architecture will have two branches that share weights and act as feature extrators to the input images. The output of our network is the euclidean distance of both feature vectors. Based on that, we can use a threshold (we will use 0.5 in this example) to determine if both images depict the same digit or not. \n",
    "\n",
    "\n",
    "# Imports"
   ]
  },
  {
   "cell_type": "code",
   "execution_count": null,
   "metadata": {},
   "outputs": [],
   "source": [
    "import random\n",
    "from keras.datasets import mnist\n",
    "from keras.models import Model\n",
    "from keras.layers import Input, Flatten, Dense, Dropout, Lambda, Convolution2D, MaxPooling2D\n",
    "from keras import backend as K\n",
    "import matplotlib.pyplot as plt\n",
    "import numpy as np"
   ]
  },
  {
   "cell_type": "markdown",
   "metadata": {},
   "source": [
    "# Utility functions"
   ]
  },
  {
   "cell_type": "code",
   "execution_count": null,
   "metadata": {},
   "outputs": [],
   "source": [
    "#Compute classification accuracy with a fixed threshold on distances.\n",
    "def accuracy(y_true, y_pred):\n",
    "    return K.mean(K.equal(y_true, K.cast(y_pred < 0.5, y_true.dtype)))\n",
    "\n",
    "#Compute the euclidean distance of two arrays\n",
    "def euclidean_distance(vects):\n",
    "    x, y = vects\n",
    "    return K.sqrt(K.maximum(K.sum(K.square(x - y), axis=1, keepdims=True), K.epsilon()))\n",
    "\n",
    "#Plot a pair of images\n",
    "def plotPair(img1, img2):\n",
    "    plt.subplot(1,2,1)\n",
    "    plt.imshow(img1.reshape(28,28), cmap='gray', interpolation='none')\n",
    "    plt.subplot(1,2,2)\n",
    "    plt.imshow(img2.reshape(28,28), cmap='gray', interpolation='none')\n",
    "    plt.show()"
   ]
  },
  {
   "cell_type": "markdown",
   "metadata": {},
   "source": [
    "# MNIST Dataset\n",
    "We will use our great friend MNIST for this task. In order to train our siamese network, we will need pairs of images, representing both \"classes\" of our new problem. As we will work with two images, our goal will be to tell if both of them represent the same digit (class 1) or not (class 0). \n",
    "\n",
    "We will need to create pairs from the images available in MNIST dataset. The `create_pairs` method makes random pairs of two images, alternating between positive and negative pairs (in order to have a balanced batch/dataset). We also pre-process our images just like we did before. "
   ]
  },
  {
   "cell_type": "code",
   "execution_count": null,
   "metadata": {},
   "outputs": [],
   "source": [
    "num_classes = 10\n",
    "input_shape = (28,28,1)\n",
    "def create_pairs(x, digit_indices):\n",
    "    '''Positive and negative pair creation.\n",
    "    Alternates between positive and negative pairs.\n",
    "    '''\n",
    "    pairs = []\n",
    "    labels = []\n",
    "    n = min([len(digit_indices[d]) for d in range(num_classes)]) - 1 #finds the class with fewer samples\n",
    "    for d in range(num_classes):\n",
    "        for i in range(n):\n",
    "            z1, z2 = digit_indices[d][i], digit_indices[d][i + 1] #positive pair\n",
    "            pairs += [[x[z1], x[z2]]]\n",
    "            inc = random.randrange(1, num_classes)\n",
    "            dn = (d + inc) % num_classes\n",
    "            z1, z2 = digit_indices[d][i], digit_indices[dn][i] #negative pair\n",
    "            pairs += [[x[z1], x[z2]]]\n",
    "            labels += [1, 0]\n",
    "    return np.array(pairs), np.array(labels)\n",
    "\n",
    "\n",
    "# the data, split between train and test sets\n",
    "(x_train, y_train), (x_test, y_test) = mnist.load_data()\n",
    "x_train = x_train.astype('float32')\n",
    "x_test = x_test.astype('float32')\n",
    "x_train /= 255\n",
    "x_test /= 255\n",
    "\n",
    "x_train = x_train.reshape(x_train.shape[0], 28, 28, 1)\n",
    "x_test = x_test.reshape(x_test.shape[0], 28, 28, 1)\n",
    "\n",
    "# create training+test positive and negative pairs\n",
    "digit_indices = [np.where(y_train == i)[0] for i in range(num_classes)] #find the ind\n",
    "tr_pairs, tr_y = create_pairs(x_train, digit_indices)\n",
    "\n",
    "digit_indices = [np.where(y_test == i)[0] for i in range(num_classes)]\n",
    "te_pairs, te_y = create_pairs(x_test, digit_indices)\n",
    "print(tr_pairs.shape, tr_y.shape)"
   ]
  },
  {
   "cell_type": "markdown",
   "metadata": {},
   "source": [
    "# Siamese Architecture\n",
    "We will use a simple CNN as our base model:"
   ]
  },
  {
   "cell_type": "code",
   "execution_count": null,
   "metadata": {},
   "outputs": [],
   "source": [
    "#Base network to be shared (eq. to feature extraction).\n",
    "def create_base_network(input_shape):\n",
    "    input = Input(shape=input_shape)\n",
    "    x = Convolution2D(10, (3,3), activation='relu')(input)\n",
    "    x = MaxPooling2D((2,2))(x)\n",
    "    x = Convolution2D(20, (3,3), activation='relu')(x)\n",
    "    x = MaxPooling2D((2,2))(x)\n",
    "    x = Flatten()(x)\n",
    "    x = Dropout(0.25)(x)\n",
    "    x = Dense(128, activation='relu')(x) # <-------- not the number of classes\n",
    "    return Model(input, x)"
   ]
  },
  {
   "cell_type": "markdown",
   "metadata": {},
   "source": [
    "We will instantiate a `base_network` using the method above. Note that we will only define a single `base_network`, even though it will process each of the input images. This way, its weights will be shared and, at the long run, our network will learn discriminative features to capture the difference/similarity between both images of the pair."
   ]
  },
  {
   "cell_type": "code",
   "execution_count": 1,
   "metadata": {},
   "outputs": [],
   "source": [
    "# network definition\n"
   ]
  },
  {
   "cell_type": "markdown",
   "metadata": {},
   "source": [
    "# Training\n",
    "\n",
    "For training, we will use the `contrastive_loss` which is a distance-based loss function. It receives the output of our network (euclidean distance) and the expected prediction (1 for pairs of the same digit and 0 for pairs of different digits). \n",
    "\n",
    "It will maximize the distance of negative pairs while minimizing the distance of positive pairs. The `margin` refers to the minimum distance aimed for the negative pairs. If a negative pair has a distance greater than the margin, it will not be accounted for the loss. \n",
    "\n",
    "<img src='contrastive_loss.png' width=80%>"
   ]
  },
  {
   "cell_type": "code",
   "execution_count": null,
   "metadata": {},
   "outputs": [],
   "source": [
    "def contrastive_loss(y_true, y_pred):\n",
    "    margin = 1\n",
    "    return K.mean(y_true * K.square(y_pred) + (1 - y_true) * K.square(K.maximum(margin - y_pred, 0)))\n",
    "\n",
    "# Compilation\n",
    "model.compile(loss=contrastive_loss, optimizer='adam', metrics=[accuracy]) #<-- different accuracy metric\n",
    "\n",
    "# Training\n",
    "model.fit([tr_pairs[:, 0], tr_pairs[:, 1]], tr_y,\n",
    "          batch_size=32, epochs=2,\n",
    "          validation_data=([te_pairs[:, 0], te_pairs[:, 1]], te_y))"
   ]
  },
  {
   "cell_type": "markdown",
   "metadata": {},
   "source": [
    "# Testing\n",
    "Let's examine some pairs and their distance:"
   ]
  },
  {
   "cell_type": "code",
   "execution_count": null,
   "metadata": {},
   "outputs": [],
   "source": [
    "from sklearn.cross_validation import StratifiedShuffleSplit    #Get a random image from each class in test\n",
    "splitIdx = StratifiedShuffleSplit(y_test, 1, test_size= 2 * num_classes)\n",
    "for _, idx in splitIdx:\n",
    "   Sx = x_test[idx]\n",
    "   Sy = y_test[idx]\n",
    "   \n",
    "a = list(zip(Sx, Sy))\n",
    "a.sort(key = lambda t: t[1])\n",
    "\n",
    "idx = 1   #<----- change here to test other digits, 0 to num_classes-1\n",
    "idx = idx * 2\n",
    "randomSample = a[idx][0]\n",
    "for i in list(range(0,2*num_classes)):\n",
    "   distance = model.predict([randomSample.reshape(1,28,28,1), a[i][0].reshape(1,28,28,1)])\n",
    "   print(\"Comparing \", a[idx][1], \" with \", a[i][1], \"\\t\\tEuclidean Distance = \", distance)\n",
    "   plotPair(randomSample, a[i][0])"
   ]
  },
  {
   "cell_type": "code",
   "execution_count": null,
   "metadata": {},
   "outputs": [],
   "source": []
  }
 ],
 "metadata": {
  "kernelspec": {
   "display_name": "Python 3",
   "language": "python",
   "name": "python3"
  },
  "language_info": {
   "codemirror_mode": {
    "name": "ipython",
    "version": 3
   },
   "file_extension": ".py",
   "mimetype": "text/x-python",
   "name": "python",
   "nbconvert_exporter": "python",
   "pygments_lexer": "ipython3",
   "version": "3.5.2"
  }
 },
 "nbformat": 4,
 "nbformat_minor": 2
}
