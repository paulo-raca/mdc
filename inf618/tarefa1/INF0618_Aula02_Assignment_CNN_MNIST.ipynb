{
 "cells": [
  {
   "cell_type": "code",
   "execution_count": 1,
   "metadata": {},
   "outputs": [],
   "source": [
    "%matplotlib inline"
   ]
  },
  {
   "cell_type": "markdown",
   "metadata": {},
   "source": [
    "# Assignment 01 - Exploring CNNs for MNIST\n",
    "\n",
    "In this assignment, we want you to modify the CNN architecture that we used in the last MNIST exercise, adding new layers and altering their hyperparameters. We have already loaded and preprocessed the data for you, so you can focus on the architecture and training of your network."
   ]
  },
  {
   "cell_type": "markdown",
   "metadata": {},
   "source": [
    "----------------------\n",
    "*** You do not need to alter the blocks `Imports`, `Load training data` and `Preprocessing` ***\n",
    "## Imports"
   ]
  },
  {
   "cell_type": "code",
   "execution_count": 2,
   "metadata": {},
   "outputs": [
    {
     "name": "stderr",
     "output_type": "stream",
     "text": [
      "Using TensorFlow backend.\n",
      "/opt/conda/lib/python3.6/site-packages/requests/__init__.py:80: RequestsDependencyWarning: urllib3 (1.23) or chardet (3.0.4) doesn't match a supported version!\n",
      "  RequestsDependencyWarning)\n"
     ]
    }
   ],
   "source": [
    "import numpy as np\n",
    "from random import shuffle, seed\n",
    "seed(42)  #keep this seed, in order to compare the results with your classmates\n",
    "\n",
    "import matplotlib.pyplot as plt\n",
    "plt.rcParams['figure.figsize'] = (15,15) # Make the figures a bit bigger\n",
    "\n",
    "from keras.datasets import mnist\n",
    "from keras.models import Sequential\n",
    "from keras.layers.core import Dense, Dropout, Flatten\n",
    "from keras.layers import Conv2D, MaxPooling2D\n",
    "from keras.utils import np_utils\n",
    "from keras import optimizers\n",
    "\n",
    "from keras.wrappers.scikit_learn import KerasClassifier\n",
    "from sklearn.model_selection import ParameterSampler"
   ]
  },
  {
   "cell_type": "markdown",
   "metadata": {},
   "source": [
    "## Load training data"
   ]
  },
  {
   "cell_type": "code",
   "execution_count": 3,
   "metadata": {},
   "outputs": [],
   "source": [
    "nb_classes = 10\n",
    "\n",
    "# the data, shuffled and split between trainVal and test sets\n",
    "(trainVal_data, trainVal_label), (X_test, y_test) = mnist.load_data()\n",
    "\n",
    "# We want now to split the trainVal data into train and validation sets\n",
    "nData = trainVal_data.shape[0]  #find the size of trainVal\n",
    "nTrain = int(nData * 0.8)  #80% to train, 20% to val\n",
    "\n",
    "randomIdx = list(range(nData))   #randomly select indexes\n",
    "shuffle(randomIdx)\n",
    "trainIdx = randomIdx[:nTrain] \n",
    "valIdx = randomIdx[nTrain:]\n",
    "\n",
    "# Split the data\n",
    "X_val, y_val = trainVal_data[valIdx], trainVal_label[valIdx]\n",
    "X_train, y_train = trainVal_data[trainIdx], trainVal_label[trainIdx]"
   ]
  },
  {
   "cell_type": "markdown",
   "metadata": {},
   "source": [
    "## Obtain class weights and samples per class"
   ]
  },
  {
   "cell_type": "code",
   "execution_count": 4,
   "metadata": {},
   "outputs": [
    {
     "name": "stdout",
     "output_type": "stream",
     "text": [
      "Train --->  {0: 4724, 1: 5393, 2: 4723, 3: 4881, 4: 4704, 5: 4313, 6: 4769, 7: 5001, 8: 4730, 9: 4762} \n",
      "\n"
     ]
    }
   ],
   "source": [
    "unique, counts = np.unique(y_train, return_counts=True)\n",
    "print(\"Train ---> \", dict(zip(unique, counts)), \"\\n\")\n",
    "\n",
    "\n",
    "from sklearn.utils.class_weight import compute_class_weight\n",
    "class_weights = compute_class_weight('balanced', np.unique(y_train), y_train)\n",
    "train_class_weights = dict(enumerate(class_weights))\n",
    "\n",
    "unique, counts = np.unique(y_test, return_counts=True)\n",
    "test_sample_per_class = counts"
   ]
  },
  {
   "cell_type": "markdown",
   "metadata": {},
   "source": [
    "## Preprocessing"
   ]
  },
  {
   "cell_type": "code",
   "execution_count": 5,
   "metadata": {},
   "outputs": [],
   "source": [
    "img_rows, img_cols = 28, 28\n",
    "\n",
    "#The first dimension refers to the number of images\n",
    "X_train = X_train.reshape(X_train.shape[0], img_rows, img_cols, 1)\n",
    "X_val = X_val.reshape(X_val.shape[0], img_rows, img_cols, 1)\n",
    "X_test = X_test.reshape(X_test.shape[0], img_rows, img_cols, 1)\n",
    "\n",
    "X_train = X_train.astype('float32')\n",
    "X_val = X_val.astype('float32')\n",
    "X_test = X_test.astype('float32')\n",
    "\n",
    "X_train /= 255\n",
    "X_val /= 255\n",
    "X_test /= 255\n",
    "\n",
    "Y_train = np_utils.to_categorical(y_train, nb_classes)\n",
    "Y_val = np_utils.to_categorical(y_val, nb_classes)\n",
    "Y_test = np_utils.to_categorical(y_test, nb_classes)"
   ]
  },
  {
   "cell_type": "markdown",
   "metadata": {},
   "source": [
    "------------------------------------------\n",
    "------------------------------------------\n",
    "------------------------------------------\n",
    "------------------------------------------"
   ]
  },
  {
   "cell_type": "markdown",
   "metadata": {},
   "source": [
    "# Task 1 [0.25 pts] - Add a fully-connected layer\n",
    "Let's investigate if the network gets better as we add more layers to it. We want you to add another fully-connected layer to the network from last exercise. Your network will have:\n",
    "- Convolutional layer with 10 filters of size 5x5 with ReLU activation;\n",
    "- Max pooling layer with kernel 2x2, that will reduce each spatial dimension by half (24x24 to 12x12);\n",
    "- An operation to flatten the feature maps into an array of size 10x12x12 = 1440\n",
    "- Dropout operation with probability 0.25, applied to flattened array\n",
    "- **Fully connected layer with 100 units/neurons and ReLU activation;**\n",
    "- Fully connected layer with units/neurons equal to the number of classes in our problem (in this case, 10);\n",
    "- Softmax activation on the last FC layer.\n",
    "\n",
    "The architecture will look like this:\n"
   ]
  },
  {
   "cell_type": "markdown",
   "metadata": {},
   "source": [
    "<img src=\"task1_cnn.png\" />"
   ]
  },
  {
   "cell_type": "code",
   "execution_count": 6,
   "metadata": {},
   "outputs": [],
   "source": [
    "model = Sequential()\n",
    "model.add(Conv2D(10, kernel_size=(5,5), activation='relu', input_shape=(28, 28, 1)))\n",
    "model.add(MaxPooling2D(pool_size=(2, 2)))\n",
    "model.add(Flatten())\n",
    "model.add(Dropout(0.25))\n",
    "model.add(Dense(100, activation='relu'))\n",
    "model.add(Dense(10, activation='softmax'))"
   ]
  },
  {
   "cell_type": "markdown",
   "metadata": {},
   "source": [
    "## Compile and train your model"
   ]
  },
  {
   "cell_type": "code",
   "execution_count": 7,
   "metadata": {},
   "outputs": [
    {
     "name": "stdout",
     "output_type": "stream",
     "text": [
      "Train on 48000 samples, validate on 12000 samples\n",
      "Epoch 1/1\n",
      "48000/48000 [==============================] - 17s 356us/step - loss: 1.4206 - acc: 0.5535 - val_loss: 0.4810 - val_acc: 0.8694\n"
     ]
    },
    {
     "data": {
      "text/plain": [
       "<keras.callbacks.History at 0x7f8faf931b38>"
      ]
     },
     "execution_count": 7,
     "metadata": {},
     "output_type": "execute_result"
    }
   ],
   "source": [
    "sgd = optimizers.SGD(lr=0.01) #lr = learning rate\n",
    "model.compile(loss='categorical_crossentropy', optimizer=sgd, metrics=['accuracy'])\n",
    "\n",
    "model.fit(X_train, Y_train,\n",
    "          batch_size=128, epochs=1, verbose=1,\n",
    "          class_weight = train_class_weights,\n",
    "          validation_data=(X_val, Y_val))"
   ]
  },
  {
   "cell_type": "markdown",
   "metadata": {},
   "source": [
    "## Evaluate on the test data"
   ]
  },
  {
   "cell_type": "code",
   "execution_count": 8,
   "metadata": {},
   "outputs": [
    {
     "name": "stdout",
     "output_type": "stream",
     "text": [
      "10000/10000 [==============================] - 2s 217us/step\n",
      "Test loss: 0.45398229122161865\n",
      "Test accuracy (NOT NORMALIZED): 0.8782\n",
      "{0: 0.9612244897959183, 1: 0.9744493392070485, 2: 0.8643410852713178, 3: 0.8643564356435643, 4: 0.8869653767820774, 5: 0.7219730941704036, 6: 0.9290187891440501, 7: 0.8628404669260701, 8: 0.8316221765913757, 9: 0.8592666005946482} \n",
      "\n",
      "Normalized Acc -->  0.8756057854126473\n"
     ]
    }
   ],
   "source": [
    "score = model.evaluate(X_test, Y_test, verbose=1)\n",
    "print('Test loss:', score[0])\n",
    "print('Test accuracy (NOT NORMALIZED):', score[1])\n",
    "\n",
    "\n",
    "predicted_classes = model.predict_classes(X_test)\n",
    "Y_test_classes = np.argmax(Y_test, axis=-1)\n",
    "\n",
    "accPerClass = []\n",
    "for classIdx in range(nb_classes):\n",
    "    idx = (Y_test_classes == classIdx)\n",
    "    \n",
    "    correctPred = np.sum(predicted_classes[idx] == Y_test_classes[idx])\n",
    "    accPerClass.append( correctPred / float(test_sample_per_class[classIdx]))\n",
    "    \n",
    "print(dict(zip(range(nb_classes),accPerClass)), \"\\n\")\n",
    "print(\"Normalized Acc --> \", np.mean(accPerClass))"
   ]
  },
  {
   "cell_type": "markdown",
   "metadata": {},
   "source": [
    "----------------\n",
    "----------------\n",
    "# Task 2 [0.25 pts] - Add another (conv + max pooling) layers\n",
    "We want you to add another convolutional layer, followed by a max pooling to the network. Your network will have:\n",
    "- Convolutional layer with 10 filters of size 5x5 with ReLU activation;\n",
    "- Max pooling layer with kernel 2x2, that will reduce each spatial dimension by half (24x24 to 12x12);\n",
    "- **Convolutional layer with 20 filters of size 5x5 with ReLU activation;**\n",
    "- **Max pooling layer with kernel 2x2, that will reduce each spatial dimension by half (8x8 to 4x4);**\n",
    "- An operation to flatten the feature maps into an array of size 20x4x4 = 320\n",
    "- Dropout operation with probability 0.25, applied to flattened array\n",
    "- Fully connected layer with units/neurons equal to the number of classes in our problem (in this case, 10);\n",
    "- Softmax activation on the last FC layer.\n",
    "\n",
    "The architecture will look like this:\n"
   ]
  },
  {
   "cell_type": "markdown",
   "metadata": {},
   "source": [
    "<img src=\"task2_cnn.png\" />"
   ]
  },
  {
   "cell_type": "code",
   "execution_count": 9,
   "metadata": {},
   "outputs": [],
   "source": [
    "model = Sequential()\n",
    "model.add(Conv2D(10, kernel_size=(5,5), activation='relu', input_shape=(28, 28, 1)))\n",
    "model.add(MaxPooling2D(pool_size=(2, 2)))\n",
    "model.add(Conv2D(20, kernel_size=(5,5), activation='relu'))\n",
    "model.add(MaxPooling2D(pool_size=(2, 2)))\n",
    "model.add(Flatten())\n",
    "model.add(Dropout(0.25))\n",
    "model.add(Dense(10, activation='softmax'))"
   ]
  },
  {
   "cell_type": "markdown",
   "metadata": {},
   "source": [
    "## Compile and train your model"
   ]
  },
  {
   "cell_type": "code",
   "execution_count": 10,
   "metadata": {},
   "outputs": [
    {
     "name": "stdout",
     "output_type": "stream",
     "text": [
      "Train on 48000 samples, validate on 12000 samples\n",
      "Epoch 1/1\n",
      "48000/48000 [==============================] - 24s 507us/step - loss: 1.6795 - acc: 0.4597 - val_loss: 0.6003 - val_acc: 0.8604\n"
     ]
    },
    {
     "data": {
      "text/plain": [
       "<keras.callbacks.History at 0x7f8f895a0940>"
      ]
     },
     "execution_count": 10,
     "metadata": {},
     "output_type": "execute_result"
    }
   ],
   "source": [
    "sgd = optimizers.SGD(lr=0.01) #lr = learning rate\n",
    "model.compile(loss='categorical_crossentropy', optimizer=sgd, metrics=['accuracy'])\n",
    "\n",
    "model.fit(X_train, Y_train,\n",
    "          batch_size=128, epochs=1, verbose=1,\n",
    "          class_weight = train_class_weights,\n",
    "          validation_data=(X_val, Y_val))"
   ]
  },
  {
   "cell_type": "markdown",
   "metadata": {},
   "source": [
    "## Evaluate on the test data"
   ]
  },
  {
   "cell_type": "code",
   "execution_count": 11,
   "metadata": {},
   "outputs": [
    {
     "name": "stdout",
     "output_type": "stream",
     "text": [
      "10000/10000 [==============================] - 3s 252us/step\n",
      "Test loss: 0.5765314473628997\n",
      "Test accuracy (NOT NORMALIZED): 0.8684\n",
      "{0: 0.9724489795918367, 1: 0.9700440528634361, 2: 0.8643410852713178, 3: 0.8198019801980198, 4: 0.8441955193482689, 5: 0.7600896860986547, 6: 0.9102296450939458, 7: 0.8608949416342413, 8: 0.7874743326488707, 9: 0.8711595639246779} \n",
      "\n",
      "Normalized Acc -->  0.8660679786673269\n"
     ]
    }
   ],
   "source": [
    "score = model.evaluate(X_test, Y_test, verbose=1)\n",
    "print('Test loss:', score[0])\n",
    "print('Test accuracy (NOT NORMALIZED):', score[1])\n",
    "\n",
    "\n",
    "predicted_classes = model.predict_classes(X_test)\n",
    "Y_test_classes = np.argmax(Y_test, axis=-1)\n",
    "\n",
    "accPerClass = []\n",
    "for classIdx in range(nb_classes):\n",
    "    idx = (Y_test_classes == classIdx)\n",
    "    \n",
    "    correctPred = np.sum(predicted_classes[idx] == Y_test_classes[idx])\n",
    "    accPerClass.append( correctPred / float(test_sample_per_class[classIdx]))\n",
    "    \n",
    "print(dict(zip(range(nb_classes),accPerClass)), \"\\n\")\n",
    "print(\"Normalized Acc --> \", np.mean(accPerClass))"
   ]
  },
  {
   "cell_type": "markdown",
   "metadata": {},
   "source": [
    "----------------\n",
    "----------------\n",
    "# Task 3 [0.25 pts] - Add Conv + MaxPool + FC\n",
    "Now combine tasks 1 and 2; adding the convolutional, max pooling and fc layer to your network. Your CNN will have:\n",
    "- Convolutional layer with 10 filters of size 5x5 with ReLU activation;\n",
    "- Max pooling layer with kernel 2x2, that will reduce each spatial dimension by half (24x24 to 12x12);\n",
    "- **Convolutional layer with 20 filters of size 5x5 with ReLU activation;**\n",
    "- **Max pooling layer with kernel 2x2, that will reduce each spatial dimension by half (8x8 to 4x4);**\n",
    "- An operation to flatten the feature maps into an array of size 20x4x4 = 320\n",
    "- Dropout operation with probability 0.25, applied to flattened array\n",
    "- **Fully connected layer with 100 units/neurons and ReLU activation;**\n",
    "- Fully connected layer with units/neurons equal to the number of classes in our problem (in this case, 10);\n",
    "- Softmax activation on the last FC layer.\n",
    "\n",
    "The architecture will look like this:\n"
   ]
  },
  {
   "cell_type": "markdown",
   "metadata": {},
   "source": [
    "<img src=\"task3_cnn.png\" />"
   ]
  },
  {
   "cell_type": "code",
   "execution_count": 12,
   "metadata": {},
   "outputs": [],
   "source": [
    "model = Sequential()\n",
    "model.add(Conv2D(10, kernel_size=(5,5), activation='relu', input_shape=(28, 28, 1)))\n",
    "model.add(MaxPooling2D(pool_size=(2, 2)))\n",
    "model.add(Conv2D(20, kernel_size=(5,5), activation='relu'))\n",
    "model.add(MaxPooling2D(pool_size=(2, 2)))\n",
    "model.add(Flatten())\n",
    "model.add(Dropout(0.25))\n",
    "model.add(Dense(100, activation='relu'))\n",
    "model.add(Dense(10, activation='softmax'))"
   ]
  },
  {
   "cell_type": "markdown",
   "metadata": {},
   "source": [
    "## Compile and train your model"
   ]
  },
  {
   "cell_type": "code",
   "execution_count": 13,
   "metadata": {},
   "outputs": [
    {
     "name": "stdout",
     "output_type": "stream",
     "text": [
      "Train on 48000 samples, validate on 12000 samples\n",
      "Epoch 1/1\n",
      "48000/48000 [==============================] - 25s 524us/step - loss: 1.6224 - acc: 0.4770 - val_loss: 0.5592 - val_acc: 0.8507\n"
     ]
    },
    {
     "data": {
      "text/plain": [
       "<keras.callbacks.History at 0x7f8f61e8f898>"
      ]
     },
     "execution_count": 13,
     "metadata": {},
     "output_type": "execute_result"
    }
   ],
   "source": [
    "sgd = optimizers.SGD(lr=0.01) #lr = learning rate\n",
    "model.compile(loss='categorical_crossentropy', optimizer=sgd, metrics=['accuracy'])\n",
    "\n",
    "model.fit(X_train, Y_train,\n",
    "          batch_size=128, epochs=1, verbose=1,\n",
    "          class_weight = train_class_weights,\n",
    "          validation_data=(X_val, Y_val))"
   ]
  },
  {
   "cell_type": "markdown",
   "metadata": {},
   "source": [
    "## Evaluate on the test data"
   ]
  },
  {
   "cell_type": "code",
   "execution_count": 14,
   "metadata": {},
   "outputs": [
    {
     "name": "stdout",
     "output_type": "stream",
     "text": [
      "10000/10000 [==============================] - 3s 251us/step\n",
      "Test loss: 0.5278754826545715\n",
      "Test accuracy (NOT NORMALIZED): 0.861\n",
      "{0: 0.9653061224489796, 1: 0.9348017621145375, 2: 0.875968992248062, 3: 0.8861386138613861, 4: 0.8615071283095723, 5: 0.7107623318385651, 6: 0.8778705636743215, 7: 0.8093385214007782, 8: 0.795687885010267, 9: 0.8681863230921705} \n",
      "\n",
      "Normalized Acc -->  0.858556824399864\n"
     ]
    }
   ],
   "source": [
    "score = model.evaluate(X_test, Y_test, verbose=1)\n",
    "print('Test loss:', score[0])\n",
    "print('Test accuracy (NOT NORMALIZED):', score[1])\n",
    "\n",
    "\n",
    "predicted_classes = model.predict_classes(X_test)\n",
    "Y_test_classes = np.argmax(Y_test, axis=-1)\n",
    "\n",
    "accPerClass = []\n",
    "for classIdx in range(nb_classes):\n",
    "    idx = (Y_test_classes == classIdx)\n",
    "    \n",
    "    correctPred = np.sum(predicted_classes[idx] == Y_test_classes[idx])\n",
    "    accPerClass.append( correctPred / float(test_sample_per_class[classIdx]))\n",
    "    \n",
    "print(dict(zip(range(nb_classes),accPerClass)), \"\\n\")\n",
    "print(\"Normalized Acc --> \", np.mean(accPerClass))"
   ]
  },
  {
   "cell_type": "markdown",
   "metadata": {},
   "source": [
    "----------------\n",
    "----------------\n",
    "# Task 4 [0.25 pts] - Implement a new modification\n",
    "Implement **one** modification to your network and evaluate it. Some possible alterations are:\n",
    "- Add more convolutional and/or max pooling layers;\n",
    "- Alter the kernel size and number of filters of the conv layers;\n",
    "- Try training with different batch sizes and higher number of epochs;\n",
    "- Try with different activations, besides ReLU and Softmax;\n",
    "- Try optimizing the CNN with a different loss;\n",
    "- Try different learning rates;"
   ]
  },
  {
   "cell_type": "code",
   "execution_count": 15,
   "metadata": {},
   "outputs": [],
   "source": [
    "# It's hard to decide what to change, and I don't really know how to get started\n",
    "# Let's just the existing network and randomly tweak it's parameters\n",
    "\n",
    "fib = [1, 2, 3, 5, 8, 13, 21, 34, 55, 89, 144, 233, 377, 610, 987, 1597, 2584]\n",
    "conv_filters = [x for x in fib if x >= 5 and x <= 25]\n",
    "kernel_sizes = [(x,x) for x in fib if x >= 2 and x <= 10]\n",
    "pool_sizes = [(x,x) for x in fib if x >= 1 and x <= 5]\n",
    "dropout_rate = [0, 0.125, 0.25, 0.5]\n",
    "dense_units = [x for x in fib if x >= 20 and x < 200]\n",
    "activations = ['relu', 'tanh', 'sigmoid']\n",
    "\n",
    "params = {\n",
    "    'conv1_filters': conv_filters,\n",
    "    'conv1_kernel': kernel_sizes,\n",
    "    'conv1_activation': activations,\n",
    "    'pool1_size': pool_sizes,\n",
    "    \n",
    "    'conv2_filters': conv_filters,\n",
    "    'conv2_kernel': kernel_sizes,\n",
    "    'conv2_activation': activations,\n",
    "    'pool2_size': pool_sizes,\n",
    "    \n",
    "    'dropout1_rate': dropout_rate,\n",
    "    \n",
    "    'dense1_units': dense_units,\n",
    "    'dense1_activation': activations,\n",
    "}\n",
    "\n",
    "def create_keras_model(\n",
    "        conv1_filters, conv1_kernel, conv1_activation, pool1_size,\n",
    "        conv2_filters, conv2_kernel, conv2_activation, pool2_size,\n",
    "        dropout1_rate, dense1_units, dense1_activation\n",
    "    ):\n",
    "    model = Sequential()\n",
    "    model.add(Conv2D(filters=conv1_filters, kernel_size=conv1_kernel, activation=conv1_activation, input_shape=(28, 28, 1)))\n",
    "    model.add(MaxPooling2D(pool_size=pool1_size))\n",
    "    model.add(Conv2D(filters=conv2_filters, kernel_size=conv2_kernel, activation=conv2_activation))\n",
    "    model.add(MaxPooling2D(pool_size=pool2_size))\n",
    "    model.add(Flatten())\n",
    "    model.add(Dropout(rate=dropout1_rate))\n",
    "    model.add(Dense(units=dense1_units, activation=dense1_activation))\n",
    "    model.add(Dense(10, activation='softmax'))\n",
    "    return model\n",
    "    \n",
    "def eval_model(model_params, batch_size=128, epochs=1, verbose=0):\n",
    "    model = create_keras_model(**model_params)\n",
    "    \n",
    "    sgd = optimizers.SGD(lr=0.01) #lr = learning rate\n",
    "    model.compile(loss='categorical_crossentropy', optimizer=sgd, metrics=['accuracy'])\n",
    "\n",
    "    model.fit(X_train, Y_train,\n",
    "              batch_size=batch_size, epochs=epochs, verbose=verbose,\n",
    "              class_weight = train_class_weights,\n",
    "              validation_data=(X_val, Y_val))\n",
    "    \n",
    "    predicted_classes = model.predict_classes(X_test)\n",
    "    Y_test_classes = np.argmax(Y_test, axis=-1)\n",
    "\n",
    "    accPerClass = []\n",
    "    for classIdx in range(nb_classes):\n",
    "        idx = (Y_test_classes == classIdx)\n",
    "\n",
    "        correctPred = np.sum(predicted_classes[idx] == Y_test_classes[idx])\n",
    "        accPerClass.append( correctPred / float(test_sample_per_class[classIdx]))\n",
    "    return model, np.mean(accPerClass)\n"
   ]
  },
  {
   "cell_type": "code",
   "execution_count": 16,
   "metadata": {},
   "outputs": [],
   "source": [
    "best_model = None\n",
    "best_model_params = None\n",
    "best_model_acc = 0"
   ]
  },
  {
   "cell_type": "code",
   "execution_count": 17,
   "metadata": {
    "scrolled": false
   },
   "outputs": [
    {
     "name": "stdout",
     "output_type": "stream",
     "text": [
      "[0000] Accuracy=0.80, Model={'pool2_size': (5, 5), 'pool1_size': (1, 1), 'dropout1_rate': 0.25, 'dense1_units': 21, 'dense1_activation': 'tanh', 'conv2_kernel': (3, 3), 'conv2_filters': 5, 'conv2_activation': 'relu', 'conv1_kernel': (3, 3), 'conv1_filters': 5, 'conv1_activation': 'tanh'} \n",
      "=== New Best!!! ===\n",
      "[0001] Accuracy=0.86, Model={'pool2_size': (1, 1), 'pool1_size': (3, 3), 'dropout1_rate': 0, 'dense1_units': 21, 'dense1_activation': 'relu', 'conv2_kernel': (2, 2), 'conv2_filters': 8, 'conv2_activation': 'tanh', 'conv1_kernel': (3, 3), 'conv1_filters': 21, 'conv1_activation': 'tanh'} \n",
      "=== New Best!!! ===\n",
      "[0002] Fail\n",
      "[0003] Accuracy=0.85, Model={'pool2_size': (3, 3), 'pool1_size': (1, 1), 'dropout1_rate': 0.125, 'dense1_units': 89, 'dense1_activation': 'tanh', 'conv2_kernel': (5, 5), 'conv2_filters': 5, 'conv2_activation': 'relu', 'conv1_kernel': (8, 8), 'conv1_filters': 21, 'conv1_activation': 'sigmoid'} \n",
      "[0004] Accuracy=0.45, Model={'pool2_size': (3, 3), 'pool1_size': (2, 2), 'dropout1_rate': 0.25, 'dense1_units': 55, 'dense1_activation': 'sigmoid', 'conv2_kernel': (8, 8), 'conv2_filters': 8, 'conv2_activation': 'tanh', 'conv1_kernel': (5, 5), 'conv1_filters': 8, 'conv1_activation': 'relu'} \n",
      "[0005] Accuracy=0.88, Model={'pool2_size': (1, 1), 'pool1_size': (1, 1), 'dropout1_rate': 0, 'dense1_units': 34, 'dense1_activation': 'sigmoid', 'conv2_kernel': (3, 3), 'conv2_filters': 5, 'conv2_activation': 'tanh', 'conv1_kernel': (8, 8), 'conv1_filters': 13, 'conv1_activation': 'relu'} \n",
      "=== New Best!!! ===\n",
      "[0006] Accuracy=0.66, Model={'pool2_size': (3, 3), 'pool1_size': (2, 2), 'dropout1_rate': 0.125, 'dense1_units': 55, 'dense1_activation': 'tanh', 'conv2_kernel': (5, 5), 'conv2_filters': 8, 'conv2_activation': 'sigmoid', 'conv1_kernel': (5, 5), 'conv1_filters': 21, 'conv1_activation': 'tanh'} \n",
      "[0007] Accuracy=0.48, Model={'pool2_size': (3, 3), 'pool1_size': (2, 2), 'dropout1_rate': 0, 'dense1_units': 55, 'dense1_activation': 'sigmoid', 'conv2_kernel': (8, 8), 'conv2_filters': 5, 'conv2_activation': 'tanh', 'conv1_kernel': (8, 8), 'conv1_filters': 8, 'conv1_activation': 'tanh'} \n",
      "[0008] Accuracy=0.92, Model={'pool2_size': (3, 3), 'pool1_size': (2, 2), 'dropout1_rate': 0.125, 'dense1_units': 55, 'dense1_activation': 'tanh', 'conv2_kernel': (5, 5), 'conv2_filters': 13, 'conv2_activation': 'tanh', 'conv1_kernel': (2, 2), 'conv1_filters': 13, 'conv1_activation': 'relu'} \n",
      "=== New Best!!! ===\n",
      "[0009] Fail\n",
      "[0010] Fail\n",
      "[0011] Accuracy=0.91, Model={'pool2_size': (1, 1), 'pool1_size': (3, 3), 'dropout1_rate': 0.5, 'dense1_units': 21, 'dense1_activation': 'tanh', 'conv2_kernel': (3, 3), 'conv2_filters': 21, 'conv2_activation': 'relu', 'conv1_kernel': (8, 8), 'conv1_filters': 13, 'conv1_activation': 'relu'} \n",
      "[0012] Accuracy=0.15, Model={'pool2_size': (5, 5), 'pool1_size': (2, 2), 'dropout1_rate': 0.25, 'dense1_units': 21, 'dense1_activation': 'sigmoid', 'conv2_kernel': (5, 5), 'conv2_filters': 8, 'conv2_activation': 'relu', 'conv1_kernel': (2, 2), 'conv1_filters': 21, 'conv1_activation': 'relu'} \n",
      "[0013] Accuracy=0.84, Model={'pool2_size': (2, 2), 'pool1_size': (3, 3), 'dropout1_rate': 0, 'dense1_units': 55, 'dense1_activation': 'tanh', 'conv2_kernel': (2, 2), 'conv2_filters': 5, 'conv2_activation': 'tanh', 'conv1_kernel': (2, 2), 'conv1_filters': 13, 'conv1_activation': 'relu'} \n",
      "[0014] Accuracy=0.66, Model={'pool2_size': (5, 5), 'pool1_size': (1, 1), 'dropout1_rate': 0.125, 'dense1_units': 34, 'dense1_activation': 'sigmoid', 'conv2_kernel': (3, 3), 'conv2_filters': 21, 'conv2_activation': 'relu', 'conv1_kernel': (8, 8), 'conv1_filters': 5, 'conv1_activation': 'relu'} \n",
      "[0015] Accuracy=0.28, Model={'pool2_size': (3, 3), 'pool1_size': (1, 1), 'dropout1_rate': 0.125, 'dense1_units': 21, 'dense1_activation': 'relu', 'conv2_kernel': (5, 5), 'conv2_filters': 21, 'conv2_activation': 'sigmoid', 'conv1_kernel': (8, 8), 'conv1_filters': 8, 'conv1_activation': 'relu'} \n",
      "[0016] Accuracy=0.10, Model={'pool2_size': (5, 5), 'pool1_size': (1, 1), 'dropout1_rate': 0.5, 'dense1_units': 21, 'dense1_activation': 'relu', 'conv2_kernel': (5, 5), 'conv2_filters': 13, 'conv2_activation': 'sigmoid', 'conv1_kernel': (3, 3), 'conv1_filters': 5, 'conv1_activation': 'relu'} \n",
      "[0017] Accuracy=0.92, Model={'pool2_size': (3, 3), 'pool1_size': (1, 1), 'dropout1_rate': 0.25, 'dense1_units': 89, 'dense1_activation': 'tanh', 'conv2_kernel': (8, 8), 'conv2_filters': 5, 'conv2_activation': 'relu', 'conv1_kernel': (3, 3), 'conv1_filters': 5, 'conv1_activation': 'tanh'} \n",
      "=== New Best!!! ===\n",
      "[0018] Accuracy=0.83, Model={'pool2_size': (1, 1), 'pool1_size': (2, 2), 'dropout1_rate': 0, 'dense1_units': 34, 'dense1_activation': 'tanh', 'conv2_kernel': (2, 2), 'conv2_filters': 5, 'conv2_activation': 'sigmoid', 'conv1_kernel': (5, 5), 'conv1_filters': 13, 'conv1_activation': 'tanh'} \n",
      "[0019] Accuracy=0.84, Model={'pool2_size': (1, 1), 'pool1_size': (3, 3), 'dropout1_rate': 0.125, 'dense1_units': 144, 'dense1_activation': 'tanh', 'conv2_kernel': (5, 5), 'conv2_filters': 21, 'conv2_activation': 'tanh', 'conv1_kernel': (3, 3), 'conv1_filters': 5, 'conv1_activation': 'sigmoid'} \n",
      "[0020] Accuracy=0.73, Model={'pool2_size': (1, 1), 'pool1_size': (2, 2), 'dropout1_rate': 0.5, 'dense1_units': 21, 'dense1_activation': 'sigmoid', 'conv2_kernel': (2, 2), 'conv2_filters': 8, 'conv2_activation': 'relu', 'conv1_kernel': (8, 8), 'conv1_filters': 8, 'conv1_activation': 'tanh'} \n",
      "[0021] Accuracy=0.18, Model={'pool2_size': (3, 3), 'pool1_size': (2, 2), 'dropout1_rate': 0.5, 'dense1_units': 89, 'dense1_activation': 'sigmoid', 'conv2_kernel': (2, 2), 'conv2_filters': 21, 'conv2_activation': 'sigmoid', 'conv1_kernel': (2, 2), 'conv1_filters': 21, 'conv1_activation': 'relu'} \n",
      "[0022] Fail\n",
      "[0023] Accuracy=0.83, Model={'pool2_size': (3, 3), 'pool1_size': (1, 1), 'dropout1_rate': 0, 'dense1_units': 144, 'dense1_activation': 'sigmoid', 'conv2_kernel': (5, 5), 'conv2_filters': 8, 'conv2_activation': 'tanh', 'conv1_kernel': (3, 3), 'conv1_filters': 21, 'conv1_activation': 'tanh'} \n",
      "[0024] Accuracy=0.10, Model={'pool2_size': (2, 2), 'pool1_size': (2, 2), 'dropout1_rate': 0.25, 'dense1_units': 144, 'dense1_activation': 'sigmoid', 'conv2_kernel': (5, 5), 'conv2_filters': 8, 'conv2_activation': 'sigmoid', 'conv1_kernel': (3, 3), 'conv1_filters': 13, 'conv1_activation': 'sigmoid'} \n",
      "[0025] Accuracy=0.71, Model={'pool2_size': (3, 3), 'pool1_size': (2, 2), 'dropout1_rate': 0.125, 'dense1_units': 89, 'dense1_activation': 'sigmoid', 'conv2_kernel': (3, 3), 'conv2_filters': 21, 'conv2_activation': 'tanh', 'conv1_kernel': (5, 5), 'conv1_filters': 21, 'conv1_activation': 'relu'} \n",
      "[0026] Fail\n",
      "[0027] Accuracy=0.57, Model={'pool2_size': (3, 3), 'pool1_size': (2, 2), 'dropout1_rate': 0.125, 'dense1_units': 21, 'dense1_activation': 'sigmoid', 'conv2_kernel': (8, 8), 'conv2_filters': 13, 'conv2_activation': 'relu', 'conv1_kernel': (5, 5), 'conv1_filters': 5, 'conv1_activation': 'tanh'} \n",
      "[0028] Accuracy=0.84, Model={'pool2_size': (1, 1), 'pool1_size': (2, 2), 'dropout1_rate': 0, 'dense1_units': 34, 'dense1_activation': 'sigmoid', 'conv2_kernel': (3, 3), 'conv2_filters': 13, 'conv2_activation': 'relu', 'conv1_kernel': (8, 8), 'conv1_filters': 8, 'conv1_activation': 'tanh'} \n",
      "[0029] Accuracy=0.87, Model={'pool2_size': (1, 1), 'pool1_size': (2, 2), 'dropout1_rate': 0.125, 'dense1_units': 34, 'dense1_activation': 'relu', 'conv2_kernel': (2, 2), 'conv2_filters': 8, 'conv2_activation': 'tanh', 'conv1_kernel': (5, 5), 'conv1_filters': 13, 'conv1_activation': 'sigmoid'} \n",
      "[0030] Accuracy=0.10, Model={'pool2_size': (3, 3), 'pool1_size': (2, 2), 'dropout1_rate': 0, 'dense1_units': 55, 'dense1_activation': 'tanh', 'conv2_kernel': (3, 3), 'conv2_filters': 5, 'conv2_activation': 'sigmoid', 'conv1_kernel': (3, 3), 'conv1_filters': 5, 'conv1_activation': 'sigmoid'} \n",
      "[0031] Accuracy=0.93, Model={'pool2_size': (5, 5), 'pool1_size': (1, 1), 'dropout1_rate': 0, 'dense1_units': 21, 'dense1_activation': 'relu', 'conv2_kernel': (2, 2), 'conv2_filters': 21, 'conv2_activation': 'relu', 'conv1_kernel': (8, 8), 'conv1_filters': 21, 'conv1_activation': 'relu'} \n",
      "=== New Best!!! ===\n",
      "[0032] Accuracy=0.12, Model={'pool2_size': (5, 5), 'pool1_size': (2, 2), 'dropout1_rate': 0.25, 'dense1_units': 21, 'dense1_activation': 'sigmoid', 'conv2_kernel': (5, 5), 'conv2_filters': 21, 'conv2_activation': 'sigmoid', 'conv1_kernel': (5, 5), 'conv1_filters': 5, 'conv1_activation': 'tanh'} \n"
     ]
    },
    {
     "name": "stdout",
     "output_type": "stream",
     "text": [
      "[0033] Accuracy=0.93, Model={'pool2_size': (3, 3), 'pool1_size': (1, 1), 'dropout1_rate': 0.25, 'dense1_units': 55, 'dense1_activation': 'tanh', 'conv2_kernel': (2, 2), 'conv2_filters': 8, 'conv2_activation': 'relu', 'conv1_kernel': (8, 8), 'conv1_filters': 21, 'conv1_activation': 'relu'} \n",
      "=== New Best!!! ===\n",
      "[0034] Accuracy=0.93, Model={'pool2_size': (1, 1), 'pool1_size': (3, 3), 'dropout1_rate': 0.25, 'dense1_units': 144, 'dense1_activation': 'tanh', 'conv2_kernel': (3, 3), 'conv2_filters': 21, 'conv2_activation': 'relu', 'conv1_kernel': (8, 8), 'conv1_filters': 5, 'conv1_activation': 'relu'} \n",
      "[0035] Accuracy=0.88, Model={'pool2_size': (2, 2), 'pool1_size': (2, 2), 'dropout1_rate': 0, 'dense1_units': 55, 'dense1_activation': 'tanh', 'conv2_kernel': (8, 8), 'conv2_filters': 5, 'conv2_activation': 'relu', 'conv1_kernel': (2, 2), 'conv1_filters': 13, 'conv1_activation': 'tanh'} \n",
      "[0036] Fail\n",
      "[0037] Accuracy=0.16, Model={'pool2_size': (2, 2), 'pool1_size': (5, 5), 'dropout1_rate': 0.125, 'dense1_units': 21, 'dense1_activation': 'tanh', 'conv2_kernel': (2, 2), 'conv2_filters': 13, 'conv2_activation': 'tanh', 'conv1_kernel': (2, 2), 'conv1_filters': 13, 'conv1_activation': 'sigmoid'} \n",
      "[0038] Fail\n",
      "[0039] Accuracy=0.85, Model={'pool2_size': (2, 2), 'pool1_size': (1, 1), 'dropout1_rate': 0, 'dense1_units': 21, 'dense1_activation': 'tanh', 'conv2_kernel': (2, 2), 'conv2_filters': 5, 'conv2_activation': 'sigmoid', 'conv1_kernel': (8, 8), 'conv1_filters': 5, 'conv1_activation': 'tanh'} \n",
      "[0040] Accuracy=0.10, Model={'pool2_size': (3, 3), 'pool1_size': (3, 3), 'dropout1_rate': 0.125, 'dense1_units': 144, 'dense1_activation': 'sigmoid', 'conv2_kernel': (2, 2), 'conv2_filters': 13, 'conv2_activation': 'sigmoid', 'conv1_kernel': (3, 3), 'conv1_filters': 21, 'conv1_activation': 'sigmoid'} \n",
      "[0041] Accuracy=0.86, Model={'pool2_size': (3, 3), 'pool1_size': (1, 1), 'dropout1_rate': 0.25, 'dense1_units': 89, 'dense1_activation': 'tanh', 'conv2_kernel': (3, 3), 'conv2_filters': 5, 'conv2_activation': 'tanh', 'conv1_kernel': (5, 5), 'conv1_filters': 21, 'conv1_activation': 'sigmoid'} \n",
      "[0042] Accuracy=0.10, Model={'pool2_size': (2, 2), 'pool1_size': (5, 5), 'dropout1_rate': 0.125, 'dense1_units': 34, 'dense1_activation': 'sigmoid', 'conv2_kernel': (3, 3), 'conv2_filters': 8, 'conv2_activation': 'relu', 'conv1_kernel': (2, 2), 'conv1_filters': 13, 'conv1_activation': 'sigmoid'} \n",
      "[0043] Accuracy=0.81, Model={'pool2_size': (1, 1), 'pool1_size': (3, 3), 'dropout1_rate': 0, 'dense1_units': 55, 'dense1_activation': 'relu', 'conv2_kernel': (2, 2), 'conv2_filters': 8, 'conv2_activation': 'sigmoid', 'conv1_kernel': (5, 5), 'conv1_filters': 21, 'conv1_activation': 'relu'} \n",
      "[0044] Accuracy=0.86, Model={'pool2_size': (1, 1), 'pool1_size': (2, 2), 'dropout1_rate': 0.25, 'dense1_units': 144, 'dense1_activation': 'relu', 'conv2_kernel': (8, 8), 'conv2_filters': 8, 'conv2_activation': 'sigmoid', 'conv1_kernel': (5, 5), 'conv1_filters': 21, 'conv1_activation': 'relu'} \n",
      "[0045] Accuracy=0.94, Model={'pool2_size': (1, 1), 'pool1_size': (1, 1), 'dropout1_rate': 0.25, 'dense1_units': 144, 'dense1_activation': 'tanh', 'conv2_kernel': (2, 2), 'conv2_filters': 5, 'conv2_activation': 'relu', 'conv1_kernel': (8, 8), 'conv1_filters': 13, 'conv1_activation': 'relu'} \n",
      "=== New Best!!! ===\n",
      "[0046] Accuracy=0.34, Model={'pool2_size': (5, 5), 'pool1_size': (2, 2), 'dropout1_rate': 0.5, 'dense1_units': 34, 'dense1_activation': 'relu', 'conv2_kernel': (2, 2), 'conv2_filters': 13, 'conv2_activation': 'tanh', 'conv1_kernel': (8, 8), 'conv1_filters': 13, 'conv1_activation': 'tanh'} \n",
      "[0047] Fail\n",
      "[0048] Accuracy=0.56, Model={'pool2_size': (1, 1), 'pool1_size': (5, 5), 'dropout1_rate': 0.25, 'dense1_units': 144, 'dense1_activation': 'sigmoid', 'conv2_kernel': (2, 2), 'conv2_filters': 8, 'conv2_activation': 'relu', 'conv1_kernel': (3, 3), 'conv1_filters': 13, 'conv1_activation': 'relu'} \n",
      "[0049] Accuracy=0.90, Model={'pool2_size': (2, 2), 'pool1_size': (1, 1), 'dropout1_rate': 0.25, 'dense1_units': 21, 'dense1_activation': 'tanh', 'conv2_kernel': (2, 2), 'conv2_filters': 13, 'conv2_activation': 'tanh', 'conv1_kernel': (2, 2), 'conv1_filters': 21, 'conv1_activation': 'tanh'} \n",
      "[0050] Accuracy=0.82, Model={'pool2_size': (5, 5), 'pool1_size': (1, 1), 'dropout1_rate': 0.5, 'dense1_units': 89, 'dense1_activation': 'relu', 'conv2_kernel': (3, 3), 'conv2_filters': 5, 'conv2_activation': 'tanh', 'conv1_kernel': (2, 2), 'conv1_filters': 8, 'conv1_activation': 'relu'} \n",
      "[0051] Accuracy=0.65, Model={'pool2_size': (1, 1), 'pool1_size': (3, 3), 'dropout1_rate': 0.5, 'dense1_units': 89, 'dense1_activation': 'relu', 'conv2_kernel': (8, 8), 'conv2_filters': 8, 'conv2_activation': 'tanh', 'conv1_kernel': (3, 3), 'conv1_filters': 5, 'conv1_activation': 'tanh'} \n",
      "[0052] Accuracy=0.91, Model={'pool2_size': (1, 1), 'pool1_size': (2, 2), 'dropout1_rate': 0.125, 'dense1_units': 89, 'dense1_activation': 'relu', 'conv2_kernel': (8, 8), 'conv2_filters': 5, 'conv2_activation': 'relu', 'conv1_kernel': (5, 5), 'conv1_filters': 13, 'conv1_activation': 'tanh'} \n",
      "[0053] Accuracy=0.43, Model={'pool2_size': (2, 2), 'pool1_size': (1, 1), 'dropout1_rate': 0.125, 'dense1_units': 21, 'dense1_activation': 'tanh', 'conv2_kernel': (5, 5), 'conv2_filters': 8, 'conv2_activation': 'sigmoid', 'conv1_kernel': (8, 8), 'conv1_filters': 13, 'conv1_activation': 'sigmoid'} \n",
      "[0054] Accuracy=0.86, Model={'pool2_size': (3, 3), 'pool1_size': (2, 2), 'dropout1_rate': 0, 'dense1_units': 34, 'dense1_activation': 'tanh', 'conv2_kernel': (5, 5), 'conv2_filters': 5, 'conv2_activation': 'relu', 'conv1_kernel': (3, 3), 'conv1_filters': 5, 'conv1_activation': 'tanh'} \n",
      "[0055] Accuracy=0.92, Model={'pool2_size': (1, 1), 'pool1_size': (1, 1), 'dropout1_rate': 0.25, 'dense1_units': 21, 'dense1_activation': 'tanh', 'conv2_kernel': (2, 2), 'conv2_filters': 13, 'conv2_activation': 'relu', 'conv1_kernel': (5, 5), 'conv1_filters': 21, 'conv1_activation': 'tanh'} \n",
      "[0056] Accuracy=0.27, Model={'pool2_size': (2, 2), 'pool1_size': (5, 5), 'dropout1_rate': 0.25, 'dense1_units': 89, 'dense1_activation': 'relu', 'conv2_kernel': (3, 3), 'conv2_filters': 5, 'conv2_activation': 'sigmoid', 'conv1_kernel': (5, 5), 'conv1_filters': 21, 'conv1_activation': 'relu'} \n",
      "[0057] Accuracy=0.15, Model={'pool2_size': (3, 3), 'pool1_size': (2, 2), 'dropout1_rate': 0, 'dense1_units': 34, 'dense1_activation': 'sigmoid', 'conv2_kernel': (2, 2), 'conv2_filters': 5, 'conv2_activation': 'sigmoid', 'conv1_kernel': (2, 2), 'conv1_filters': 13, 'conv1_activation': 'relu'} \n",
      "[0058] Accuracy=0.12, Model={'pool2_size': (2, 2), 'pool1_size': (3, 3), 'dropout1_rate': 0.125, 'dense1_units': 21, 'dense1_activation': 'tanh', 'conv2_kernel': (5, 5), 'conv2_filters': 5, 'conv2_activation': 'sigmoid', 'conv1_kernel': (5, 5), 'conv1_filters': 21, 'conv1_activation': 'sigmoid'} \n",
      "[0059] Fail\n",
      "[0060] Fail\n",
      "[0061] Accuracy=0.33, Model={'pool2_size': (3, 3), 'pool1_size': (3, 3), 'dropout1_rate': 0.25, 'dense1_units': 144, 'dense1_activation': 'relu', 'conv2_kernel': (5, 5), 'conv2_filters': 21, 'conv2_activation': 'tanh', 'conv1_kernel': (5, 5), 'conv1_filters': 8, 'conv1_activation': 'sigmoid'} \n",
      "[0062] Accuracy=0.88, Model={'pool2_size': (2, 2), 'pool1_size': (1, 1), 'dropout1_rate': 0.5, 'dense1_units': 144, 'dense1_activation': 'sigmoid', 'conv2_kernel': (8, 8), 'conv2_filters': 8, 'conv2_activation': 'relu', 'conv1_kernel': (2, 2), 'conv1_filters': 13, 'conv1_activation': 'relu'} \n",
      "[0063] Fail\n",
      "[0064] Accuracy=0.96, Model={'pool2_size': (3, 3), 'pool1_size': (1, 1), 'dropout1_rate': 0.25, 'dense1_units': 144, 'dense1_activation': 'tanh', 'conv2_kernel': (8, 8), 'conv2_filters': 21, 'conv2_activation': 'relu', 'conv1_kernel': (2, 2), 'conv1_filters': 5, 'conv1_activation': 'relu'} \n",
      "=== New Best!!! ===\n",
      "[0065] Accuracy=0.14, Model={'pool2_size': (5, 5), 'pool1_size': (3, 3), 'dropout1_rate': 0, 'dense1_units': 34, 'dense1_activation': 'relu', 'conv2_kernel': (2, 2), 'conv2_filters': 8, 'conv2_activation': 'sigmoid', 'conv1_kernel': (5, 5), 'conv1_filters': 13, 'conv1_activation': 'relu'} \n",
      "[0066] Accuracy=0.88, Model={'pool2_size': (5, 5), 'pool1_size': (1, 1), 'dropout1_rate': 0.5, 'dense1_units': 34, 'dense1_activation': 'tanh', 'conv2_kernel': (3, 3), 'conv2_filters': 21, 'conv2_activation': 'tanh', 'conv1_kernel': (2, 2), 'conv1_filters': 21, 'conv1_activation': 'relu'} \n"
     ]
    },
    {
     "name": "stdout",
     "output_type": "stream",
     "text": [
      "[0067] Accuracy=0.19, Model={'pool2_size': (1, 1), 'pool1_size': (2, 2), 'dropout1_rate': 0.5, 'dense1_units': 144, 'dense1_activation': 'sigmoid', 'conv2_kernel': (2, 2), 'conv2_filters': 5, 'conv2_activation': 'sigmoid', 'conv1_kernel': (3, 3), 'conv1_filters': 8, 'conv1_activation': 'relu'} \n",
      "[0068] Accuracy=0.18, Model={'pool2_size': (3, 3), 'pool1_size': (3, 3), 'dropout1_rate': 0.5, 'dense1_units': 144, 'dense1_activation': 'relu', 'conv2_kernel': (5, 5), 'conv2_filters': 8, 'conv2_activation': 'tanh', 'conv1_kernel': (2, 2), 'conv1_filters': 13, 'conv1_activation': 'sigmoid'} \n",
      "[0069] Accuracy=0.84, Model={'pool2_size': (5, 5), 'pool1_size': (2, 2), 'dropout1_rate': 0, 'dense1_units': 34, 'dense1_activation': 'tanh', 'conv2_kernel': (2, 2), 'conv2_filters': 5, 'conv2_activation': 'relu', 'conv1_kernel': (5, 5), 'conv1_filters': 21, 'conv1_activation': 'relu'} \n",
      "[0070] Accuracy=0.19, Model={'pool2_size': (2, 2), 'pool1_size': (3, 3), 'dropout1_rate': 0.5, 'dense1_units': 21, 'dense1_activation': 'tanh', 'conv2_kernel': (3, 3), 'conv2_filters': 13, 'conv2_activation': 'sigmoid', 'conv1_kernel': (8, 8), 'conv1_filters': 13, 'conv1_activation': 'sigmoid'} \n",
      "[0071] Accuracy=0.66, Model={'pool2_size': (1, 1), 'pool1_size': (3, 3), 'dropout1_rate': 0.125, 'dense1_units': 55, 'dense1_activation': 'relu', 'conv2_kernel': (8, 8), 'conv2_filters': 21, 'conv2_activation': 'tanh', 'conv1_kernel': (5, 5), 'conv1_filters': 8, 'conv1_activation': 'sigmoid'} \n",
      "[0072] Accuracy=0.61, Model={'pool2_size': (3, 3), 'pool1_size': (2, 2), 'dropout1_rate': 0.5, 'dense1_units': 89, 'dense1_activation': 'sigmoid', 'conv2_kernel': (8, 8), 'conv2_filters': 21, 'conv2_activation': 'relu', 'conv1_kernel': (5, 5), 'conv1_filters': 21, 'conv1_activation': 'tanh'} \n",
      "[0073] Fail\n",
      "[0074] Accuracy=0.10, Model={'pool2_size': (5, 5), 'pool1_size': (3, 3), 'dropout1_rate': 0.125, 'dense1_units': 144, 'dense1_activation': 'sigmoid', 'conv2_kernel': (3, 3), 'conv2_filters': 8, 'conv2_activation': 'relu', 'conv1_kernel': (5, 5), 'conv1_filters': 21, 'conv1_activation': 'tanh'} \n",
      "[0075] Accuracy=0.80, Model={'pool2_size': (2, 2), 'pool1_size': (2, 2), 'dropout1_rate': 0.25, 'dense1_units': 89, 'dense1_activation': 'sigmoid', 'conv2_kernel': (8, 8), 'conv2_filters': 13, 'conv2_activation': 'relu', 'conv1_kernel': (3, 3), 'conv1_filters': 21, 'conv1_activation': 'tanh'} \n",
      "[0076] Accuracy=0.28, Model={'pool2_size': (1, 1), 'pool1_size': (2, 2), 'dropout1_rate': 0.125, 'dense1_units': 21, 'dense1_activation': 'relu', 'conv2_kernel': (3, 3), 'conv2_filters': 5, 'conv2_activation': 'tanh', 'conv1_kernel': (2, 2), 'conv1_filters': 8, 'conv1_activation': 'sigmoid'} \n",
      "[0077] Accuracy=0.66, Model={'pool2_size': (5, 5), 'pool1_size': (2, 2), 'dropout1_rate': 0, 'dense1_units': 144, 'dense1_activation': 'relu', 'conv2_kernel': (3, 3), 'conv2_filters': 5, 'conv2_activation': 'tanh', 'conv1_kernel': (5, 5), 'conv1_filters': 8, 'conv1_activation': 'relu'} \n",
      "[0078] Accuracy=0.23, Model={'pool2_size': (2, 2), 'pool1_size': (5, 5), 'dropout1_rate': 0.25, 'dense1_units': 55, 'dense1_activation': 'tanh', 'conv2_kernel': (2, 2), 'conv2_filters': 8, 'conv2_activation': 'relu', 'conv1_kernel': (5, 5), 'conv1_filters': 5, 'conv1_activation': 'sigmoid'} \n",
      "[0079] Accuracy=0.16, Model={'pool2_size': (1, 1), 'pool1_size': (1, 1), 'dropout1_rate': 0.125, 'dense1_units': 21, 'dense1_activation': 'sigmoid', 'conv2_kernel': (2, 2), 'conv2_filters': 8, 'conv2_activation': 'tanh', 'conv1_kernel': (3, 3), 'conv1_filters': 8, 'conv1_activation': 'sigmoid'} \n",
      "[0080] Accuracy=0.95, Model={'pool2_size': (3, 3), 'pool1_size': (1, 1), 'dropout1_rate': 0.125, 'dense1_units': 144, 'dense1_activation': 'relu', 'conv2_kernel': (3, 3), 'conv2_filters': 21, 'conv2_activation': 'relu', 'conv1_kernel': (8, 8), 'conv1_filters': 13, 'conv1_activation': 'tanh'} \n",
      "[0081] Fail\n",
      "[0082] Fail\n",
      "[0083] Accuracy=0.86, Model={'pool2_size': (1, 1), 'pool1_size': (2, 2), 'dropout1_rate': 0, 'dense1_units': 55, 'dense1_activation': 'relu', 'conv2_kernel': (3, 3), 'conv2_filters': 5, 'conv2_activation': 'relu', 'conv1_kernel': (3, 3), 'conv1_filters': 21, 'conv1_activation': 'sigmoid'} \n",
      "[0084] Accuracy=0.13, Model={'pool2_size': (5, 5), 'pool1_size': (2, 2), 'dropout1_rate': 0.5, 'dense1_units': 55, 'dense1_activation': 'sigmoid', 'conv2_kernel': (8, 8), 'conv2_filters': 5, 'conv2_activation': 'relu', 'conv1_kernel': (2, 2), 'conv1_filters': 5, 'conv1_activation': 'sigmoid'} \n",
      "[0085] Accuracy=0.62, Model={'pool2_size': (2, 2), 'pool1_size': (3, 3), 'dropout1_rate': 0.25, 'dense1_units': 55, 'dense1_activation': 'relu', 'conv2_kernel': (5, 5), 'conv2_filters': 21, 'conv2_activation': 'tanh', 'conv1_kernel': (3, 3), 'conv1_filters': 13, 'conv1_activation': 'sigmoid'} \n",
      "[0086] Accuracy=0.10, Model={'pool2_size': (5, 5), 'pool1_size': (1, 1), 'dropout1_rate': 0.125, 'dense1_units': 89, 'dense1_activation': 'tanh', 'conv2_kernel': (8, 8), 'conv2_filters': 21, 'conv2_activation': 'relu', 'conv1_kernel': (5, 5), 'conv1_filters': 21, 'conv1_activation': 'sigmoid'} \n",
      "[0087] Accuracy=0.19, Model={'pool2_size': (1, 1), 'pool1_size': (3, 3), 'dropout1_rate': 0.125, 'dense1_units': 144, 'dense1_activation': 'relu', 'conv2_kernel': (3, 3), 'conv2_filters': 21, 'conv2_activation': 'sigmoid', 'conv1_kernel': (8, 8), 'conv1_filters': 21, 'conv1_activation': 'sigmoid'} \n",
      "[0088] Accuracy=0.10, Model={'pool2_size': (3, 3), 'pool1_size': (5, 5), 'dropout1_rate': 0, 'dense1_units': 21, 'dense1_activation': 'sigmoid', 'conv2_kernel': (2, 2), 'conv2_filters': 21, 'conv2_activation': 'sigmoid', 'conv1_kernel': (5, 5), 'conv1_filters': 8, 'conv1_activation': 'sigmoid'} \n",
      "[0089] Accuracy=0.17, Model={'pool2_size': (5, 5), 'pool1_size': (1, 1), 'dropout1_rate': 0, 'dense1_units': 34, 'dense1_activation': 'sigmoid', 'conv2_kernel': (3, 3), 'conv2_filters': 5, 'conv2_activation': 'sigmoid', 'conv1_kernel': (5, 5), 'conv1_filters': 8, 'conv1_activation': 'tanh'} \n",
      "[0090] Accuracy=0.10, Model={'pool2_size': (2, 2), 'pool1_size': (5, 5), 'dropout1_rate': 0.5, 'dense1_units': 34, 'dense1_activation': 'sigmoid', 'conv2_kernel': (2, 2), 'conv2_filters': 5, 'conv2_activation': 'sigmoid', 'conv1_kernel': (3, 3), 'conv1_filters': 5, 'conv1_activation': 'tanh'} \n",
      "[0091] Accuracy=0.85, Model={'pool2_size': (1, 1), 'pool1_size': (3, 3), 'dropout1_rate': 0.25, 'dense1_units': 21, 'dense1_activation': 'tanh', 'conv2_kernel': (8, 8), 'conv2_filters': 13, 'conv2_activation': 'relu', 'conv1_kernel': (3, 3), 'conv1_filters': 21, 'conv1_activation': 'relu'} \n",
      "[0092] Fail\n",
      "[0093] Fail\n",
      "[0094] Accuracy=0.64, Model={'pool2_size': (3, 3), 'pool1_size': (3, 3), 'dropout1_rate': 0.25, 'dense1_units': 21, 'dense1_activation': 'tanh', 'conv2_kernel': (5, 5), 'conv2_filters': 13, 'conv2_activation': 'relu', 'conv1_kernel': (2, 2), 'conv1_filters': 8, 'conv1_activation': 'relu'} \n",
      "[0095] Accuracy=0.94, Model={'pool2_size': (1, 1), 'pool1_size': (1, 1), 'dropout1_rate': 0.125, 'dense1_units': 21, 'dense1_activation': 'relu', 'conv2_kernel': (8, 8), 'conv2_filters': 13, 'conv2_activation': 'tanh', 'conv1_kernel': (2, 2), 'conv1_filters': 5, 'conv1_activation': 'relu'} \n",
      "[0096] Fail\n",
      "[0097] Accuracy=0.19, Model={'pool2_size': (5, 5), 'pool1_size': (2, 2), 'dropout1_rate': 0.125, 'dense1_units': 21, 'dense1_activation': 'sigmoid', 'conv2_kernel': (5, 5), 'conv2_filters': 13, 'conv2_activation': 'sigmoid', 'conv1_kernel': (8, 8), 'conv1_filters': 5, 'conv1_activation': 'relu'} \n",
      "[0098] Accuracy=0.89, Model={'pool2_size': (3, 3), 'pool1_size': (1, 1), 'dropout1_rate': 0.25, 'dense1_units': 89, 'dense1_activation': 'tanh', 'conv2_kernel': (5, 5), 'conv2_filters': 8, 'conv2_activation': 'tanh', 'conv1_kernel': (8, 8), 'conv1_filters': 13, 'conv1_activation': 'sigmoid'} \n",
      "[0099] Accuracy=0.79, Model={'pool2_size': (1, 1), 'pool1_size': (2, 2), 'dropout1_rate': 0.125, 'dense1_units': 34, 'dense1_activation': 'sigmoid', 'conv2_kernel': (3, 3), 'conv2_filters': 5, 'conv2_activation': 'tanh', 'conv1_kernel': (5, 5), 'conv1_filters': 13, 'conv1_activation': 'relu'} \n",
      "[0100] Accuracy=0.83, Model={'pool2_size': (1, 1), 'pool1_size': (3, 3), 'dropout1_rate': 0.125, 'dense1_units': 144, 'dense1_activation': 'sigmoid', 'conv2_kernel': (3, 3), 'conv2_filters': 13, 'conv2_activation': 'relu', 'conv1_kernel': (8, 8), 'conv1_filters': 13, 'conv1_activation': 'tanh'} \n"
     ]
    },
    {
     "name": "stdout",
     "output_type": "stream",
     "text": [
      "[0101] Accuracy=0.41, Model={'pool2_size': (3, 3), 'pool1_size': (3, 3), 'dropout1_rate': 0.5, 'dense1_units': 34, 'dense1_activation': 'relu', 'conv2_kernel': (5, 5), 'conv2_filters': 5, 'conv2_activation': 'relu', 'conv1_kernel': (8, 8), 'conv1_filters': 21, 'conv1_activation': 'tanh'} \n",
      "[0102] Fail\n",
      "[0103] Accuracy=0.86, Model={'pool2_size': (3, 3), 'pool1_size': (1, 1), 'dropout1_rate': 0.5, 'dense1_units': 89, 'dense1_activation': 'tanh', 'conv2_kernel': (3, 3), 'conv2_filters': 21, 'conv2_activation': 'relu', 'conv1_kernel': (3, 3), 'conv1_filters': 21, 'conv1_activation': 'sigmoid'} \n",
      "[0104] Accuracy=0.95, Model={'pool2_size': (1, 1), 'pool1_size': (1, 1), 'dropout1_rate': 0, 'dense1_units': 144, 'dense1_activation': 'relu', 'conv2_kernel': (2, 2), 'conv2_filters': 5, 'conv2_activation': 'relu', 'conv1_kernel': (2, 2), 'conv1_filters': 13, 'conv1_activation': 'tanh'} \n",
      "[0105] Accuracy=0.34, Model={'pool2_size': (3, 3), 'pool1_size': (5, 5), 'dropout1_rate': 0, 'dense1_units': 34, 'dense1_activation': 'relu', 'conv2_kernel': (2, 2), 'conv2_filters': 8, 'conv2_activation': 'relu', 'conv1_kernel': (2, 2), 'conv1_filters': 5, 'conv1_activation': 'relu'} \n",
      "[0106] Fail\n",
      "[0107] Accuracy=0.65, Model={'pool2_size': (2, 2), 'pool1_size': (2, 2), 'dropout1_rate': 0, 'dense1_units': 89, 'dense1_activation': 'sigmoid', 'conv2_kernel': (8, 8), 'conv2_filters': 21, 'conv2_activation': 'tanh', 'conv1_kernel': (8, 8), 'conv1_filters': 13, 'conv1_activation': 'relu'} \n",
      "[0108] Fail\n",
      "[0109] Accuracy=0.92, Model={'pool2_size': (1, 1), 'pool1_size': (1, 1), 'dropout1_rate': 0, 'dense1_units': 89, 'dense1_activation': 'relu', 'conv2_kernel': (5, 5), 'conv2_filters': 21, 'conv2_activation': 'tanh', 'conv1_kernel': (8, 8), 'conv1_filters': 21, 'conv1_activation': 'sigmoid'} \n",
      "[0110] Accuracy=0.90, Model={'pool2_size': (2, 2), 'pool1_size': (1, 1), 'dropout1_rate': 0.5, 'dense1_units': 144, 'dense1_activation': 'relu', 'conv2_kernel': (3, 3), 'conv2_filters': 21, 'conv2_activation': 'tanh', 'conv1_kernel': (8, 8), 'conv1_filters': 13, 'conv1_activation': 'sigmoid'} \n",
      "[0111] Accuracy=0.48, Model={'pool2_size': (5, 5), 'pool1_size': (2, 2), 'dropout1_rate': 0.5, 'dense1_units': 89, 'dense1_activation': 'relu', 'conv2_kernel': (8, 8), 'conv2_filters': 5, 'conv2_activation': 'tanh', 'conv1_kernel': (2, 2), 'conv1_filters': 21, 'conv1_activation': 'relu'} \n",
      "[0112] Accuracy=0.24, Model={'pool2_size': (1, 1), 'pool1_size': (3, 3), 'dropout1_rate': 0.5, 'dense1_units': 55, 'dense1_activation': 'tanh', 'conv2_kernel': (2, 2), 'conv2_filters': 5, 'conv2_activation': 'relu', 'conv1_kernel': (2, 2), 'conv1_filters': 21, 'conv1_activation': 'sigmoid'} \n",
      "[0113] Accuracy=0.79, Model={'pool2_size': (1, 1), 'pool1_size': (2, 2), 'dropout1_rate': 0.25, 'dense1_units': 21, 'dense1_activation': 'tanh', 'conv2_kernel': (3, 3), 'conv2_filters': 21, 'conv2_activation': 'sigmoid', 'conv1_kernel': (3, 3), 'conv1_filters': 21, 'conv1_activation': 'tanh'} \n",
      "[0114] Accuracy=0.85, Model={'pool2_size': (1, 1), 'pool1_size': (5, 5), 'dropout1_rate': 0, 'dense1_units': 55, 'dense1_activation': 'tanh', 'conv2_kernel': (2, 2), 'conv2_filters': 13, 'conv2_activation': 'tanh', 'conv1_kernel': (3, 3), 'conv1_filters': 13, 'conv1_activation': 'tanh'} \n",
      "[0115] Accuracy=0.93, Model={'pool2_size': (2, 2), 'pool1_size': (1, 1), 'dropout1_rate': 0.125, 'dense1_units': 21, 'dense1_activation': 'tanh', 'conv2_kernel': (2, 2), 'conv2_filters': 13, 'conv2_activation': 'relu', 'conv1_kernel': (8, 8), 'conv1_filters': 8, 'conv1_activation': 'tanh'} \n",
      "[0116] Fail\n",
      "[0117] Accuracy=0.75, Model={'pool2_size': (1, 1), 'pool1_size': (3, 3), 'dropout1_rate': 0.125, 'dense1_units': 89, 'dense1_activation': 'tanh', 'conv2_kernel': (3, 3), 'conv2_filters': 5, 'conv2_activation': 'relu', 'conv1_kernel': (3, 3), 'conv1_filters': 8, 'conv1_activation': 'sigmoid'} \n",
      "[0118] Accuracy=0.27, Model={'pool2_size': (5, 5), 'pool1_size': (1, 1), 'dropout1_rate': 0.125, 'dense1_units': 21, 'dense1_activation': 'tanh', 'conv2_kernel': (2, 2), 'conv2_filters': 8, 'conv2_activation': 'sigmoid', 'conv1_kernel': (2, 2), 'conv1_filters': 13, 'conv1_activation': 'relu'} \n",
      "[0119] Accuracy=0.72, Model={'pool2_size': (2, 2), 'pool1_size': (3, 3), 'dropout1_rate': 0.5, 'dense1_units': 144, 'dense1_activation': 'relu', 'conv2_kernel': (2, 2), 'conv2_filters': 8, 'conv2_activation': 'tanh', 'conv1_kernel': (2, 2), 'conv1_filters': 8, 'conv1_activation': 'tanh'} \n",
      "[0120] Accuracy=0.69, Model={'pool2_size': (1, 1), 'pool1_size': (5, 5), 'dropout1_rate': 0.125, 'dense1_units': 21, 'dense1_activation': 'tanh', 'conv2_kernel': (2, 2), 'conv2_filters': 8, 'conv2_activation': 'relu', 'conv1_kernel': (2, 2), 'conv1_filters': 8, 'conv1_activation': 'tanh'} \n",
      "[0121] Accuracy=0.94, Model={'pool2_size': (1, 1), 'pool1_size': (1, 1), 'dropout1_rate': 0.5, 'dense1_units': 144, 'dense1_activation': 'relu', 'conv2_kernel': (2, 2), 'conv2_filters': 21, 'conv2_activation': 'relu', 'conv1_kernel': (8, 8), 'conv1_filters': 5, 'conv1_activation': 'relu'} \n",
      "[0122] Accuracy=0.71, Model={'pool2_size': (1, 1), 'pool1_size': (2, 2), 'dropout1_rate': 0.25, 'dense1_units': 21, 'dense1_activation': 'relu', 'conv2_kernel': (8, 8), 'conv2_filters': 5, 'conv2_activation': 'relu', 'conv1_kernel': (8, 8), 'conv1_filters': 5, 'conv1_activation': 'sigmoid'} \n",
      "[0123] Fail\n",
      "[0124] Accuracy=0.10, Model={'pool2_size': (5, 5), 'pool1_size': (2, 2), 'dropout1_rate': 0.5, 'dense1_units': 55, 'dense1_activation': 'sigmoid', 'conv2_kernel': (3, 3), 'conv2_filters': 13, 'conv2_activation': 'relu', 'conv1_kernel': (5, 5), 'conv1_filters': 5, 'conv1_activation': 'sigmoid'} \n",
      "[0125] Accuracy=0.93, Model={'pool2_size': (2, 2), 'pool1_size': (1, 1), 'dropout1_rate': 0.5, 'dense1_units': 55, 'dense1_activation': 'relu', 'conv2_kernel': (2, 2), 'conv2_filters': 21, 'conv2_activation': 'tanh', 'conv1_kernel': (8, 8), 'conv1_filters': 5, 'conv1_activation': 'tanh'} \n",
      "[0126] Accuracy=0.16, Model={'pool2_size': (2, 2), 'pool1_size': (2, 2), 'dropout1_rate': 0.125, 'dense1_units': 144, 'dense1_activation': 'sigmoid', 'conv2_kernel': (3, 3), 'conv2_filters': 5, 'conv2_activation': 'sigmoid', 'conv1_kernel': (2, 2), 'conv1_filters': 5, 'conv1_activation': 'tanh'} \n",
      "[0127] Accuracy=0.65, Model={'pool2_size': (1, 1), 'pool1_size': (5, 5), 'dropout1_rate': 0.5, 'dense1_units': 34, 'dense1_activation': 'relu', 'conv2_kernel': (3, 3), 'conv2_filters': 13, 'conv2_activation': 'relu', 'conv1_kernel': (2, 2), 'conv1_filters': 13, 'conv1_activation': 'relu'} \n",
      "[0128] Accuracy=0.90, Model={'pool2_size': (1, 1), 'pool1_size': (1, 1), 'dropout1_rate': 0.125, 'dense1_units': 55, 'dense1_activation': 'sigmoid', 'conv2_kernel': (3, 3), 'conv2_filters': 21, 'conv2_activation': 'relu', 'conv1_kernel': (8, 8), 'conv1_filters': 8, 'conv1_activation': 'relu'} \n",
      "[0129] Accuracy=0.91, Model={'pool2_size': (1, 1), 'pool1_size': (1, 1), 'dropout1_rate': 0, 'dense1_units': 55, 'dense1_activation': 'relu', 'conv2_kernel': (5, 5), 'conv2_filters': 21, 'conv2_activation': 'tanh', 'conv1_kernel': (2, 2), 'conv1_filters': 8, 'conv1_activation': 'sigmoid'} \n",
      "[0130] Fail\n",
      "[0131] Accuracy=0.46, Model={'pool2_size': (3, 3), 'pool1_size': (2, 2), 'dropout1_rate': 0.5, 'dense1_units': 34, 'dense1_activation': 'sigmoid', 'conv2_kernel': (8, 8), 'conv2_filters': 5, 'conv2_activation': 'relu', 'conv1_kernel': (8, 8), 'conv1_filters': 21, 'conv1_activation': 'relu'} \n",
      "[0132] Fail\n",
      "[0133] Accuracy=0.14, Model={'pool2_size': (2, 2), 'pool1_size': (2, 2), 'dropout1_rate': 0, 'dense1_units': 21, 'dense1_activation': 'sigmoid', 'conv2_kernel': (2, 2), 'conv2_filters': 21, 'conv2_activation': 'relu', 'conv1_kernel': (2, 2), 'conv1_filters': 8, 'conv1_activation': 'sigmoid'} \n",
      "[0134] Accuracy=0.51, Model={'pool2_size': (2, 2), 'pool1_size': (2, 2), 'dropout1_rate': 0.125, 'dense1_units': 21, 'dense1_activation': 'sigmoid', 'conv2_kernel': (2, 2), 'conv2_filters': 5, 'conv2_activation': 'relu', 'conv1_kernel': (5, 5), 'conv1_filters': 8, 'conv1_activation': 'tanh'} \n",
      "[0135] Accuracy=0.61, Model={'pool2_size': (3, 3), 'pool1_size': (2, 2), 'dropout1_rate': 0, 'dense1_units': 144, 'dense1_activation': 'sigmoid', 'conv2_kernel': (5, 5), 'conv2_filters': 5, 'conv2_activation': 'tanh', 'conv1_kernel': (8, 8), 'conv1_filters': 5, 'conv1_activation': 'tanh'} \n"
     ]
    },
    {
     "name": "stdout",
     "output_type": "stream",
     "text": [
      "[0136] Accuracy=0.77, Model={'pool2_size': (1, 1), 'pool1_size': (3, 3), 'dropout1_rate': 0, 'dense1_units': 55, 'dense1_activation': 'tanh', 'conv2_kernel': (5, 5), 'conv2_filters': 21, 'conv2_activation': 'sigmoid', 'conv1_kernel': (3, 3), 'conv1_filters': 8, 'conv1_activation': 'tanh'} \n",
      "[0137] Accuracy=0.19, Model={'pool2_size': (3, 3), 'pool1_size': (2, 2), 'dropout1_rate': 0.5, 'dense1_units': 34, 'dense1_activation': 'tanh', 'conv2_kernel': (3, 3), 'conv2_filters': 8, 'conv2_activation': 'sigmoid', 'conv1_kernel': (5, 5), 'conv1_filters': 5, 'conv1_activation': 'sigmoid'} \n",
      "[0138] Accuracy=0.59, Model={'pool2_size': (5, 5), 'pool1_size': (1, 1), 'dropout1_rate': 0.125, 'dense1_units': 21, 'dense1_activation': 'tanh', 'conv2_kernel': (2, 2), 'conv2_filters': 5, 'conv2_activation': 'tanh', 'conv1_kernel': (3, 3), 'conv1_filters': 21, 'conv1_activation': 'sigmoid'} \n",
      "[0139] Accuracy=0.89, Model={'pool2_size': (3, 3), 'pool1_size': (2, 2), 'dropout1_rate': 0.125, 'dense1_units': 89, 'dense1_activation': 'relu', 'conv2_kernel': (2, 2), 'conv2_filters': 21, 'conv2_activation': 'relu', 'conv1_kernel': (3, 3), 'conv1_filters': 5, 'conv1_activation': 'tanh'} \n",
      "[0140] Accuracy=0.86, Model={'pool2_size': (1, 1), 'pool1_size': (2, 2), 'dropout1_rate': 0.125, 'dense1_units': 34, 'dense1_activation': 'relu', 'conv2_kernel': (2, 2), 'conv2_filters': 13, 'conv2_activation': 'sigmoid', 'conv1_kernel': (5, 5), 'conv1_filters': 5, 'conv1_activation': 'relu'} \n",
      "[0141] Accuracy=0.69, Model={'pool2_size': (5, 5), 'pool1_size': (1, 1), 'dropout1_rate': 0, 'dense1_units': 55, 'dense1_activation': 'relu', 'conv2_kernel': (3, 3), 'conv2_filters': 21, 'conv2_activation': 'tanh', 'conv1_kernel': (2, 2), 'conv1_filters': 5, 'conv1_activation': 'sigmoid'} \n",
      "[0142] Accuracy=0.87, Model={'pool2_size': (5, 5), 'pool1_size': (2, 2), 'dropout1_rate': 0.25, 'dense1_units': 144, 'dense1_activation': 'tanh', 'conv2_kernel': (3, 3), 'conv2_filters': 21, 'conv2_activation': 'relu', 'conv1_kernel': (3, 3), 'conv1_filters': 13, 'conv1_activation': 'relu'} \n",
      "[0143] Accuracy=0.57, Model={'pool2_size': (5, 5), 'pool1_size': (1, 1), 'dropout1_rate': 0.25, 'dense1_units': 34, 'dense1_activation': 'sigmoid', 'conv2_kernel': (3, 3), 'conv2_filters': 21, 'conv2_activation': 'tanh', 'conv1_kernel': (2, 2), 'conv1_filters': 21, 'conv1_activation': 'relu'} \n",
      "[0144] Fail\n",
      "[0145] Accuracy=0.46, Model={'pool2_size': (1, 1), 'pool1_size': (5, 5), 'dropout1_rate': 0.25, 'dense1_units': 21, 'dense1_activation': 'tanh', 'conv2_kernel': (3, 3), 'conv2_filters': 5, 'conv2_activation': 'sigmoid', 'conv1_kernel': (5, 5), 'conv1_filters': 13, 'conv1_activation': 'relu'} \n",
      "[0146] Accuracy=0.90, Model={'pool2_size': (1, 1), 'pool1_size': (1, 1), 'dropout1_rate': 0.5, 'dense1_units': 34, 'dense1_activation': 'tanh', 'conv2_kernel': (5, 5), 'conv2_filters': 5, 'conv2_activation': 'tanh', 'conv1_kernel': (2, 2), 'conv1_filters': 13, 'conv1_activation': 'sigmoid'} \n",
      "[0147] Fail\n",
      "[0148] Accuracy=0.10, Model={'pool2_size': (3, 3), 'pool1_size': (1, 1), 'dropout1_rate': 0.25, 'dense1_units': 144, 'dense1_activation': 'tanh', 'conv2_kernel': (2, 2), 'conv2_filters': 8, 'conv2_activation': 'sigmoid', 'conv1_kernel': (2, 2), 'conv1_filters': 21, 'conv1_activation': 'sigmoid'} \n",
      "[0149] Accuracy=0.93, Model={'pool2_size': (1, 1), 'pool1_size': (1, 1), 'dropout1_rate': 0, 'dense1_units': 34, 'dense1_activation': 'tanh', 'conv2_kernel': (3, 3), 'conv2_filters': 8, 'conv2_activation': 'relu', 'conv1_kernel': (5, 5), 'conv1_filters': 21, 'conv1_activation': 'tanh'} \n",
      "[0150] Fail\n",
      "[0151] Fail\n",
      "[0152] Accuracy=0.10, Model={'pool2_size': (1, 1), 'pool1_size': (3, 3), 'dropout1_rate': 0.5, 'dense1_units': 21, 'dense1_activation': 'relu', 'conv2_kernel': (3, 3), 'conv2_filters': 21, 'conv2_activation': 'sigmoid', 'conv1_kernel': (3, 3), 'conv1_filters': 13, 'conv1_activation': 'tanh'} \n",
      "[0153] Accuracy=0.32, Model={'pool2_size': (2, 2), 'pool1_size': (1, 1), 'dropout1_rate': 0.125, 'dense1_units': 89, 'dense1_activation': 'sigmoid', 'conv2_kernel': (2, 2), 'conv2_filters': 8, 'conv2_activation': 'relu', 'conv1_kernel': (3, 3), 'conv1_filters': 13, 'conv1_activation': 'sigmoid'} \n",
      "[0154] Accuracy=0.10, Model={'pool2_size': (3, 3), 'pool1_size': (1, 1), 'dropout1_rate': 0, 'dense1_units': 89, 'dense1_activation': 'sigmoid', 'conv2_kernel': (2, 2), 'conv2_filters': 21, 'conv2_activation': 'tanh', 'conv1_kernel': (2, 2), 'conv1_filters': 8, 'conv1_activation': 'sigmoid'} \n",
      "[0155] Accuracy=0.62, Model={'pool2_size': (1, 1), 'pool1_size': (5, 5), 'dropout1_rate': 0.25, 'dense1_units': 144, 'dense1_activation': 'tanh', 'conv2_kernel': (2, 2), 'conv2_filters': 8, 'conv2_activation': 'sigmoid', 'conv1_kernel': (8, 8), 'conv1_filters': 5, 'conv1_activation': 'relu'} \n",
      "[0156] Accuracy=0.85, Model={'pool2_size': (2, 2), 'pool1_size': (1, 1), 'dropout1_rate': 0, 'dense1_units': 21, 'dense1_activation': 'sigmoid', 'conv2_kernel': (2, 2), 'conv2_filters': 21, 'conv2_activation': 'relu', 'conv1_kernel': (3, 3), 'conv1_filters': 5, 'conv1_activation': 'tanh'} \n",
      "[0157] Accuracy=0.89, Model={'pool2_size': (1, 1), 'pool1_size': (1, 1), 'dropout1_rate': 0.125, 'dense1_units': 21, 'dense1_activation': 'sigmoid', 'conv2_kernel': (8, 8), 'conv2_filters': 21, 'conv2_activation': 'tanh', 'conv1_kernel': (8, 8), 'conv1_filters': 5, 'conv1_activation': 'tanh'} \n",
      "[0158] Fail\n",
      "[0159] Fail\n",
      "[0160] Fail\n",
      "[0161] Accuracy=0.10, Model={'pool2_size': (2, 2), 'pool1_size': (3, 3), 'dropout1_rate': 0.5, 'dense1_units': 55, 'dense1_activation': 'relu', 'conv2_kernel': (3, 3), 'conv2_filters': 8, 'conv2_activation': 'sigmoid', 'conv1_kernel': (5, 5), 'conv1_filters': 13, 'conv1_activation': 'sigmoid'} \n",
      "[0162] Accuracy=0.88, Model={'pool2_size': (1, 1), 'pool1_size': (2, 2), 'dropout1_rate': 0, 'dense1_units': 21, 'dense1_activation': 'tanh', 'conv2_kernel': (8, 8), 'conv2_filters': 5, 'conv2_activation': 'tanh', 'conv1_kernel': (2, 2), 'conv1_filters': 13, 'conv1_activation': 'relu'} \n",
      "[0163] Accuracy=0.50, Model={'pool2_size': (3, 3), 'pool1_size': (2, 2), 'dropout1_rate': 0.25, 'dense1_units': 55, 'dense1_activation': 'sigmoid', 'conv2_kernel': (2, 2), 'conv2_filters': 8, 'conv2_activation': 'tanh', 'conv1_kernel': (5, 5), 'conv1_filters': 21, 'conv1_activation': 'tanh'} \n",
      "[0164] Accuracy=0.49, Model={'pool2_size': (5, 5), 'pool1_size': (1, 1), 'dropout1_rate': 0.125, 'dense1_units': 34, 'dense1_activation': 'relu', 'conv2_kernel': (2, 2), 'conv2_filters': 8, 'conv2_activation': 'relu', 'conv1_kernel': (8, 8), 'conv1_filters': 8, 'conv1_activation': 'sigmoid'} \n",
      "[0165] Accuracy=0.86, Model={'pool2_size': (1, 1), 'pool1_size': (2, 2), 'dropout1_rate': 0.25, 'dense1_units': 21, 'dense1_activation': 'relu', 'conv2_kernel': (5, 5), 'conv2_filters': 5, 'conv2_activation': 'tanh', 'conv1_kernel': (5, 5), 'conv1_filters': 13, 'conv1_activation': 'sigmoid'} \n",
      "[0166] Accuracy=0.92, Model={'pool2_size': (1, 1), 'pool1_size': (1, 1), 'dropout1_rate': 0.25, 'dense1_units': 89, 'dense1_activation': 'tanh', 'conv2_kernel': (8, 8), 'conv2_filters': 21, 'conv2_activation': 'sigmoid', 'conv1_kernel': (5, 5), 'conv1_filters': 5, 'conv1_activation': 'relu'} \n",
      "[0167] Accuracy=0.88, Model={'pool2_size': (2, 2), 'pool1_size': (1, 1), 'dropout1_rate': 0, 'dense1_units': 34, 'dense1_activation': 'relu', 'conv2_kernel': (5, 5), 'conv2_filters': 5, 'conv2_activation': 'tanh', 'conv1_kernel': (3, 3), 'conv1_filters': 8, 'conv1_activation': 'sigmoid'} \n",
      "[0168] Accuracy=0.23, Model={'pool2_size': (5, 5), 'pool1_size': (2, 2), 'dropout1_rate': 0.5, 'dense1_units': 55, 'dense1_activation': 'relu', 'conv2_kernel': (5, 5), 'conv2_filters': 5, 'conv2_activation': 'tanh', 'conv1_kernel': (3, 3), 'conv1_filters': 13, 'conv1_activation': 'sigmoid'} \n",
      "[0169] Accuracy=0.33, Model={'pool2_size': (5, 5), 'pool1_size': (3, 3), 'dropout1_rate': 0.5, 'dense1_units': 89, 'dense1_activation': 'tanh', 'conv2_kernel': (2, 2), 'conv2_filters': 5, 'conv2_activation': 'tanh', 'conv1_kernel': (8, 8), 'conv1_filters': 5, 'conv1_activation': 'tanh'} \n",
      "[0170] Accuracy=0.45, Model={'pool2_size': (3, 3), 'pool1_size': (3, 3), 'dropout1_rate': 0.5, 'dense1_units': 34, 'dense1_activation': 'relu', 'conv2_kernel': (3, 3), 'conv2_filters': 21, 'conv2_activation': 'relu', 'conv1_kernel': (8, 8), 'conv1_filters': 5, 'conv1_activation': 'tanh'} \n",
      "[0171] Fail\n",
      "[0172] Fail\n"
     ]
    },
    {
     "name": "stdout",
     "output_type": "stream",
     "text": [
      "[0173] Accuracy=0.85, Model={'pool2_size': (1, 1), 'pool1_size': (2, 2), 'dropout1_rate': 0, 'dense1_units': 55, 'dense1_activation': 'sigmoid', 'conv2_kernel': (3, 3), 'conv2_filters': 5, 'conv2_activation': 'tanh', 'conv1_kernel': (8, 8), 'conv1_filters': 8, 'conv1_activation': 'tanh'} \n",
      "[0174] Accuracy=0.77, Model={'pool2_size': (1, 1), 'pool1_size': (1, 1), 'dropout1_rate': 0, 'dense1_units': 21, 'dense1_activation': 'tanh', 'conv2_kernel': (8, 8), 'conv2_filters': 8, 'conv2_activation': 'sigmoid', 'conv1_kernel': (2, 2), 'conv1_filters': 5, 'conv1_activation': 'sigmoid'} \n",
      "[0175] Accuracy=0.69, Model={'pool2_size': (2, 2), 'pool1_size': (2, 2), 'dropout1_rate': 0.5, 'dense1_units': 34, 'dense1_activation': 'sigmoid', 'conv2_kernel': (3, 3), 'conv2_filters': 8, 'conv2_activation': 'relu', 'conv1_kernel': (3, 3), 'conv1_filters': 21, 'conv1_activation': 'tanh'} \n",
      "[0176] Accuracy=0.92, Model={'pool2_size': (1, 1), 'pool1_size': (2, 2), 'dropout1_rate': 0, 'dense1_units': 34, 'dense1_activation': 'tanh', 'conv2_kernel': (3, 3), 'conv2_filters': 21, 'conv2_activation': 'tanh', 'conv1_kernel': (8, 8), 'conv1_filters': 8, 'conv1_activation': 'relu'} \n",
      "[0177] Fail\n",
      "[0178] Accuracy=0.34, Model={'pool2_size': (1, 1), 'pool1_size': (3, 3), 'dropout1_rate': 0.5, 'dense1_units': 55, 'dense1_activation': 'sigmoid', 'conv2_kernel': (5, 5), 'conv2_filters': 8, 'conv2_activation': 'tanh', 'conv1_kernel': (8, 8), 'conv1_filters': 8, 'conv1_activation': 'sigmoid'} \n",
      "[0179] Accuracy=0.10, Model={'pool2_size': (2, 2), 'pool1_size': (3, 3), 'dropout1_rate': 0.25, 'dense1_units': 55, 'dense1_activation': 'relu', 'conv2_kernel': (2, 2), 'conv2_filters': 21, 'conv2_activation': 'sigmoid', 'conv1_kernel': (3, 3), 'conv1_filters': 8, 'conv1_activation': 'sigmoid'} \n",
      "[0180] Fail\n",
      "[0181] Accuracy=0.93, Model={'pool2_size': (3, 3), 'pool1_size': (1, 1), 'dropout1_rate': 0, 'dense1_units': 21, 'dense1_activation': 'tanh', 'conv2_kernel': (5, 5), 'conv2_filters': 13, 'conv2_activation': 'relu', 'conv1_kernel': (8, 8), 'conv1_filters': 21, 'conv1_activation': 'tanh'} \n",
      "[0182] Accuracy=0.85, Model={'pool2_size': (2, 2), 'pool1_size': (2, 2), 'dropout1_rate': 0, 'dense1_units': 55, 'dense1_activation': 'sigmoid', 'conv2_kernel': (5, 5), 'conv2_filters': 13, 'conv2_activation': 'relu', 'conv1_kernel': (5, 5), 'conv1_filters': 13, 'conv1_activation': 'relu'} \n",
      "[0183] Fail\n",
      "[0184] Accuracy=0.90, Model={'pool2_size': (1, 1), 'pool1_size': (1, 1), 'dropout1_rate': 0, 'dense1_units': 34, 'dense1_activation': 'sigmoid', 'conv2_kernel': (5, 5), 'conv2_filters': 21, 'conv2_activation': 'tanh', 'conv1_kernel': (3, 3), 'conv1_filters': 5, 'conv1_activation': 'relu'} \n",
      "[0185] Accuracy=0.86, Model={'pool2_size': (3, 3), 'pool1_size': (1, 1), 'dropout1_rate': 0, 'dense1_units': 34, 'dense1_activation': 'tanh', 'conv2_kernel': (2, 2), 'conv2_filters': 13, 'conv2_activation': 'tanh', 'conv1_kernel': (8, 8), 'conv1_filters': 8, 'conv1_activation': 'sigmoid'} \n",
      "[0186] Accuracy=0.91, Model={'pool2_size': (1, 1), 'pool1_size': (1, 1), 'dropout1_rate': 0.25, 'dense1_units': 55, 'dense1_activation': 'relu', 'conv2_kernel': (5, 5), 'conv2_filters': 5, 'conv2_activation': 'sigmoid', 'conv1_kernel': (8, 8), 'conv1_filters': 13, 'conv1_activation': 'relu'} \n",
      "[0187] Fail\n",
      "[0188] Accuracy=0.26, Model={'pool2_size': (2, 2), 'pool1_size': (5, 5), 'dropout1_rate': 0.125, 'dense1_units': 21, 'dense1_activation': 'relu', 'conv2_kernel': (3, 3), 'conv2_filters': 8, 'conv2_activation': 'sigmoid', 'conv1_kernel': (8, 8), 'conv1_filters': 13, 'conv1_activation': 'relu'} \n",
      "[0189] Accuracy=0.10, Model={'pool2_size': (5, 5), 'pool1_size': (2, 2), 'dropout1_rate': 0.125, 'dense1_units': 89, 'dense1_activation': 'sigmoid', 'conv2_kernel': (2, 2), 'conv2_filters': 13, 'conv2_activation': 'tanh', 'conv1_kernel': (5, 5), 'conv1_filters': 21, 'conv1_activation': 'sigmoid'} \n",
      "[0190] Accuracy=0.77, Model={'pool2_size': (2, 2), 'pool1_size': (2, 2), 'dropout1_rate': 0.25, 'dense1_units': 89, 'dense1_activation': 'relu', 'conv2_kernel': (3, 3), 'conv2_filters': 5, 'conv2_activation': 'tanh', 'conv1_kernel': (3, 3), 'conv1_filters': 8, 'conv1_activation': 'sigmoid'} \n",
      "[0191] Fail\n",
      "[0192] Accuracy=0.88, Model={'pool2_size': (3, 3), 'pool1_size': (1, 1), 'dropout1_rate': 0.125, 'dense1_units': 144, 'dense1_activation': 'tanh', 'conv2_kernel': (2, 2), 'conv2_filters': 5, 'conv2_activation': 'tanh', 'conv1_kernel': (2, 2), 'conv1_filters': 13, 'conv1_activation': 'tanh'} \n",
      "[0193] Accuracy=0.86, Model={'pool2_size': (1, 1), 'pool1_size': (2, 2), 'dropout1_rate': 0, 'dense1_units': 34, 'dense1_activation': 'tanh', 'conv2_kernel': (5, 5), 'conv2_filters': 13, 'conv2_activation': 'sigmoid', 'conv1_kernel': (8, 8), 'conv1_filters': 5, 'conv1_activation': 'relu'} \n",
      "[0194] Fail\n",
      "[0195] Accuracy=0.10, Model={'pool2_size': (5, 5), 'pool1_size': (1, 1), 'dropout1_rate': 0, 'dense1_units': 34, 'dense1_activation': 'sigmoid', 'conv2_kernel': (8, 8), 'conv2_filters': 21, 'conv2_activation': 'sigmoid', 'conv1_kernel': (3, 3), 'conv1_filters': 5, 'conv1_activation': 'sigmoid'} \n",
      "[0196] Fail\n",
      "[0197] Accuracy=0.92, Model={'pool2_size': (5, 5), 'pool1_size': (1, 1), 'dropout1_rate': 0, 'dense1_units': 89, 'dense1_activation': 'tanh', 'conv2_kernel': (3, 3), 'conv2_filters': 21, 'conv2_activation': 'relu', 'conv1_kernel': (3, 3), 'conv1_filters': 5, 'conv1_activation': 'tanh'} \n",
      "[0198] Accuracy=0.53, Model={'pool2_size': (5, 5), 'pool1_size': (2, 2), 'dropout1_rate': 0, 'dense1_units': 34, 'dense1_activation': 'tanh', 'conv2_kernel': (5, 5), 'conv2_filters': 21, 'conv2_activation': 'sigmoid', 'conv1_kernel': (8, 8), 'conv1_filters': 21, 'conv1_activation': 'tanh'} \n",
      "[0199] Accuracy=0.93, Model={'pool2_size': (1, 1), 'pool1_size': (1, 1), 'dropout1_rate': 0.25, 'dense1_units': 89, 'dense1_activation': 'tanh', 'conv2_kernel': (2, 2), 'conv2_filters': 8, 'conv2_activation': 'tanh', 'conv1_kernel': (8, 8), 'conv1_filters': 5, 'conv1_activation': 'tanh'} \n",
      "[0200] Accuracy=0.93, Model={'pool2_size': (1, 1), 'pool1_size': (2, 2), 'dropout1_rate': 0.125, 'dense1_units': 34, 'dense1_activation': 'relu', 'conv2_kernel': (5, 5), 'conv2_filters': 13, 'conv2_activation': 'relu', 'conv1_kernel': (5, 5), 'conv1_filters': 5, 'conv1_activation': 'relu'} \n",
      "[0201] Accuracy=0.10, Model={'pool2_size': (2, 2), 'pool1_size': (2, 2), 'dropout1_rate': 0.125, 'dense1_units': 34, 'dense1_activation': 'sigmoid', 'conv2_kernel': (2, 2), 'conv2_filters': 5, 'conv2_activation': 'relu', 'conv1_kernel': (3, 3), 'conv1_filters': 8, 'conv1_activation': 'sigmoid'} \n",
      "[0202] Accuracy=0.26, Model={'pool2_size': (5, 5), 'pool1_size': (2, 2), 'dropout1_rate': 0, 'dense1_units': 34, 'dense1_activation': 'sigmoid', 'conv2_kernel': (5, 5), 'conv2_filters': 5, 'conv2_activation': 'tanh', 'conv1_kernel': (3, 3), 'conv1_filters': 5, 'conv1_activation': 'relu'} \n",
      "[0203] Fail\n",
      "[0204] Accuracy=0.30, Model={'pool2_size': (2, 2), 'pool1_size': (3, 3), 'dropout1_rate': 0, 'dense1_units': 55, 'dense1_activation': 'tanh', 'conv2_kernel': (3, 3), 'conv2_filters': 5, 'conv2_activation': 'sigmoid', 'conv1_kernel': (2, 2), 'conv1_filters': 8, 'conv1_activation': 'tanh'} \n",
      "[0205] Accuracy=0.13, Model={'pool2_size': (2, 2), 'pool1_size': (2, 2), 'dropout1_rate': 0, 'dense1_units': 144, 'dense1_activation': 'tanh', 'conv2_kernel': (8, 8), 'conv2_filters': 21, 'conv2_activation': 'sigmoid', 'conv1_kernel': (3, 3), 'conv1_filters': 13, 'conv1_activation': 'sigmoid'} \n",
      "[0206] Accuracy=0.88, Model={'pool2_size': (2, 2), 'pool1_size': (2, 2), 'dropout1_rate': 0.125, 'dense1_units': 55, 'dense1_activation': 'relu', 'conv2_kernel': (3, 3), 'conv2_filters': 5, 'conv2_activation': 'tanh', 'conv1_kernel': (5, 5), 'conv1_filters': 8, 'conv1_activation': 'tanh'} \n",
      "[0207] Accuracy=0.89, Model={'pool2_size': (5, 5), 'pool1_size': (1, 1), 'dropout1_rate': 0, 'dense1_units': 89, 'dense1_activation': 'tanh', 'conv2_kernel': (2, 2), 'conv2_filters': 8, 'conv2_activation': 'relu', 'conv1_kernel': (3, 3), 'conv1_filters': 13, 'conv1_activation': 'tanh'} \n",
      "[0208] Fail\n",
      "[0209] Accuracy=0.20, Model={'pool2_size': (2, 2), 'pool1_size': (2, 2), 'dropout1_rate': 0.25, 'dense1_units': 21, 'dense1_activation': 'sigmoid', 'conv2_kernel': (2, 2), 'conv2_filters': 5, 'conv2_activation': 'sigmoid', 'conv1_kernel': (8, 8), 'conv1_filters': 5, 'conv1_activation': 'relu'} \n",
      "[0210] Fail\n"
     ]
    },
    {
     "name": "stdout",
     "output_type": "stream",
     "text": [
      "[0211] Accuracy=0.07, Model={'pool2_size': (5, 5), 'pool1_size': (3, 3), 'dropout1_rate': 0.125, 'dense1_units': 34, 'dense1_activation': 'sigmoid', 'conv2_kernel': (2, 2), 'conv2_filters': 21, 'conv2_activation': 'sigmoid', 'conv1_kernel': (8, 8), 'conv1_filters': 5, 'conv1_activation': 'sigmoid'} \n",
      "[0212] Accuracy=0.55, Model={'pool2_size': (3, 3), 'pool1_size': (2, 2), 'dropout1_rate': 0.25, 'dense1_units': 55, 'dense1_activation': 'sigmoid', 'conv2_kernel': (3, 3), 'conv2_filters': 13, 'conv2_activation': 'tanh', 'conv1_kernel': (5, 5), 'conv1_filters': 5, 'conv1_activation': 'tanh'} \n",
      "[0213] Accuracy=0.22, Model={'pool2_size': (5, 5), 'pool1_size': (3, 3), 'dropout1_rate': 0.5, 'dense1_units': 21, 'dense1_activation': 'tanh', 'conv2_kernel': (5, 5), 'conv2_filters': 21, 'conv2_activation': 'sigmoid', 'conv1_kernel': (2, 2), 'conv1_filters': 8, 'conv1_activation': 'tanh'} \n",
      "[0214] Accuracy=0.85, Model={'pool2_size': (2, 2), 'pool1_size': (2, 2), 'dropout1_rate': 0.125, 'dense1_units': 89, 'dense1_activation': 'tanh', 'conv2_kernel': (3, 3), 'conv2_filters': 5, 'conv2_activation': 'tanh', 'conv1_kernel': (3, 3), 'conv1_filters': 8, 'conv1_activation': 'sigmoid'} \n",
      "[0215] Accuracy=0.43, Model={'pool2_size': (5, 5), 'pool1_size': (2, 2), 'dropout1_rate': 0.25, 'dense1_units': 89, 'dense1_activation': 'sigmoid', 'conv2_kernel': (3, 3), 'conv2_filters': 13, 'conv2_activation': 'relu', 'conv1_kernel': (5, 5), 'conv1_filters': 5, 'conv1_activation': 'tanh'} \n",
      "[0216] Accuracy=0.87, Model={'pool2_size': (2, 2), 'pool1_size': (1, 1), 'dropout1_rate': 0, 'dense1_units': 89, 'dense1_activation': 'sigmoid', 'conv2_kernel': (8, 8), 'conv2_filters': 8, 'conv2_activation': 'tanh', 'conv1_kernel': (3, 3), 'conv1_filters': 8, 'conv1_activation': 'tanh'} \n",
      "[0217] Accuracy=0.90, Model={'pool2_size': (1, 1), 'pool1_size': (3, 3), 'dropout1_rate': 0.5, 'dense1_units': 144, 'dense1_activation': 'relu', 'conv2_kernel': (3, 3), 'conv2_filters': 13, 'conv2_activation': 'tanh', 'conv1_kernel': (5, 5), 'conv1_filters': 13, 'conv1_activation': 'tanh'} \n",
      "[0218] Fail\n",
      "[0219] Accuracy=0.13, Model={'pool2_size': (2, 2), 'pool1_size': (5, 5), 'dropout1_rate': 0, 'dense1_units': 89, 'dense1_activation': 'relu', 'conv2_kernel': (3, 3), 'conv2_filters': 8, 'conv2_activation': 'sigmoid', 'conv1_kernel': (3, 3), 'conv1_filters': 13, 'conv1_activation': 'tanh'} \n",
      "[0220] Accuracy=0.83, Model={'pool2_size': (5, 5), 'pool1_size': (1, 1), 'dropout1_rate': 0.5, 'dense1_units': 34, 'dense1_activation': 'relu', 'conv2_kernel': (3, 3), 'conv2_filters': 5, 'conv2_activation': 'tanh', 'conv1_kernel': (5, 5), 'conv1_filters': 5, 'conv1_activation': 'tanh'} \n",
      "[0221] Fail\n",
      "[0222] Accuracy=0.49, Model={'pool2_size': (2, 2), 'pool1_size': (3, 3), 'dropout1_rate': 0.5, 'dense1_units': 144, 'dense1_activation': 'relu', 'conv2_kernel': (3, 3), 'conv2_filters': 21, 'conv2_activation': 'relu', 'conv1_kernel': (8, 8), 'conv1_filters': 13, 'conv1_activation': 'sigmoid'} \n",
      "[0223] Accuracy=0.89, Model={'pool2_size': (1, 1), 'pool1_size': (3, 3), 'dropout1_rate': 0, 'dense1_units': 21, 'dense1_activation': 'tanh', 'conv2_kernel': (3, 3), 'conv2_filters': 21, 'conv2_activation': 'tanh', 'conv1_kernel': (5, 5), 'conv1_filters': 8, 'conv1_activation': 'tanh'} \n",
      "[0224] Fail\n",
      "[0225] Fail\n",
      "[0226] Accuracy=0.67, Model={'pool2_size': (3, 3), 'pool1_size': (2, 2), 'dropout1_rate': 0, 'dense1_units': 144, 'dense1_activation': 'sigmoid', 'conv2_kernel': (3, 3), 'conv2_filters': 8, 'conv2_activation': 'tanh', 'conv1_kernel': (5, 5), 'conv1_filters': 13, 'conv1_activation': 'tanh'} \n",
      "[0227] Accuracy=0.73, Model={'pool2_size': (2, 2), 'pool1_size': (2, 2), 'dropout1_rate': 0.125, 'dense1_units': 34, 'dense1_activation': 'tanh', 'conv2_kernel': (3, 3), 'conv2_filters': 5, 'conv2_activation': 'tanh', 'conv1_kernel': (2, 2), 'conv1_filters': 5, 'conv1_activation': 'sigmoid'} \n",
      "[0228] Fail\n",
      "[0229] Fail\n",
      "[0230] Accuracy=0.22, Model={'pool2_size': (5, 5), 'pool1_size': (2, 2), 'dropout1_rate': 0.5, 'dense1_units': 34, 'dense1_activation': 'relu', 'conv2_kernel': (8, 8), 'conv2_filters': 13, 'conv2_activation': 'relu', 'conv1_kernel': (5, 5), 'conv1_filters': 8, 'conv1_activation': 'sigmoid'} \n",
      "[0231] Accuracy=0.67, Model={'pool2_size': (3, 3), 'pool1_size': (3, 3), 'dropout1_rate': 0.125, 'dense1_units': 89, 'dense1_activation': 'tanh', 'conv2_kernel': (2, 2), 'conv2_filters': 5, 'conv2_activation': 'relu', 'conv1_kernel': (2, 2), 'conv1_filters': 13, 'conv1_activation': 'tanh'} \n",
      "[0232] Accuracy=0.11, Model={'pool2_size': (3, 3), 'pool1_size': (3, 3), 'dropout1_rate': 0.125, 'dense1_units': 21, 'dense1_activation': 'sigmoid', 'conv2_kernel': (5, 5), 'conv2_filters': 21, 'conv2_activation': 'tanh', 'conv1_kernel': (2, 2), 'conv1_filters': 13, 'conv1_activation': 'sigmoid'} \n",
      "[0233] Fail\n",
      "[0234] Fail\n",
      "[0235] Accuracy=0.88, Model={'pool2_size': (2, 2), 'pool1_size': (3, 3), 'dropout1_rate': 0.25, 'dense1_units': 34, 'dense1_activation': 'relu', 'conv2_kernel': (5, 5), 'conv2_filters': 21, 'conv2_activation': 'relu', 'conv1_kernel': (8, 8), 'conv1_filters': 21, 'conv1_activation': 'relu'} \n",
      "[0236] Accuracy=0.12, Model={'pool2_size': (5, 5), 'pool1_size': (2, 2), 'dropout1_rate': 0.125, 'dense1_units': 21, 'dense1_activation': 'sigmoid', 'conv2_kernel': (2, 2), 'conv2_filters': 13, 'conv2_activation': 'sigmoid', 'conv1_kernel': (2, 2), 'conv1_filters': 21, 'conv1_activation': 'tanh'} \n",
      "[0237] Fail\n",
      "[0238] Accuracy=0.23, Model={'pool2_size': (5, 5), 'pool1_size': (2, 2), 'dropout1_rate': 0.125, 'dense1_units': 144, 'dense1_activation': 'relu', 'conv2_kernel': (3, 3), 'conv2_filters': 5, 'conv2_activation': 'sigmoid', 'conv1_kernel': (3, 3), 'conv1_filters': 5, 'conv1_activation': 'tanh'} \n",
      "[0239] Accuracy=0.95, Model={'pool2_size': (2, 2), 'pool1_size': (1, 1), 'dropout1_rate': 0.125, 'dense1_units': 55, 'dense1_activation': 'relu', 'conv2_kernel': (5, 5), 'conv2_filters': 8, 'conv2_activation': 'relu', 'conv1_kernel': (5, 5), 'conv1_filters': 21, 'conv1_activation': 'tanh'} \n",
      "[0240] Accuracy=0.94, Model={'pool2_size': (1, 1), 'pool1_size': (1, 1), 'dropout1_rate': 0.125, 'dense1_units': 144, 'dense1_activation': 'relu', 'conv2_kernel': (5, 5), 'conv2_filters': 13, 'conv2_activation': 'tanh', 'conv1_kernel': (2, 2), 'conv1_filters': 5, 'conv1_activation': 'tanh'} \n",
      "[0241] Accuracy=0.59, Model={'pool2_size': (1, 1), 'pool1_size': (1, 1), 'dropout1_rate': 0.125, 'dense1_units': 21, 'dense1_activation': 'sigmoid', 'conv2_kernel': (3, 3), 'conv2_filters': 13, 'conv2_activation': 'tanh', 'conv1_kernel': (2, 2), 'conv1_filters': 8, 'conv1_activation': 'sigmoid'} \n",
      "[0242] Accuracy=0.11, Model={'pool2_size': (2, 2), 'pool1_size': (3, 3), 'dropout1_rate': 0.5, 'dense1_units': 21, 'dense1_activation': 'relu', 'conv2_kernel': (5, 5), 'conv2_filters': 8, 'conv2_activation': 'sigmoid', 'conv1_kernel': (2, 2), 'conv1_filters': 5, 'conv1_activation': 'tanh'} \n",
      "[0243] Accuracy=0.88, Model={'pool2_size': (1, 1), 'pool1_size': (2, 2), 'dropout1_rate': 0, 'dense1_units': 55, 'dense1_activation': 'tanh', 'conv2_kernel': (5, 5), 'conv2_filters': 13, 'conv2_activation': 'tanh', 'conv1_kernel': (5, 5), 'conv1_filters': 8, 'conv1_activation': 'sigmoid'} \n",
      "[0244] Accuracy=0.21, Model={'pool2_size': (3, 3), 'pool1_size': (2, 2), 'dropout1_rate': 0.25, 'dense1_units': 144, 'dense1_activation': 'tanh', 'conv2_kernel': (8, 8), 'conv2_filters': 13, 'conv2_activation': 'sigmoid', 'conv1_kernel': (3, 3), 'conv1_filters': 13, 'conv1_activation': 'sigmoid'} \n",
      "[0245] Accuracy=0.33, Model={'pool2_size': (2, 2), 'pool1_size': (3, 3), 'dropout1_rate': 0.125, 'dense1_units': 34, 'dense1_activation': 'relu', 'conv2_kernel': (3, 3), 'conv2_filters': 5, 'conv2_activation': 'sigmoid', 'conv1_kernel': (3, 3), 'conv1_filters': 8, 'conv1_activation': 'tanh'} \n",
      "[0246] Accuracy=0.89, Model={'pool2_size': (3, 3), 'pool1_size': (1, 1), 'dropout1_rate': 0, 'dense1_units': 55, 'dense1_activation': 'tanh', 'conv2_kernel': (2, 2), 'conv2_filters': 21, 'conv2_activation': 'tanh', 'conv1_kernel': (2, 2), 'conv1_filters': 5, 'conv1_activation': 'relu'} \n",
      "[0247] Accuracy=0.80, Model={'pool2_size': (1, 1), 'pool1_size': (5, 5), 'dropout1_rate': 0.5, 'dense1_units': 55, 'dense1_activation': 'relu', 'conv2_kernel': (3, 3), 'conv2_filters': 21, 'conv2_activation': 'relu', 'conv1_kernel': (3, 3), 'conv1_filters': 21, 'conv1_activation': 'relu'} \n"
     ]
    },
    {
     "name": "stdout",
     "output_type": "stream",
     "text": [
      "[0248] Accuracy=0.80, Model={'pool2_size': (2, 2), 'pool1_size': (5, 5), 'dropout1_rate': 0, 'dense1_units': 144, 'dense1_activation': 'tanh', 'conv2_kernel': (2, 2), 'conv2_filters': 21, 'conv2_activation': 'tanh', 'conv1_kernel': (8, 8), 'conv1_filters': 13, 'conv1_activation': 'relu'} \n",
      "[0249] Accuracy=0.69, Model={'pool2_size': (3, 3), 'pool1_size': (2, 2), 'dropout1_rate': 0.125, 'dense1_units': 55, 'dense1_activation': 'tanh', 'conv2_kernel': (2, 2), 'conv2_filters': 8, 'conv2_activation': 'relu', 'conv1_kernel': (8, 8), 'conv1_filters': 5, 'conv1_activation': 'sigmoid'} \n",
      "[0250] Accuracy=0.74, Model={'pool2_size': (5, 5), 'pool1_size': (1, 1), 'dropout1_rate': 0, 'dense1_units': 34, 'dense1_activation': 'relu', 'conv2_kernel': (2, 2), 'conv2_filters': 5, 'conv2_activation': 'tanh', 'conv1_kernel': (2, 2), 'conv1_filters': 8, 'conv1_activation': 'tanh'} \n",
      "[0251] Accuracy=0.10, Model={'pool2_size': (3, 3), 'pool1_size': (3, 3), 'dropout1_rate': 0, 'dense1_units': 89, 'dense1_activation': 'sigmoid', 'conv2_kernel': (5, 5), 'conv2_filters': 5, 'conv2_activation': 'sigmoid', 'conv1_kernel': (3, 3), 'conv1_filters': 21, 'conv1_activation': 'sigmoid'} \n",
      "[0252] Accuracy=0.93, Model={'pool2_size': (2, 2), 'pool1_size': (1, 1), 'dropout1_rate': 0.125, 'dense1_units': 55, 'dense1_activation': 'tanh', 'conv2_kernel': (5, 5), 'conv2_filters': 5, 'conv2_activation': 'relu', 'conv1_kernel': (5, 5), 'conv1_filters': 5, 'conv1_activation': 'relu'} \n",
      "[0253] Fail\n",
      "[0254] Accuracy=0.12, Model={'pool2_size': (1, 1), 'pool1_size': (1, 1), 'dropout1_rate': 0.5, 'dense1_units': 144, 'dense1_activation': 'sigmoid', 'conv2_kernel': (3, 3), 'conv2_filters': 13, 'conv2_activation': 'sigmoid', 'conv1_kernel': (2, 2), 'conv1_filters': 5, 'conv1_activation': 'sigmoid'} \n",
      "[0255] Accuracy=0.89, Model={'pool2_size': (1, 1), 'pool1_size': (3, 3), 'dropout1_rate': 0.125, 'dense1_units': 21, 'dense1_activation': 'tanh', 'conv2_kernel': (5, 5), 'conv2_filters': 21, 'conv2_activation': 'tanh', 'conv1_kernel': (5, 5), 'conv1_filters': 8, 'conv1_activation': 'tanh'} \n",
      "[0256] Accuracy=0.21, Model={'pool2_size': (5, 5), 'pool1_size': (3, 3), 'dropout1_rate': 0.25, 'dense1_units': 21, 'dense1_activation': 'relu', 'conv2_kernel': (2, 2), 'conv2_filters': 21, 'conv2_activation': 'relu', 'conv1_kernel': (5, 5), 'conv1_filters': 8, 'conv1_activation': 'sigmoid'} \n",
      "[0257] Accuracy=0.95, Model={'pool2_size': (1, 1), 'pool1_size': (1, 1), 'dropout1_rate': 0, 'dense1_units': 89, 'dense1_activation': 'relu', 'conv2_kernel': (8, 8), 'conv2_filters': 8, 'conv2_activation': 'tanh', 'conv1_kernel': (2, 2), 'conv1_filters': 21, 'conv1_activation': 'tanh'} \n",
      "[0258] Accuracy=0.18, Model={'pool2_size': (1, 1), 'pool1_size': (5, 5), 'dropout1_rate': 0.5, 'dense1_units': 144, 'dense1_activation': 'tanh', 'conv2_kernel': (3, 3), 'conv2_filters': 5, 'conv2_activation': 'relu', 'conv1_kernel': (2, 2), 'conv1_filters': 21, 'conv1_activation': 'sigmoid'} \n",
      "[0259] Accuracy=0.35, Model={'pool2_size': (3, 3), 'pool1_size': (3, 3), 'dropout1_rate': 0.25, 'dense1_units': 34, 'dense1_activation': 'relu', 'conv2_kernel': (5, 5), 'conv2_filters': 8, 'conv2_activation': 'tanh', 'conv1_kernel': (2, 2), 'conv1_filters': 5, 'conv1_activation': 'relu'} \n",
      "[0260] Accuracy=0.48, Model={'pool2_size': (2, 2), 'pool1_size': (5, 5), 'dropout1_rate': 0.25, 'dense1_units': 144, 'dense1_activation': 'relu', 'conv2_kernel': (2, 2), 'conv2_filters': 8, 'conv2_activation': 'tanh', 'conv1_kernel': (2, 2), 'conv1_filters': 13, 'conv1_activation': 'tanh'} \n",
      "[0261] Accuracy=0.27, Model={'pool2_size': (3, 3), 'pool1_size': (2, 2), 'dropout1_rate': 0.25, 'dense1_units': 55, 'dense1_activation': 'sigmoid', 'conv2_kernel': (8, 8), 'conv2_filters': 21, 'conv2_activation': 'tanh', 'conv1_kernel': (8, 8), 'conv1_filters': 13, 'conv1_activation': 'sigmoid'} \n",
      "[0262] Accuracy=0.85, Model={'pool2_size': (2, 2), 'pool1_size': (2, 2), 'dropout1_rate': 0, 'dense1_units': 21, 'dense1_activation': 'relu', 'conv2_kernel': (5, 5), 'conv2_filters': 5, 'conv2_activation': 'relu', 'conv1_kernel': (2, 2), 'conv1_filters': 8, 'conv1_activation': 'tanh'} \n",
      "[0263] Accuracy=0.10, Model={'pool2_size': (5, 5), 'pool1_size': (2, 2), 'dropout1_rate': 0, 'dense1_units': 55, 'dense1_activation': 'tanh', 'conv2_kernel': (3, 3), 'conv2_filters': 8, 'conv2_activation': 'sigmoid', 'conv1_kernel': (3, 3), 'conv1_filters': 13, 'conv1_activation': 'sigmoid'} \n",
      "[0264] Accuracy=0.92, Model={'pool2_size': (1, 1), 'pool1_size': (1, 1), 'dropout1_rate': 0.125, 'dense1_units': 34, 'dense1_activation': 'tanh', 'conv2_kernel': (5, 5), 'conv2_filters': 8, 'conv2_activation': 'relu', 'conv1_kernel': (2, 2), 'conv1_filters': 8, 'conv1_activation': 'tanh'} \n",
      "[0265] Fail\n",
      "[0266] Accuracy=0.34, Model={'pool2_size': (3, 3), 'pool1_size': (1, 1), 'dropout1_rate': 0.25, 'dense1_units': 55, 'dense1_activation': 'sigmoid', 'conv2_kernel': (2, 2), 'conv2_filters': 5, 'conv2_activation': 'sigmoid', 'conv1_kernel': (8, 8), 'conv1_filters': 5, 'conv1_activation': 'tanh'} \n",
      "[0267] Fail\n",
      "[0268] Accuracy=0.33, Model={'pool2_size': (1, 1), 'pool1_size': (5, 5), 'dropout1_rate': 0.25, 'dense1_units': 89, 'dense1_activation': 'tanh', 'conv2_kernel': (3, 3), 'conv2_filters': 5, 'conv2_activation': 'relu', 'conv1_kernel': (8, 8), 'conv1_filters': 5, 'conv1_activation': 'sigmoid'} \n",
      "[0269] Accuracy=0.92, Model={'pool2_size': (2, 2), 'pool1_size': (3, 3), 'dropout1_rate': 0, 'dense1_units': 89, 'dense1_activation': 'relu', 'conv2_kernel': (3, 3), 'conv2_filters': 13, 'conv2_activation': 'relu', 'conv1_kernel': (5, 5), 'conv1_filters': 13, 'conv1_activation': 'relu'} \n",
      "[0270] Accuracy=0.38, Model={'pool2_size': (2, 2), 'pool1_size': (3, 3), 'dropout1_rate': 0.25, 'dense1_units': 89, 'dense1_activation': 'sigmoid', 'conv2_kernel': (5, 5), 'conv2_filters': 5, 'conv2_activation': 'relu', 'conv1_kernel': (3, 3), 'conv1_filters': 8, 'conv1_activation': 'tanh'} \n",
      "[0271] Fail\n",
      "[0272] Fail\n",
      "[0273] Accuracy=0.91, Model={'pool2_size': (1, 1), 'pool1_size': (2, 2), 'dropout1_rate': 0.125, 'dense1_units': 34, 'dense1_activation': 'relu', 'conv2_kernel': (5, 5), 'conv2_filters': 8, 'conv2_activation': 'relu', 'conv1_kernel': (5, 5), 'conv1_filters': 5, 'conv1_activation': 'tanh'} \n",
      "[0274] Accuracy=0.95, Model={'pool2_size': (2, 2), 'pool1_size': (1, 1), 'dropout1_rate': 0.125, 'dense1_units': 89, 'dense1_activation': 'relu', 'conv2_kernel': (8, 8), 'conv2_filters': 21, 'conv2_activation': 'relu', 'conv1_kernel': (8, 8), 'conv1_filters': 8, 'conv1_activation': 'tanh'} \n",
      "[0275] Accuracy=0.45, Model={'pool2_size': (5, 5), 'pool1_size': (2, 2), 'dropout1_rate': 0, 'dense1_units': 21, 'dense1_activation': 'relu', 'conv2_kernel': (5, 5), 'conv2_filters': 21, 'conv2_activation': 'sigmoid', 'conv1_kernel': (3, 3), 'conv1_filters': 8, 'conv1_activation': 'relu'} \n",
      "[0276] Accuracy=0.35, Model={'pool2_size': (3, 3), 'pool1_size': (2, 2), 'dropout1_rate': 0.25, 'dense1_units': 55, 'dense1_activation': 'tanh', 'conv2_kernel': (2, 2), 'conv2_filters': 8, 'conv2_activation': 'sigmoid', 'conv1_kernel': (5, 5), 'conv1_filters': 8, 'conv1_activation': 'tanh'} \n",
      "[0277] Accuracy=0.34, Model={'pool2_size': (2, 2), 'pool1_size': (2, 2), 'dropout1_rate': 0.25, 'dense1_units': 55, 'dense1_activation': 'relu', 'conv2_kernel': (2, 2), 'conv2_filters': 8, 'conv2_activation': 'sigmoid', 'conv1_kernel': (2, 2), 'conv1_filters': 21, 'conv1_activation': 'tanh'} \n",
      "[0278] Accuracy=0.88, Model={'pool2_size': (1, 1), 'pool1_size': (1, 1), 'dropout1_rate': 0, 'dense1_units': 144, 'dense1_activation': 'sigmoid', 'conv2_kernel': (5, 5), 'conv2_filters': 8, 'conv2_activation': 'relu', 'conv1_kernel': (3, 3), 'conv1_filters': 13, 'conv1_activation': 'sigmoid'} \n",
      "[0279] Accuracy=0.11, Model={'pool2_size': (2, 2), 'pool1_size': (2, 2), 'dropout1_rate': 0.125, 'dense1_units': 34, 'dense1_activation': 'sigmoid', 'conv2_kernel': (2, 2), 'conv2_filters': 13, 'conv2_activation': 'sigmoid', 'conv1_kernel': (8, 8), 'conv1_filters': 5, 'conv1_activation': 'relu'} \n",
      "[0280] Accuracy=0.80, Model={'pool2_size': (2, 2), 'pool1_size': (3, 3), 'dropout1_rate': 0.5, 'dense1_units': 21, 'dense1_activation': 'relu', 'conv2_kernel': (2, 2), 'conv2_filters': 8, 'conv2_activation': 'tanh', 'conv1_kernel': (8, 8), 'conv1_filters': 5, 'conv1_activation': 'tanh'} \n",
      "[0281] Fail\n"
     ]
    },
    {
     "name": "stdout",
     "output_type": "stream",
     "text": [
      "[0282] Accuracy=0.44, Model={'pool2_size': (1, 1), 'pool1_size': (3, 3), 'dropout1_rate': 0, 'dense1_units': 21, 'dense1_activation': 'relu', 'conv2_kernel': (5, 5), 'conv2_filters': 5, 'conv2_activation': 'sigmoid', 'conv1_kernel': (8, 8), 'conv1_filters': 8, 'conv1_activation': 'tanh'} \n",
      "[0283] Fail\n",
      "[0284] Fail\n",
      "[0285] Accuracy=0.86, Model={'pool2_size': (1, 1), 'pool1_size': (2, 2), 'dropout1_rate': 0.25, 'dense1_units': 89, 'dense1_activation': 'sigmoid', 'conv2_kernel': (3, 3), 'conv2_filters': 5, 'conv2_activation': 'tanh', 'conv1_kernel': (8, 8), 'conv1_filters': 8, 'conv1_activation': 'relu'} \n",
      "[0286] Accuracy=0.88, Model={'pool2_size': (3, 3), 'pool1_size': (1, 1), 'dropout1_rate': 0.5, 'dense1_units': 55, 'dense1_activation': 'tanh', 'conv2_kernel': (5, 5), 'conv2_filters': 8, 'conv2_activation': 'relu', 'conv1_kernel': (5, 5), 'conv1_filters': 8, 'conv1_activation': 'sigmoid'} \n",
      "[0287] Fail\n",
      "[0288] Accuracy=0.20, Model={'pool2_size': (1, 1), 'pool1_size': (5, 5), 'dropout1_rate': 0.25, 'dense1_units': 89, 'dense1_activation': 'sigmoid', 'conv2_kernel': (3, 3), 'conv2_filters': 13, 'conv2_activation': 'sigmoid', 'conv1_kernel': (8, 8), 'conv1_filters': 13, 'conv1_activation': 'tanh'} \n",
      "[0289] Accuracy=0.10, Model={'pool2_size': (3, 3), 'pool1_size': (5, 5), 'dropout1_rate': 0.125, 'dense1_units': 55, 'dense1_activation': 'relu', 'conv2_kernel': (2, 2), 'conv2_filters': 5, 'conv2_activation': 'tanh', 'conv1_kernel': (2, 2), 'conv1_filters': 5, 'conv1_activation': 'sigmoid'} \n",
      "[0290] Fail\n",
      "[0291] Fail\n",
      "[0292] Fail\n",
      "[0293] Accuracy=0.80, Model={'pool2_size': (2, 2), 'pool1_size': (2, 2), 'dropout1_rate': 0.25, 'dense1_units': 34, 'dense1_activation': 'relu', 'conv2_kernel': (3, 3), 'conv2_filters': 21, 'conv2_activation': 'tanh', 'conv1_kernel': (5, 5), 'conv1_filters': 5, 'conv1_activation': 'sigmoid'} \n",
      "[0294] Accuracy=0.19, Model={'pool2_size': (1, 1), 'pool1_size': (2, 2), 'dropout1_rate': 0.125, 'dense1_units': 55, 'dense1_activation': 'relu', 'conv2_kernel': (8, 8), 'conv2_filters': 5, 'conv2_activation': 'sigmoid', 'conv1_kernel': (3, 3), 'conv1_filters': 21, 'conv1_activation': 'sigmoid'} \n",
      "[0295] Fail\n",
      "[0296] Accuracy=0.65, Model={'pool2_size': (3, 3), 'pool1_size': (2, 2), 'dropout1_rate': 0.125, 'dense1_units': 144, 'dense1_activation': 'sigmoid', 'conv2_kernel': (2, 2), 'conv2_filters': 8, 'conv2_activation': 'tanh', 'conv1_kernel': (8, 8), 'conv1_filters': 21, 'conv1_activation': 'relu'} \n",
      "[0297] Accuracy=0.31, Model={'pool2_size': (3, 3), 'pool1_size': (5, 5), 'dropout1_rate': 0.5, 'dense1_units': 144, 'dense1_activation': 'tanh', 'conv2_kernel': (3, 3), 'conv2_filters': 5, 'conv2_activation': 'tanh', 'conv1_kernel': (2, 2), 'conv1_filters': 8, 'conv1_activation': 'relu'} \n",
      "[0298] Accuracy=0.91, Model={'pool2_size': (5, 5), 'pool1_size': (1, 1), 'dropout1_rate': 0.25, 'dense1_units': 34, 'dense1_activation': 'tanh', 'conv2_kernel': (5, 5), 'conv2_filters': 8, 'conv2_activation': 'tanh', 'conv1_kernel': (3, 3), 'conv1_filters': 8, 'conv1_activation': 'relu'} \n",
      "[0299] Fail\n",
      "[0300] Accuracy=0.54, Model={'pool2_size': (5, 5), 'pool1_size': (2, 2), 'dropout1_rate': 0.5, 'dense1_units': 89, 'dense1_activation': 'relu', 'conv2_kernel': (3, 3), 'conv2_filters': 5, 'conv2_activation': 'tanh', 'conv1_kernel': (3, 3), 'conv1_filters': 21, 'conv1_activation': 'relu'} \n",
      "[0301] Accuracy=0.80, Model={'pool2_size': (3, 3), 'pool1_size': (1, 1), 'dropout1_rate': 0, 'dense1_units': 21, 'dense1_activation': 'sigmoid', 'conv2_kernel': (3, 3), 'conv2_filters': 21, 'conv2_activation': 'tanh', 'conv1_kernel': (8, 8), 'conv1_filters': 21, 'conv1_activation': 'tanh'} \n",
      "[0302] Fail\n",
      "[0303] Accuracy=0.81, Model={'pool2_size': (3, 3), 'pool1_size': (1, 1), 'dropout1_rate': 0.25, 'dense1_units': 34, 'dense1_activation': 'tanh', 'conv2_kernel': (2, 2), 'conv2_filters': 8, 'conv2_activation': 'relu', 'conv1_kernel': (5, 5), 'conv1_filters': 5, 'conv1_activation': 'sigmoid'} \n",
      "[0304] Accuracy=0.09, Model={'pool2_size': (3, 3), 'pool1_size': (3, 3), 'dropout1_rate': 0, 'dense1_units': 21, 'dense1_activation': 'tanh', 'conv2_kernel': (2, 2), 'conv2_filters': 8, 'conv2_activation': 'sigmoid', 'conv1_kernel': (2, 2), 'conv1_filters': 21, 'conv1_activation': 'sigmoid'} \n",
      "[0305] Accuracy=0.77, Model={'pool2_size': (3, 3), 'pool1_size': (2, 2), 'dropout1_rate': 0.125, 'dense1_units': 55, 'dense1_activation': 'relu', 'conv2_kernel': (2, 2), 'conv2_filters': 5, 'conv2_activation': 'tanh', 'conv1_kernel': (2, 2), 'conv1_filters': 8, 'conv1_activation': 'tanh'} \n",
      "[0306] Accuracy=0.82, Model={'pool2_size': (1, 1), 'pool1_size': (1, 1), 'dropout1_rate': 0.125, 'dense1_units': 144, 'dense1_activation': 'sigmoid', 'conv2_kernel': (2, 2), 'conv2_filters': 8, 'conv2_activation': 'sigmoid', 'conv1_kernel': (5, 5), 'conv1_filters': 21, 'conv1_activation': 'tanh'} \n",
      "[0307] Accuracy=0.69, Model={'pool2_size': (5, 5), 'pool1_size': (2, 2), 'dropout1_rate': 0.25, 'dense1_units': 89, 'dense1_activation': 'tanh', 'conv2_kernel': (8, 8), 'conv2_filters': 5, 'conv2_activation': 'tanh', 'conv1_kernel': (3, 3), 'conv1_filters': 21, 'conv1_activation': 'relu'} \n",
      "[0308] Accuracy=0.10, Model={'pool2_size': (1, 1), 'pool1_size': (1, 1), 'dropout1_rate': 0, 'dense1_units': 21, 'dense1_activation': 'relu', 'conv2_kernel': (2, 2), 'conv2_filters': 8, 'conv2_activation': 'sigmoid', 'conv1_kernel': (3, 3), 'conv1_filters': 21, 'conv1_activation': 'sigmoid'} \n",
      "[0309] Accuracy=0.94, Model={'pool2_size': (3, 3), 'pool1_size': (1, 1), 'dropout1_rate': 0.5, 'dense1_units': 34, 'dense1_activation': 'tanh', 'conv2_kernel': (8, 8), 'conv2_filters': 13, 'conv2_activation': 'relu', 'conv1_kernel': (2, 2), 'conv1_filters': 21, 'conv1_activation': 'relu'} \n",
      "[0310] Accuracy=0.26, Model={'pool2_size': (5, 5), 'pool1_size': (2, 2), 'dropout1_rate': 0, 'dense1_units': 55, 'dense1_activation': 'tanh', 'conv2_kernel': (8, 8), 'conv2_filters': 21, 'conv2_activation': 'sigmoid', 'conv1_kernel': (2, 2), 'conv1_filters': 5, 'conv1_activation': 'sigmoid'} \n",
      "[0311] Accuracy=0.92, Model={'pool2_size': (2, 2), 'pool1_size': (3, 3), 'dropout1_rate': 0.125, 'dense1_units': 89, 'dense1_activation': 'relu', 'conv2_kernel': (3, 3), 'conv2_filters': 13, 'conv2_activation': 'tanh', 'conv1_kernel': (5, 5), 'conv1_filters': 21, 'conv1_activation': 'relu'} \n",
      "[0312] Accuracy=0.40, Model={'pool2_size': (3, 3), 'pool1_size': (5, 5), 'dropout1_rate': 0, 'dense1_units': 144, 'dense1_activation': 'relu', 'conv2_kernel': (2, 2), 'conv2_filters': 13, 'conv2_activation': 'relu', 'conv1_kernel': (3, 3), 'conv1_filters': 13, 'conv1_activation': 'tanh'} \n",
      "[0313] Accuracy=0.10, Model={'pool2_size': (3, 3), 'pool1_size': (3, 3), 'dropout1_rate': 0.5, 'dense1_units': 21, 'dense1_activation': 'sigmoid', 'conv2_kernel': (5, 5), 'conv2_filters': 8, 'conv2_activation': 'sigmoid', 'conv1_kernel': (2, 2), 'conv1_filters': 8, 'conv1_activation': 'sigmoid'} \n",
      "[0314] Fail\n",
      "[0315] Accuracy=0.10, Model={'pool2_size': (5, 5), 'pool1_size': (2, 2), 'dropout1_rate': 0.125, 'dense1_units': 89, 'dense1_activation': 'sigmoid', 'conv2_kernel': (5, 5), 'conv2_filters': 8, 'conv2_activation': 'sigmoid', 'conv1_kernel': (5, 5), 'conv1_filters': 13, 'conv1_activation': 'sigmoid'} \n",
      "===============\n",
      "Best Model Accuracy=0.96, param={'pool2_size': (3, 3), 'pool1_size': (1, 1), 'dropout1_rate': 0.25, 'dense1_units': 144, 'dense1_activation': 'tanh', 'conv2_kernel': (8, 8), 'conv2_filters': 21, 'conv2_activation': 'relu', 'conv1_kernel': (2, 2), 'conv1_filters': 5, 'conv1_activation': 'relu'}\n"
     ]
    }
   ],
   "source": [
    "for i, p in enumerate(ParameterSampler(params, n_iter=1000)):\n",
    "    try:\n",
    "        model, acc = eval_model(p, epochs=3)\n",
    "    except KeyboardInterrupt as err: \n",
    "        break\n",
    "    except:\n",
    "        # Invalid parameter combination\n",
    "        # Probably the kernel sizes add up to be bigger than the image itself\n",
    "        print(f'[{i:04d}] Fail')\n",
    "        continue\n",
    "    print(f'[{i:04d}] Accuracy={acc:.2f}, Model={p} ')\n",
    "\n",
    "    if acc > best_model_acc:\n",
    "        print(f'=== New Best!!! ===')\n",
    "        best_model = model\n",
    "        best_model_params = p\n",
    "        best_model_acc = acc\n",
    "        \n",
    "print('===============')\n",
    "print(f'Best Model Accuracy={best_model_acc:.2f}, param={best_model_params}')"
   ]
  },
  {
   "cell_type": "code",
   "execution_count": 19,
   "metadata": {},
   "outputs": [
    {
     "name": "stdout",
     "output_type": "stream",
     "text": [
      "Train on 48000 samples, validate on 12000 samples\n",
      "Epoch 1/10\n",
      "48000/48000 [==============================] - 63s 1ms/step - loss: 1.1751 - acc: 0.6671 - val_loss: 0.3722 - val_acc: 0.9035\n",
      "Epoch 2/10\n",
      "48000/48000 [==============================] - 53s 1ms/step - loss: 0.3625 - acc: 0.9003 - val_loss: 0.2289 - val_acc: 0.9365\n",
      "Epoch 3/10\n",
      "48000/48000 [==============================] - 53s 1ms/step - loss: 0.2569 - acc: 0.9277 - val_loss: 0.1791 - val_acc: 0.9515\n",
      "Epoch 4/10\n",
      "48000/48000 [==============================] - 54s 1ms/step - loss: 0.2111 - acc: 0.9393 - val_loss: 0.1519 - val_acc: 0.9576\n",
      "Epoch 5/10\n",
      "48000/48000 [==============================] - 60s 1ms/step - loss: 0.1821 - acc: 0.9470 - val_loss: 0.1341 - val_acc: 0.9625\n",
      "Epoch 6/10\n",
      "48000/48000 [==============================] - 72s 2ms/step - loss: 0.1628 - acc: 0.9525 - val_loss: 0.1217 - val_acc: 0.9653\n",
      "Epoch 7/10\n",
      "48000/48000 [==============================] - 56s 1ms/step - loss: 0.1475 - acc: 0.9573 - val_loss: 0.1120 - val_acc: 0.9677\n",
      "Epoch 8/10\n",
      "48000/48000 [==============================] - 55s 1ms/step - loss: 0.1382 - acc: 0.9597 - val_loss: 0.1038 - val_acc: 0.9694\n",
      "Epoch 9/10\n",
      "48000/48000 [==============================] - 55s 1ms/step - loss: 0.1281 - acc: 0.9629 - val_loss: 0.0975 - val_acc: 0.9714\n",
      "Epoch 10/10\n",
      "48000/48000 [==============================] - 55s 1ms/step - loss: 0.1215 - acc: 0.9638 - val_loss: 0.0930 - val_acc: 0.9723\n",
      "===============\n",
      "Best Model Accuracy=0.98, param={'pool2_size': (3, 3), 'pool1_size': (1, 1), 'dropout1_rate': 0.25, 'dense1_units': 144, 'dense1_activation': 'tanh', 'conv2_kernel': (8, 8), 'conv2_filters': 21, 'conv2_activation': 'relu', 'conv1_kernel': (2, 2), 'conv1_filters': 5, 'conv1_activation': 'relu'}\n"
     ]
    }
   ],
   "source": [
    "#Re-Train the best model param on more epochs to get a great result\n",
    "best_model_2, best_model_acc_2 = eval_model(best_model_params, epochs=10, verbose=1)\n",
    "print('===============')\n",
    "print(f'Best Model Accuracy={best_model_acc_2:.2f}, param={best_model_params}')"
   ]
  }
 ],
 "metadata": {
  "kernelspec": {
   "display_name": "Python 3",
   "language": "python",
   "name": "python3"
  },
  "language_info": {
   "codemirror_mode": {
    "name": "ipython",
    "version": 3
   },
   "file_extension": ".py",
   "mimetype": "text/x-python",
   "name": "python",
   "nbconvert_exporter": "python",
   "pygments_lexer": "ipython3",
   "version": "3.6.5"
  }
 },
 "nbformat": 4,
 "nbformat_minor": 1
}
