{
 "cells": [
  {
   "cell_type": "code",
   "execution_count": null,
   "metadata": {},
   "outputs": [],
   "source": [
    "%matplotlib inline"
   ]
  },
  {
   "cell_type": "markdown",
   "metadata": {},
   "source": [
    "## Imports\n",
    "First let's import some prerequisites:"
   ]
  },
  {
   "cell_type": "code",
   "execution_count": null,
   "metadata": {},
   "outputs": [],
   "source": [
    "import os\n",
    "import numpy as np\n",
    "from random import sample, seed\n",
    "seed(42)\n",
    "\n",
    "import matplotlib.pyplot as plt\n",
    "plt.rcParams['figure.figsize'] = (15,15) # Make the figures a bit bigger\n",
    "\n",
    "# Keras imports\n",
    "from keras.preprocessing.image import load_img\n",
    "from keras.preprocessing.image import img_to_array\n",
    "from keras.applications.imagenet_utils import decode_predictions\n",
    "\n",
    "#read all images (jpg, png) in imgDirPath and resize to 227x227\n",
    "def readImagesFromDir(imgDirPath):\n",
    "    fileNames = os.listdir(imgDirPath)\n",
    "    imagePaths = [os.path.join(imgDirPath,img) for img in fileNames if img[-3:] in ['jpg', 'png']]\n",
    "    imageList = [load_img(img, target_size=(224, 224)) for img in imagePaths]\n",
    "    imageList = [img_to_array(img) for img in imageList]\n",
    "    return imageList, fileNames\n",
    "\n",
    "#plot the images from imgList\n",
    "def plotImages(imgList):\n",
    "    for i in range(len(imgList)):\n",
    "        plotImage(imgList[i])\n",
    "        \n",
    "        \n",
    "def plotImage(img):\n",
    "    fig = plt.figure(figsize=(5,5))\n",
    "    ax = fig.add_subplot(111)\n",
    "\n",
    "    ax.imshow(np.uint8(img), interpolation='nearest')\n",
    "    plt.show()"
   ]
  },
  {
   "cell_type": "markdown",
   "metadata": {},
   "source": [
    "# ResNet50\n",
    "Keras has most recent networks already pre-trained in ImageNet for usage ([check here](https://keras.io/applications/)). In this notebook we will load ResNet50, inspect its architecture and classify some images in `./images`."
   ]
  },
  {
   "cell_type": "code",
   "execution_count": null,
   "metadata": {},
   "outputs": [],
   "source": [
    "from keras.applications.resnet50 import ResNet50, preprocess_input\n",
    "resNetModel = ResNet50(weights=None, classes=1000)\n",
    "resNetModel.load_weights(\"./resnet50_weights_tf_dim_ordering_tf_kernels.h5\")"
   ]
  },
  {
   "cell_type": "code",
   "execution_count": null,
   "metadata": {},
   "outputs": [],
   "source": [
    "print(resNetModel.summary())"
   ]
  },
  {
   "cell_type": "markdown",
   "metadata": {},
   "source": [
    "# Evaluation\n",
    "We have shared with you some images from [ImageNet challenge](http://www.image-net.org/challenges/LSVRC/), a competition of object classification with a huge collection of images comprising 1000 classes.\n",
    "We will load the images from the `./images` folder, pre-process them and let our ResNet model predict their classes. **You can add or remove images from `./images` to test the network by yourself.** "
   ]
  },
  {
   "cell_type": "code",
   "execution_count": null,
   "metadata": {},
   "outputs": [],
   "source": [
    "imgList, fileNames = readImagesFromDir('./images')\n",
    "plotImages(imgList)"
   ]
  },
  {
   "cell_type": "code",
   "execution_count": null,
   "metadata": {},
   "outputs": [],
   "source": [
    "# prepare the image for ResNet50\n",
    "processed_images = np.array([preprocess_input(img.copy()) for img in imgList])\n",
    "\n",
    "# get the predicted probabilities for each class\n",
    "predictions = resNetModel.predict(processed_images, verbose=1)\n",
    "\n",
    "print(\"Shape of predictions --> \", predictions.shape)\n",
    "print(\"Prediction of the first image:\\n\", predictions[0])"
   ]
  },
  {
   "cell_type": "code",
   "execution_count": null,
   "metadata": {},
   "outputs": [],
   "source": [
    "# Convert the probabilities to class labels\n",
    "# We will get top 5 predictions which is the default\n",
    "imagePredictions = decode_predictions(predictions)\n",
    "i = 0\n",
    "for pred in imagePredictions:\n",
    "    print(\"Image \", str(i+1).zfill(2), \":    \", fileNames[i])\n",
    "    plotImage(imgList[i])\n",
    "    for possibleClass in pred:\n",
    "        print(possibleClass[1], possibleClass[2])\n",
    "    print(\"\\n\")\n",
    "    i+=1"
   ]
  }
 ],
 "metadata": {
  "kernelspec": {
   "display_name": "Python 3",
   "language": "python",
   "name": "python3"
  },
  "language_info": {
   "codemirror_mode": {
    "name": "ipython",
    "version": 3
   },
   "file_extension": ".py",
   "mimetype": "text/x-python",
   "name": "python",
   "nbconvert_exporter": "python",
   "pygments_lexer": "ipython3",
   "version": "3.5.2"
  }
 },
 "nbformat": 4,
 "nbformat_minor": 1
}
