{
 "cells": [
  {
   "cell_type": "markdown",
   "metadata": {
    "colab_type": "text",
    "id": "STexq1fY-4mL"
   },
   "source": [
    "# Tarefa 02\n",
    "Nesta tarefa vocês irão projetar duas arquiteturas de CNN utilizando os conceitos, camadas e técnicas vistas no curso. As redes serão treinadas no dataset CIFAR-10 e depois comparadas. As tarefas são:\n",
    "\n",
    "**1) Definir as arquiteturas; ----> 0.3 pontos** \n",
    "\n",
    "- Quantas [camadas](https://keras.io/layers/core/) ela terá?\n",
    "- Quais as operações utilizadas (convoluções, pooling, fully-connected)?\n",
    "- Quais serão os parâmetros de cada camada (número e tamanho dos filtros convolucionais, stride, tamanho do pooling, funções de ativação)?\n",
    "- Que tipo de [inicialização](https://keras.io/initializers/) de pesos você utilizará?\n",
    "- Haverá dropout? Qual a taxa de dropout? \n",
    "- Haverá [regularização](https://keras.io/regularizers/)? Qual a taxa do regularizador?\n",
    "\n",
    "**2) Definir como será o treino; ----> 0.25 pontos**\n",
    "- Número de épocas e tamanho do batch (deixe igual p/ as duas redes);\n",
    "- [Otimizador](https://keras.io/optimizers/);\n",
    "- [Função de custo](https://keras.io/losses/);\n",
    "\n",
    "**3) Classificar o conjunto de teste e comparar os resultados; ----> 0.25 pontos**\n",
    "- Classificar imagens de teste;\n",
    "- Comparar acurácias;\n",
    "- Plotar loss pelo número de épocas no conjunto de treinamento e validação de cada rede. \n",
    "    \n",
    "**4) Escrever um parágrafo com as suas conclusões; ----> 0.2 pontos**\n",
    "\n",
    "-----\n",
    "\n",
    "## CIFAR-10\n",
    "Este conjunto de dados é composto de 60000 imagens coloridas de dimensões 32x32, divididas em 10 classes (com 6000 imagens por classe), sendo 50000 para treinamento e 10000 para teste. As classes do CIFAR-10 são **aviões, automóveis, pássaros, gatos, alces, cachorros, sapos, cavalos, navios, caminhões.**\n",
    "\n",
    "O código abaixo carrega e transforma os dados de entrada para ficarem prontos para serem treinados/classificados pela sua rede. Os conjuntos de treino, validação e teste estão balanceados, portanto a acurácia já estará normalizada nos métodos do Keras.  "
   ]
  },
  {
   "cell_type": "code",
   "execution_count": 9,
   "metadata": {
    "colab": {
     "autoexec": {
      "startup": false,
      "wait_interval": 0
     },
     "base_uri": "https://localhost:8080/",
     "height": 70
    },
    "colab_type": "code",
    "executionInfo": {
     "elapsed": 1958,
     "status": "ok",
     "timestamp": 1530227178864,
     "user": {
      "displayName": "Paulo Costa",
      "photoUrl": "//lh6.googleusercontent.com/-4-J0kMYguKE/AAAAAAAAAAI/AAAAAAAAo-4/6G1fkrkjcC0/s50-c-k-no/photo.jpg",
      "userId": "114253434612567270703"
     },
     "user_tz": 180
    },
    "id": "wboxj7yj-4mO",
    "outputId": "2e25f3e2-7ee4-482e-f18f-5d32d21dcb65"
   },
   "outputs": [
    {
     "name": "stdout",
     "output_type": "stream",
     "text": [
      "Training matrix shape (40000, 32, 32, 3)\n",
      "Validation matrix shape (10000, 32, 32, 3)\n",
      "Testing matrix shape (10000, 32, 32, 3)\n"
     ]
    }
   ],
   "source": [
    "#Imports\n",
    "import os\n",
    "import numpy as np\n",
    "from random import seed\n",
    "seed(42)\n",
    "\n",
    "import matplotlib.pyplot as plt\n",
    "plt.rcParams['figure.figsize'] = (15,15) # Make the figures a bit bigger\n",
    "\n",
    "from keras.datasets import cifar10\n",
    "from keras.utils import np_utils\n",
    "from sklearn.cross_validation import StratifiedShuffleSplit\n",
    "\n",
    "\n",
    "#Load data\n",
    "(trainVal_data, trainVal_label), (X_test, y_test) = cifar10.load_data()\n",
    "\n",
    "#Split trainVal data into train and val sets (already balanced)\n",
    "splitIdx = StratifiedShuffleSplit(trainVal_label, 1, test_size=10000, random_state=0)\n",
    "for train_index, val_index in splitIdx:\n",
    "    X_train, X_val = trainVal_data[train_index], trainVal_data[val_index]\n",
    "    y_train, y_val = trainVal_label[train_index], trainVal_label[val_index]\n",
    "    \n",
    "    \n",
    "#Transform data\n",
    "X_train = X_train.reshape(X_train.shape[0], 32, 32, 3)\n",
    "X_val = X_val.reshape(X_val.shape[0], 32, 32, 3)\n",
    "X_test = X_test.reshape(X_test.shape[0], 32, 32, 3)\n",
    "\n",
    "X_train = X_train.astype('float32')\n",
    "X_val = X_val.astype('float32')\n",
    "X_test = X_test.astype('float32')\n",
    "\n",
    "X_train /= 255\n",
    "X_val /= 255\n",
    "X_test /= 255\n",
    "\n",
    "print(\"Training matrix shape\", X_train.shape)\n",
    "print(\"Validation matrix shape\", X_val.shape)\n",
    "print(\"Testing matrix shape\", X_test.shape)\n",
    "\n",
    "Y_train = np_utils.to_categorical(y_train, 10)\n",
    "Y_val = np_utils.to_categorical(y_val, 10)\n",
    "Y_test = np_utils.to_categorical(y_test, 10)"
   ]
  },
  {
   "cell_type": "markdown",
   "metadata": {
    "colab_type": "text",
    "id": "TiJ1moeO-4mZ"
   },
   "source": [
    "--------\n",
    "--------\n",
    "--------\n",
    "**A tarefa de vocês começa aqui!!!**"
   ]
  },
  {
   "cell_type": "markdown",
   "metadata": {
    "colab_type": "text",
    "id": "d7Wu85Hc-4mc"
   },
   "source": [
    "# Definir as duas arquiteturas - [0.3 pontos]\n",
    "***Não se esqueçam de***:\n",
    "    - Importar as camadas utilizadas e o tipo do modelo (Sequential);\n",
    "    - Passar o input_shape na primeira camada da rede;\n",
    "    - Utilizar ativação `softmax` na última camada densa da rede;"
   ]
  },
  {
   "cell_type": "code",
   "execution_count": 0,
   "metadata": {
    "colab": {
     "autoexec": {
      "startup": false,
      "wait_interval": 0
     }
    },
    "colab_type": "code",
    "id": "sg13iMUG-4md"
   },
   "outputs": [],
   "source": [
    "#Imports\n",
    "from typing import Optional, Tuple, List, NamedTuple\n",
    "from keras.callbacks import EarlyStopping\n",
    "from keras.models import Sequential, Model\n",
    "from keras.layers.core import Dense, Dropout, Flatten, Activation\n",
    "from keras.layers import Input, Conv2D, MaxPooling2D, AveragePooling2D, GlobalAveragePooling2D, SpatialDropout2D, concatenate, Add\n",
    "from keras.preprocessing.image import ImageDataGenerator\n",
    "#from keras import optimizers # other stuff needed ... "
   ]
  },
  {
   "cell_type": "code",
   "execution_count": 0,
   "metadata": {
    "colab": {
     "autoexec": {
      "startup": false,
      "wait_interval": 0
     }
    },
    "colab_type": "code",
    "id": "N0eB75oy-4ml"
   },
   "outputs": [],
   "source": [
    "# Define 1st architecture\n",
    "def createModel1():\n",
    "    #This simplest architecture: just applies tiny 3x3 convolutions + MaxPooling + Dropout until \n",
    "    #The data is reduced to a single pixel\n",
    "    model = Sequential()\n",
    "    model.add(Conv2D(32, kernel_size=(3, 3), activation='relu', padding='same', input_shape=(32, 32, 3)))\n",
    "    model.add(MaxPooling2D(pool_size=(2, 2)))\n",
    "    model.add(SpatialDropout2D(0.2))\n",
    "\n",
    "    model.add(Conv2D(48, kernel_size=(3, 3), activation='relu', padding='same'))\n",
    "    model.add(MaxPooling2D(pool_size=(2, 2)))\n",
    "    model.add(SpatialDropout2D(0.2))\n",
    "\n",
    "    model.add(Conv2D(64, kernel_size=(3, 3), activation='relu', padding='same'))\n",
    "    model.add(MaxPooling2D(pool_size=(2, 2)))\n",
    "    model.add(SpatialDropout2D(0.2))\n",
    "\n",
    "    model.add(Conv2D(48, kernel_size=(3, 3), activation='relu', padding='same'))\n",
    "    model.add(MaxPooling2D(pool_size=(2, 2)))\n",
    "    model.add(SpatialDropout2D(0.2))\n",
    "    \n",
    "    model.add(Conv2D(32, kernel_size=(3, 3), activation='relu', padding='same'))\n",
    "    model.add(MaxPooling2D(pool_size=(2, 2)))\n",
    "    model.add(SpatialDropout2D(0.2))\n",
    "    \n",
    "    model.add(GlobalAveragePooling2D())\n",
    "    model.add(Dense(10, activation='softmax'))\n",
    "    return model"
   ]
  },
  {
   "cell_type": "code",
   "execution_count": 0,
   "metadata": {
    "colab": {
     "autoexec": {
      "startup": false,
      "wait_interval": 0
     }
    },
    "colab_type": "code",
    "id": "VLX0DNEx-4ms"
   },
   "outputs": [],
   "source": [
    "# Define 2nd architecture\n",
    "class FireCeption:\n",
    "    # Something of a mixup between a Fire and Inception layers:\n",
    "    # - Initial (optional) squeeze reduces number of input features\n",
    "    # - Several stacks composed of (optional) MaxPooling, (optional) bottleneck and convolution\n",
    "    # - All results are concatenated \n",
    "    # - Dropout is optionally applied\n",
    "    # - Input is optionally added (To force the layer to calculate residuals)\n",
    "\n",
    "    class Stack(NamedTuple):\n",
    "        outputs: int\n",
    "        bottleneck: Optional[int] = None\n",
    "        maxPooling: Optional[Tuple[int, int]] = None\n",
    "        conv: Tuple[int, int] = (1, 1)\n",
    "\n",
    "        def build(self, input, strides=(1,1), name='FireCeption.Stack'):\n",
    "            x = input\n",
    "            if self.bottleneck is not None:\n",
    "                x = Conv2D(self.bottleneck, kernel_size=(1,1), padding='same', activation='relu', name=f'{name}/bottleneck')(x)\n",
    "            if self.maxPooling is not None:\n",
    "                x = MaxPooling2D(pool_size=self.maxPooling, strides=(1,1), padding='same', name=f'{name}/maxPooling')(x)\n",
    "            x = Conv2D(self.outputs, kernel_size=self.conv, strides=strides, activation='relu', padding='same', name=f'{name}/conv')(x)\n",
    "            return x\n",
    "        \n",
    "    @staticmethod\n",
    "    def Layer(input, squeeze:Optional[int]=None, stacks:List['FireCeption.Stack']=[], strides=(1,1), dropout:float=None, residual=None, name:str='FireCeption'):\n",
    "        squeeze_layer = input if squeeze is None else Conv2D(squeeze, kernel_size=(1,1), padding='same', activation='relu', name=f'{name}/squeeze')(input)\n",
    "        stack_layers = [\n",
    "            stack.build(squeeze_layer, strides=strides, name=f'{name}/{i}')\n",
    "            for i, stack in enumerate(stacks)\n",
    "        ]\n",
    "        concat_layer = concatenate(stack_layers, axis=3, name=f'{name}/concat')\n",
    "        dropout_layer = concat_layer if dropout is None else SpatialDropout2D(dropout)(concat_layer)\n",
    "        residual_layer = dropout_layer if residual is None else Add()([residual, dropout_layer])\n",
    "        return residual_layer\n",
    "\n",
    "def createModel2():\n",
    "    input = Input(shape=(32, 32, 3)) #placeholder\n",
    "    x = input\n",
    "    \n",
    "    x = FireCeption.Layer(\n",
    "        input=x,\n",
    "        name='FireCeption-in',\n",
    "        dropout=0.2,\n",
    "        strides=(1,1),\n",
    "        stacks=[\n",
    "            FireCeption.Stack(conv=(1,1), outputs=16),\n",
    "            FireCeption.Stack(conv=(3,3), outputs=16),\n",
    "            FireCeption.Stack(conv=(5,5), outputs=16),\n",
    "            FireCeption.Stack(maxPooling=(3,3), outputs=16)\n",
    "        ])\n",
    "    \n",
    "    for i in range(5):\n",
    "        x1 = FireCeption.Layer(\n",
    "            input=x,\n",
    "            name=f'FireCeption-{i}A',\n",
    "            squeeze=32,\n",
    "            dropout=0.2,\n",
    "            stacks=[\n",
    "                FireCeption.Stack(conv=(1,1), outputs=16),\n",
    "                FireCeption.Stack(conv=(3,3), outputs=16),\n",
    "                FireCeption.Stack(conv=(5,5), outputs=16),\n",
    "                FireCeption.Stack(maxPooling=(3,3), outputs=16)\n",
    "            ])\n",
    "        x2 = FireCeption.Layer(\n",
    "            input=x1,\n",
    "            name=f'FireCeption-{i}B',\n",
    "            squeeze=32,\n",
    "            dropout=0.2,\n",
    "            residual=x,\n",
    "            stacks=[\n",
    "                FireCeption.Stack(conv=(1,1), outputs=16),\n",
    "                FireCeption.Stack(conv=(3,3), outputs=16),\n",
    "                FireCeption.Stack(conv=(5,5), outputs=16),\n",
    "                FireCeption.Stack(maxPooling=(3,3), outputs=16)\n",
    "            ])\n",
    "        x = AveragePooling2D(pool_size=(2,2))(x2)\n",
    "    \n",
    "            \n",
    "    x = GlobalAveragePooling2D()(x)\n",
    "    x = Dense(10, activation='softmax')(x)\n",
    "    return Model(inputs=input, outputs=x)"
   ]
  },
  {
   "cell_type": "code",
   "execution_count": 0,
   "metadata": {
    "colab": {
     "autoexec": {
      "startup": false,
      "wait_interval": 0
     }
    },
    "colab_type": "code",
    "id": "gC4XNbSx-4mz"
   },
   "outputs": [],
   "source": [
    "models = {\n",
    "    'One': createModel1(),\n",
    "    'Two': createModel2(),\n",
    "}"
   ]
  },
  {
   "cell_type": "markdown",
   "metadata": {
    "colab_type": "text",
    "id": "G1mbKOQl-4m8"
   },
   "source": [
    "# Treinamento - [0.25 pontos]\n",
    "***Não se esqueçam de***:\n",
    "    - Escolher otimizador e loss;\n",
    "    - Compilar o modelo;\n",
    "    - Definir número de épocas, tamanho do batch (utilizar o mesmo para ambas as redes);\n",
    "    - Passar o conjunto de validação em `validation_data`;"
   ]
  },
  {
   "cell_type": "code",
   "execution_count": 14,
   "metadata": {
    "colab": {
     "autoexec": {
      "startup": false,
      "wait_interval": 0
     },
     "base_uri": "https://localhost:8080/",
     "height": 2994
    },
    "colab_type": "code",
    "executionInfo": {
     "elapsed": 3869794,
     "status": "ok",
     "timestamp": 1530231054107,
     "user": {
      "displayName": "Paulo Costa",
      "photoUrl": "//lh6.googleusercontent.com/-4-J0kMYguKE/AAAAAAAAAAI/AAAAAAAAo-4/6G1fkrkjcC0/s50-c-k-no/photo.jpg",
      "userId": "114253434612567270703"
     },
     "user_tz": 180
    },
    "id": "Ogbh-AVy-4m-",
    "outputId": "5a5339ab-822f-489f-d837-841171132e38"
   },
   "outputs": [
    {
     "name": "stdout",
     "output_type": "stream",
     "text": [
      "trainning model One:  84362 parameters\n",
      "Epoch 1/100\n",
      "400/400 [==============================] - 28s 71ms/step - loss: 2.0070 - acc: 0.2489 - val_loss: 1.6327 - val_acc: 0.3962\n",
      "Epoch 2/100\n",
      "187/400 [=============>................] - ETA: 12s - loss: 1.6960 - acc: 0.3752400/400 [==============================] - 25s 63ms/step - loss: 1.6530 - acc: 0.3940 - val_loss: 1.4630 - val_acc: 0.4793\n",
      "Epoch 3/100\n",
      "389/400 [============================>.] - ETA: 0s - loss: 1.5305 - acc: 0.4427400/400 [==============================] - 26s 64ms/step - loss: 1.5287 - acc: 0.4428 - val_loss: 1.3591 - val_acc: 0.5051\n",
      "Epoch 4/100\n",
      "400/400 [==============================] - 26s 64ms/step - loss: 1.4522 - acc: 0.4780 - val_loss: 1.2546 - val_acc: 0.5475\n",
      "Epoch 5/100\n",
      " 43/400 [==>...........................] - ETA: 19s - loss: 1.3812 - acc: 0.4970400/400 [==============================] - 26s 64ms/step - loss: 1.3972 - acc: 0.4985 - val_loss: 1.2287 - val_acc: 0.5638\n",
      "Epoch 6/100\n",
      "326/400 [=======================>......] - ETA: 4s - loss: 1.3474 - acc: 0.516400/400 [==============================] - 26s 64ms/step - loss: 1.3425 - acc: 0.5182 - val_loss: 1.1553 - val_acc: 0.5882\n",
      "Epoch 7/100\n",
      "400/400 [==============================] - 25s 64ms/step - loss: 1.2909 - acc: 0.5375 - val_loss: 1.1092 - val_acc: 0.6025\n",
      "Epoch 8/100\n",
      " 29/400 [=>............................] - ETA: 18s - loss: 1.3455 - acc: 0.5155400/400 [==============================] - 25s 63ms/step - loss: 1.2719 - acc: 0.5413 - val_loss: 1.0654 - val_acc: 0.6180\n",
      "Epoch 9/100\n",
      "331/400 [=======================>......] - ETA: 4s - loss: 1.2444 - acc: 0.5575400/400 [==============================] - 25s 63ms/step - loss: 1.2432 - acc: 0.5583 - val_loss: 1.0423 - val_acc: 0.6320\n",
      "Epoch 10/100\n",
      "400/400 [==============================] - 25s 64ms/step - loss: 1.2161 - acc: 0.5670 - val_loss: 0.9962 - val_acc: 0.6539\n",
      "Epoch 11/100\n",
      " 32/400 [=>............................] - ETA: 17s - loss: 1.1657 - acc: 0.5978400/400 [==============================] - 25s 63ms/step - loss: 1.1940 - acc: 0.5756 - val_loss: 1.0241 - val_acc: 0.6385\n",
      "Epoch 12/100\n",
      "328/400 [=======================>......] - ETA: 4s - loss: 1.1785 - acc: 0.5833400/400 [==============================] - 25s 63ms/step - loss: 1.1756 - acc: 0.5849 - val_loss: 0.9872 - val_acc: 0.6563\n",
      "Epoch 13/100\n",
      "400/400 [==============================] - 25s 63ms/step - loss: 1.1576 - acc: 0.5909 - val_loss: 0.9677 - val_acc: 0.6665\n",
      "Epoch 14/100\n",
      " 29/400 [=>............................] - ETA: 18s - loss: 1.1667 - acc: 0.5928400/400 [==============================] - 25s 64ms/step - loss: 1.1404 - acc: 0.5984 - val_loss: 0.9486 - val_acc: 0.6698\n",
      "Epoch 15/100\n",
      "327/400 [=======================>......] - ETA: 4s - loss: 1.1280 - acc: 0.6007400/400 [==============================] - 25s 64ms/step - loss: 1.1279 - acc: 0.6001 - val_loss: 0.9430 - val_acc: 0.6716\n",
      "Epoch 16/100\n",
      "400/400 [==============================] - 25s 63ms/step - loss: 1.1139 - acc: 0.6040 - val_loss: 0.9240 - val_acc: 0.6763\n",
      "Epoch 17/100\n",
      " 32/400 [=>............................] - ETA: 17s - loss: 1.0812 - acc: 0.6269400/400 [==============================] - 25s 64ms/step - loss: 1.1117 - acc: 0.6116 - val_loss: 0.9288 - val_acc: 0.6769\n",
      "Epoch 18/100\n",
      "330/400 [=======================>......] - ETA: 4s - loss: 1.0948 - acc: 0.6148400/400 [==============================] - 25s 63ms/step - loss: 1.0946 - acc: 0.6147 - val_loss: 0.9176 - val_acc: 0.6795\n",
      "Epoch 19/100\n",
      "400/400 [==============================] - 25s 63ms/step - loss: 1.0932 - acc: 0.6161 - val_loss: 0.8944 - val_acc: 0.6861\n",
      "Epoch 20/100\n",
      " 28/400 [=>............................] - ETA: 17s - loss: 1.0759 - acc: 0.6261400/400 [==============================] - 25s 63ms/step - loss: 1.0751 - acc: 0.6241 - val_loss: 0.8736 - val_acc: 0.6936\n",
      "Epoch 21/100\n",
      "330/400 [=======================>......] - ETA: 4s - loss: 1.0709 - acc: 0.6214400/400 [==============================] - 25s 63ms/step - loss: 1.0695 - acc: 0.6224 - val_loss: 0.8671 - val_acc: 0.6975\n",
      "Epoch 22/100\n",
      "400/400 [==============================] - 25s 63ms/step - loss: 1.0663 - acc: 0.6244 - val_loss: 0.8783 - val_acc: 0.6933\n",
      "Epoch 23/100\n",
      " 32/400 [=>............................] - ETA: 18s - loss: 1.0665 - acc: 0.6331400/400 [==============================] - 25s 63ms/step - loss: 1.0585 - acc: 0.6307 - val_loss: 0.8822 - val_acc: 0.6943\n",
      "Epoch 24/100\n",
      "331/400 [=======================>......] - ETA: 4s - loss: 1.0479 - acc: 0.6311400/400 [==============================] - 25s 63ms/step - loss: 1.0527 - acc: 0.6312 - val_loss: 0.8421 - val_acc: 0.7096\n",
      "Epoch 25/100\n",
      "400/400 [==============================] - 25s 64ms/step - loss: 1.0439 - acc: 0.6327 - val_loss: 0.8394 - val_acc: 0.7076\n",
      "Epoch 26/100\n",
      " 29/400 [=>............................] - ETA: 17s - loss: 1.0169 - acc: 0.6393400/400 [==============================] - 25s 64ms/step - loss: 1.0406 - acc: 0.6360 - val_loss: 0.8512 - val_acc: 0.7035\n",
      "Epoch 27/100\n",
      "330/400 [=======================>......] - ETA: 4s - loss: 1.0289 - acc: 0.6416400/400 [==============================] - 25s 64ms/step - loss: 1.0297 - acc: 0.6399 - val_loss: 0.8556 - val_acc: 0.6980\n",
      "Epoch 28/100\n",
      "400/400 [==============================] - 25s 64ms/step - loss: 1.0259 - acc: 0.6382 - val_loss: 0.8223 - val_acc: 0.7087\n",
      "Epoch 29/100\n",
      " 29/400 [=>............................] - ETA: 17s - loss: 1.0081 - acc: 0.6448400/400 [==============================] - 25s 64ms/step - loss: 1.0148 - acc: 0.6436 - val_loss: 0.8193 - val_acc: 0.7143\n",
      "Epoch 30/100\n",
      "331/400 [=======================>......] - ETA: 4s - loss: 1.0268 - acc: 0.6413400/400 [==============================] - 25s 63ms/step - loss: 1.0249 - acc: 0.6414 - val_loss: 0.8444 - val_acc: 0.7073\n",
      "Epoch 31/100\n",
      "400/400 [==============================] - 25s 64ms/step - loss: 1.0223 - acc: 0.6419 - val_loss: 0.8219 - val_acc: 0.7095\n",
      "Epoch 32/100\n",
      " 28/400 [=>............................] - ETA: 17s - loss: 1.0154 - acc: 0.6446400/400 [==============================] - 25s 64ms/step - loss: 1.0080 - acc: 0.6483 - val_loss: 0.8204 - val_acc: 0.7161\n",
      "Epoch 33/100\n",
      "325/400 [=======================>......] - ETA: 4s - loss: 1.0059 - acc: 0.6515400/400 [==============================] - 26s 64ms/step - loss: 1.0043 - acc: 0.6514 - val_loss: 0.8118 - val_acc: 0.7190\n",
      "Epoch 34/100\n",
      "400/400 [==============================] - 25s 63ms/step - loss: 1.0027 - acc: 0.6496 - val_loss: 0.8051 - val_acc: 0.7249\n",
      "Epoch 35/100\n",
      " 30/400 [=>............................] - ETA: 18s - loss: 0.9776 - acc: 0.6620400/400 [==============================] - 25s 64ms/step - loss: 0.9977 - acc: 0.6515 - val_loss: 0.7941 - val_acc: 0.7245\n",
      "Epoch 36/100\n",
      "329/400 [=======================>......] - ETA: 4s - loss: 0.9920 - acc: 0.6537400/400 [==============================] - 25s 64ms/step - loss: 0.9891 - acc: 0.6550 - val_loss: 0.8205 - val_acc: 0.7165\n",
      "Epoch 37/100\n",
      "400/400 [==============================] - 25s 63ms/step - loss: 0.9926 - acc: 0.6540 - val_loss: 0.8044 - val_acc: 0.7215\n",
      "Epoch 38/100\n",
      " 30/400 [=>............................] - ETA: 18s - loss: 0.9653 - acc: 0.6623400/400 [==============================] - 25s 63ms/step - loss: 0.9839 - acc: 0.6549 - val_loss: 0.7960 - val_acc: 0.7223\n",
      "Epoch 39/100\n",
      "331/400 [=======================>......] - ETA: 4s - loss: 0.9830 - acc: 0.6599400/400 [==============================] - 25s 63ms/step - loss: 0.9835 - acc: 0.6592 - val_loss: 0.7905 - val_acc: 0.7232\n",
      "trainning model Two:  208202 parameters\n",
      "Epoch 1/100\n",
      "368/400 [==========================>...] - ETA: 5s - loss: 2.0789 - acc: 0.2190400/400 [==============================] - 70s 174ms/step - loss: 2.0640 - acc: 0.2249 - val_loss: 1.8079 - val_acc: 0.3389\n",
      "Epoch 2/100\n",
      "400/400 [==============================] - 65s 162ms/step - loss: 1.7627 - acc: 0.3394 - val_loss: 1.5826 - val_acc: 0.4066\n",
      "Epoch 3/100\n",
      " 31/400 [=>............................] - ETA: 56s - loss: 1.6595 - acc: 0.3723400/400 [==============================] - 65s 163ms/step - loss: 1.6213 - acc: 0.3963 - val_loss: 1.4752 - val_acc: 0.4500\n",
      "Epoch 4/100\n",
      "325/400 [=======================>......] - ETA: 11s - loss: 1.5533 - acc: 0.4203400/400 [==============================] - 65s 163ms/step - loss: 1.5471 - acc: 0.4228 - val_loss: 1.4005 - val_acc: 0.4830\n",
      "Epoch 5/100\n",
      "400/400 [==============================] - 65s 162ms/step - loss: 1.4860 - acc: 0.4533 - val_loss: 1.3305 - val_acc: 0.5176\n",
      "Epoch 6/100\n"
     ]
    },
    {
     "name": "stdout",
     "output_type": "stream",
     "text": [
      " 21/400 [>.............................] - ETA: 58s - loss: 1.4473 - acc: 0.4800400/400 [==============================] - 65s 162ms/step - loss: 1.4290 - acc: 0.4767 - val_loss: 1.2897 - val_acc: 0.5258\n",
      "Epoch 7/100\n",
      "322/400 [=======================>......] - ETA: 12s - loss: 1.4022 - acc: 0.4880400/400 [==============================] - 65s 163ms/step - loss: 1.3961 - acc: 0.4908 - val_loss: 1.2194 - val_acc: 0.5613\n",
      "Epoch 8/100\n",
      "400/400 [==============================] - 65s 162ms/step - loss: 1.3533 - acc: 0.5070 - val_loss: 1.2315 - val_acc: 0.5543\n",
      "Epoch 9/100\n",
      " 20/400 [>.............................] - ETA: 59s - loss: 1.3103 - acc: 0.5110400/400 [==============================] - 65s 163ms/step - loss: 1.3226 - acc: 0.5164 - val_loss: 1.1734 - val_acc: 0.5734\n",
      "Epoch 10/100\n",
      "320/400 [=======================>......] - ETA: 12s - loss: 1.2934 - acc: 0.5296400/400 [==============================] - 65s 162ms/step - loss: 1.2885 - acc: 0.5309 - val_loss: 1.1299 - val_acc: 0.5965\n",
      "Epoch 11/100\n",
      "400/400 [==============================] - 65s 163ms/step - loss: 1.2644 - acc: 0.5375 - val_loss: 1.1321 - val_acc: 0.5908\n",
      "Epoch 12/100\n",
      " 19/400 [>.............................] - ETA: 58s - loss: 1.2631 - acc: 0.5295400/400 [==============================] - 65s 162ms/step - loss: 1.2368 - acc: 0.5517 - val_loss: 1.0713 - val_acc: 0.6133\n",
      "Epoch 13/100\n",
      "320/400 [=======================>......] - ETA: 12s - loss: 1.2122 - acc: 0.5609400/400 [==============================] - 65s 163ms/step - loss: 1.2128 - acc: 0.5619 - val_loss: 1.0552 - val_acc: 0.6216\n",
      "Epoch 14/100\n",
      "400/400 [==============================] - 65s 163ms/step - loss: 1.1807 - acc: 0.5722 - val_loss: 1.0021 - val_acc: 0.6408\n",
      "Epoch 15/100\n",
      " 18/400 [>.............................] - ETA: 59s - loss: 1.1586 - acc: 0.5878400/400 [==============================] - 65s 163ms/step - loss: 1.1570 - acc: 0.5829 - val_loss: 1.0025 - val_acc: 0.6369\n",
      "Epoch 16/100\n",
      "319/400 [======================>.......] - ETA: 12s - loss: 1.1395 - acc: 0.5895400/400 [==============================] - 65s 163ms/step - loss: 1.1400 - acc: 0.5888 - val_loss: 0.9675 - val_acc: 0.6532\n",
      "Epoch 17/100\n",
      "400/400 [==============================] - 65s 163ms/step - loss: 1.1177 - acc: 0.6014 - val_loss: 1.0017 - val_acc: 0.6408\n",
      "Epoch 18/100\n",
      " 18/400 [>.............................] - ETA: 59s - loss: 1.1090 - acc: 0.6033400/400 [==============================] - 65s 162ms/step - loss: 1.1018 - acc: 0.6047 - val_loss: 1.0078 - val_acc: 0.6407\n",
      "Epoch 19/100\n",
      "319/400 [======================>.......] - ETA: 12s - loss: 1.0796 - acc: 0.6142400/400 [==============================] - 65s 162ms/step - loss: 1.0803 - acc: 0.6143 - val_loss: 0.9313 - val_acc: 0.6675\n",
      "Epoch 20/100\n",
      "400/400 [==============================] - 65s 163ms/step - loss: 1.0660 - acc: 0.6200 - val_loss: 0.8956 - val_acc: 0.6778\n",
      "Epoch 21/100\n",
      " 18/400 [>.............................] - ETA: 59s - loss: 1.0797 - acc: 0.6061 400/400 [==============================] - 65s 163ms/step - loss: 1.0571 - acc: 0.6208 - val_loss: 0.9077 - val_acc: 0.6752\n",
      "Epoch 22/100\n",
      "319/400 [======================>.......] - ETA: 12s - loss: 1.0451 - acc: 0.6258400/400 [==============================] - 65s 163ms/step - loss: 1.0448 - acc: 0.6256 - val_loss: 0.9216 - val_acc: 0.6711\n",
      "Epoch 23/100\n",
      "400/400 [==============================] - 65s 163ms/step - loss: 1.0285 - acc: 0.6321 - val_loss: 0.8999 - val_acc: 0.6756\n",
      "Epoch 24/100\n",
      " 18/400 [>.............................] - ETA: 59s - loss: 0.9900 - acc: 0.6528400/400 [==============================] - 65s 163ms/step - loss: 1.0167 - acc: 0.6400 - val_loss: 0.8836 - val_acc: 0.6773\n",
      "Epoch 25/100\n",
      "319/400 [======================>.......] - ETA: 12s - loss: 0.9959 - acc: 0.6464400/400 [==============================] - 65s 163ms/step - loss: 0.9983 - acc: 0.6456 - val_loss: 0.8730 - val_acc: 0.6858\n",
      "Epoch 26/100\n",
      "400/400 [==============================] - 65s 163ms/step - loss: 0.9908 - acc: 0.6481 - val_loss: 0.8414 - val_acc: 0.6950\n",
      "Epoch 27/100\n",
      " 18/400 [>.............................] - ETA: 59s - loss: 0.9911 - acc: 0.6478 400/400 [==============================] - 65s 163ms/step - loss: 0.9831 - acc: 0.6496 - val_loss: 0.8546 - val_acc: 0.6915\n",
      "Epoch 28/100\n",
      "319/400 [======================>.......] - ETA: 12s - loss: 0.9757 - acc: 0.6529400/400 [==============================] - 65s 163ms/step - loss: 0.9758 - acc: 0.6544 - val_loss: 0.8645 - val_acc: 0.6944\n",
      "Epoch 29/100\n",
      "400/400 [==============================] - 65s 163ms/step - loss: 0.9609 - acc: 0.6575 - val_loss: 0.8129 - val_acc: 0.7108\n",
      "Epoch 30/100\n",
      " 18/400 [>.............................] - ETA: 59s - loss: 0.9767 - acc: 0.6528 400/400 [==============================] - 65s 163ms/step - loss: 0.9542 - acc: 0.6613 - val_loss: 0.8414 - val_acc: 0.6968\n",
      "Epoch 31/100\n",
      "319/400 [======================>.......] - ETA: 12s - loss: 0.9502 - acc: 0.6591400/400 [==============================] - 65s 162ms/step - loss: 0.9494 - acc: 0.6611 - val_loss: 0.7993 - val_acc: 0.7150\n",
      "Epoch 32/100\n",
      "400/400 [==============================] - 65s 162ms/step - loss: 0.9417 - acc: 0.6660 - val_loss: 0.8017 - val_acc: 0.7095\n",
      "Epoch 33/100\n",
      " 18/400 [>.............................] - ETA: 59s - loss: 0.9535 - acc: 0.6517400/400 [==============================] - 65s 163ms/step - loss: 0.9382 - acc: 0.6696 - val_loss: 0.8221 - val_acc: 0.7064\n",
      "Epoch 34/100\n",
      "319/400 [======================>.......] - ETA: 12s - loss: 0.9220 - acc: 0.6718400/400 [==============================] - 65s 163ms/step - loss: 0.9231 - acc: 0.6724 - val_loss: 0.8283 - val_acc: 0.7079\n",
      "Epoch 35/100\n",
      "400/400 [==============================] - 65s 162ms/step - loss: 0.9150 - acc: 0.6758 - val_loss: 0.8053 - val_acc: 0.7142\n",
      "Epoch 36/100\n",
      " 18/400 [>.............................] - ETA: 58s - loss: 0.9202 - acc: 0.6756400/400 [==============================] - 65s 161ms/step - loss: 0.9106 - acc: 0.6763 - val_loss: 0.7654 - val_acc: 0.7315\n",
      "Epoch 37/100\n",
      "319/400 [======================>.......] - ETA: 12s - loss: 0.9075 - acc: 0.6796400/400 [==============================] - 65s 163ms/step - loss: 0.9079 - acc: 0.6801 - val_loss: 0.7519 - val_acc: 0.7322\n",
      "Epoch 38/100\n",
      "400/400 [==============================] - 65s 162ms/step - loss: 0.9075 - acc: 0.6789 - val_loss: 0.8306 - val_acc: 0.7068\n",
      "Epoch 39/100\n",
      " 18/400 [>.............................] - ETA: 58s - loss: 0.8911 - acc: 0.6944400/400 [==============================] - 65s 163ms/step - loss: 0.8977 - acc: 0.6814 - val_loss: 0.7427 - val_acc: 0.7362\n",
      "Epoch 40/100\n",
      "318/400 [======================>.......] - ETA: 13s - loss: 0.8874 - acc: 0.6890400/400 [==============================] - 70s 174ms/step - loss: 0.8849 - acc: 0.6893 - val_loss: 0.7884 - val_acc: 0.7180\n",
      "Epoch 41/100\n",
      "400/400 [==============================] - 65s 162ms/step - loss: 0.8833 - acc: 0.6864 - val_loss: 0.7732 - val_acc: 0.7259\n",
      "Epoch 42/100\n",
      " 18/400 [>.............................] - ETA: 58s - loss: 0.8318 - acc: 0.7072400/400 [==============================] - 65s 162ms/step - loss: 0.8784 - acc: 0.6897 - val_loss: 0.7417 - val_acc: 0.7346\n",
      "Epoch 43/100\n",
      "319/400 [======================>.......] - ETA: 12s - loss: 0.8781 - acc: 0.6889400/400 [==============================] - 65s 162ms/step - loss: 0.8736 - acc: 0.6916 - val_loss: 0.7840 - val_acc: 0.7213\n",
      "Epoch 44/100\n",
      "400/400 [==============================] - 65s 163ms/step - loss: 0.8667 - acc: 0.6941 - val_loss: 0.7803 - val_acc: 0.7262\n"
     ]
    }
   ],
   "source": [
    "def do_train(name, model):\n",
    "    print(f'trainning model {name}:  {model.count_params()} parameters')\n",
    "    \n",
    "    #Compile model\n",
    "    model.compile(loss='categorical_crossentropy', optimizer='adam', metrics=['accuracy'])\n",
    "    \n",
    "    #Data augmentation\n",
    "    trainDataGen = ImageDataGenerator(\n",
    "            horizontal_flip=True, \n",
    "            zoom_range=0.05, \n",
    "            fill_mode='nearest',\n",
    "            rotation_range=10)\n",
    "    \n",
    "    \n",
    "    #Early stopping\n",
    "    earlystop = EarlyStopping(monitor='val_acc', #metric to monitor\n",
    "                          min_delta=0.001,  #difference considered as improvement\n",
    "                          patience=5) #number of epochs with no improvement after which training will be stopped \n",
    "    \n",
    "    #Train CNN\n",
    "    return model.fit_generator(\n",
    "            trainDataGen.flow(X_train, Y_train, batch_size=100),\n",
    "            steps_per_epoch=len(X_train) / 100, \n",
    "            epochs=100,\n",
    "            verbose=1,\n",
    "            validation_data=(X_val, Y_val),\n",
    "            callbacks=[earlystop])\n",
    "\n",
    "train_history = {\n",
    "    name: do_train(name, model)\n",
    "    for name, model in models.items()\n",
    "}"
   ]
  },
  {
   "cell_type": "code",
   "execution_count": 20,
   "metadata": {
    "colab": {
     "autoexec": {
      "startup": false,
      "wait_interval": 0
     },
     "base_uri": "https://localhost:8080/",
     "height": 892
    },
    "colab_type": "code",
    "executionInfo": {
     "elapsed": 1168,
     "status": "ok",
     "timestamp": 1530231584037,
     "user": {
      "displayName": "Paulo Costa",
      "photoUrl": "//lh6.googleusercontent.com/-4-J0kMYguKE/AAAAAAAAAAI/AAAAAAAAo-4/6G1fkrkjcC0/s50-c-k-no/photo.jpg",
      "userId": "114253434612567270703"
     },
     "user_tz": 180
    },
    "id": "2kL8z5n3jPk-",
    "outputId": "ef10d831-43c3-49f3-f7eb-631af1dace22"
   },
   "outputs": [
    {
     "data": {
      "image/png": "[encoded data removed]",
      "text/plain": [
       "<matplotlib.figure.Figure at 0x7f58e938b828>"
      ]
     },
     "metadata": {
      "tags": []
     },
     "output_type": "display_data"
    }
   ],
   "source": [
    "legends=[]\n",
    "for name, history in train_history.items():\n",
    "    plt.plot(history.history['acc'])\n",
    "    plt.plot(history.history['val_acc'])\n",
    "    legends += [\n",
    "        f'{name} - Train', \n",
    "        f'{name} - Validation'\n",
    "    ]\n",
    "\n",
    "plt.title('Model Accuracy')\n",
    "plt.ylabel('Accuracy')\n",
    "plt.xlabel('Epoch')\n",
    "plt.legend(legends, loc='upper left')\n",
    "plt.show()"
   ]
  },
  {
   "cell_type": "markdown",
   "metadata": {
    "colab_type": "text",
    "id": "WNtpDmJ0-4nR"
   },
   "source": [
    "# Resultados no conjunto de teste [0.25 pontos]\n",
    "***Não se esqueçam de***:\n",
    "    - Classificar as imagens do conjunto de teste utilizando cada rede;\n",
    "    - Computar acurácia para cada rede;\n",
    "    - Comparar ambas as acurácias;\n",
    "    - Plotar loss pelo número de épocas no conjunto de treinamento e validação de cada rede. "
   ]
  },
  {
   "cell_type": "code",
   "execution_count": 17,
   "metadata": {
    "colab": {
     "autoexec": {
      "startup": false,
      "wait_interval": 0
     },
     "base_uri": "https://localhost:8080/",
     "height": 122
    },
    "colab_type": "code",
    "executionInfo": {
     "elapsed": 7023,
     "status": "ok",
     "timestamp": 1530231121840,
     "user": {
      "displayName": "Paulo Costa",
      "photoUrl": "//lh6.googleusercontent.com/-4-J0kMYguKE/AAAAAAAAAAI/AAAAAAAAo-4/6G1fkrkjcC0/s50-c-k-no/photo.jpg",
      "userId": "114253434612567270703"
     },
     "user_tz": 180
    },
    "id": "cBnyywEM-4nT",
    "outputId": "ba7391f8-391c-4f8b-c870-963c3a6927cd"
   },
   "outputs": [
    {
     "name": "stdout",
     "output_type": "stream",
     "text": [
      "testing model One\n",
      "10000/10000 [==============================] - 1s 129us/step\n",
      "Accuracy: 0.7202\n",
      "testing model Two\n",
      "10000/10000 [==============================] - 5s 506us/step\n",
      "Accuracy: 0.7259\n"
     ]
    }
   ],
   "source": [
    "for name, model in models.items():\n",
    "    print(f'testing model {name}')\n",
    "    score = model.evaluate(X_test, Y_test, verbose=1)\n",
    "    print('Accuracy:', score[1])"
   ]
  },
  {
   "cell_type": "markdown",
   "metadata": {
    "colab_type": "text",
    "id": "ZXbZippu-4na"
   },
   "source": [
    "# Conclusões [0.2 pontos]\n",
    "Escrevam um parágrafo com as conclusões que vocês tiraram na tarefa. Comentem as diferenças entre as duas arquiteturas e em seus treinamentos, apontando a motivação pelas decisões tomadas. Se o resultado ficou melhor/pior do que o que você esperava, o que você acha que pode ter acontecido?"
   ]
  },
  {
   "cell_type": "markdown",
   "metadata": {
    "colab_type": "text",
    "id": "4pjel_HJfby6"
   },
   "source": [
    "Ambas os modelos escolhidos possuem arquitetura similar: São compostos por diversas camadas de convolução/pool que afunilam a imagem, finalmente terminando com o cálculo do valor médio cada filtro, camada  densa e ativação SoftMax.\n",
    "\n",
    "Além disso, para evitar overfitting, ambas possuem camadas de dropout, e as entradas do treino são aumentadas com rotação de ±10°, escala de ±10% e espelhamento aleatórios, e a etapa de treino possui EarlyStopping.\n",
    "\n",
    "Quanto as diferenças, a primeira arquitetura é mais simples: Apenas Convolução 3x3 e MaxPool 2x2 se alternam na parte principal.\n",
    "\n",
    "A segunda arquitetura é mais complicada e tenta copiar características dos Módulos Fire e Inception: Realiza diversas operações distintas de Convolução e MaxPooling (Com passos de `squeeze`/`botteneck` para reduzir o numero de parâmetros), e concatena os resultados. Além disso, a cada 2 operações de \"FireCeption\", é feita uma soma com a entrada, forçando a rede a se adaptar ao resíduo ao invés da saída desejada, como é feito na ResNet.\n",
    "\n",
    "\n",
    "Sendo uma arquitetura bem mais complicada e bem mais profunda, a esperança era de que o segundo modelo obtivesse resultados melhores. Porém, outra consequencia imediata da complexidade extra é o aumento de 2.4X na quantidade de parâmetros, o que dificulta o treino: Cada iteração é mais demorada, e são necessárias uma quantidade maior de épocas para atingir a mesma acurácia. \n",
    "\n",
    "Mas, dado tempo de treino suficiente, notamos que a segunda arquitetura ultrapassa a precisão da primeira apenas no conjunto de teste -- A diferença de performance entre as arquiteturas nos conjuntos de validação e teste não é significativa, e ambas as redes convergem para acurácia de aproximadamente 72%.\n",
    "\n",
    "Portanto a primeira rede é preferível pela simplicidade, velocidade e uso de memória reduzido."
   ]
  }
 ],
 "metadata": {
  "accelerator": "GPU",
  "colab": {
   "collapsed_sections": [],
   "default_view": {},
   "name": "INF0618_Tarefa02.ipynb",
   "provenance": [],
   "version": "0.3.2",
   "views": {}
  },
  "kernelspec": {
   "display_name": "Python 3",
   "language": "python",
   "name": "python3"
  },
  "language_info": {
   "codemirror_mode": {
    "name": "ipython",
    "version": 3
   },
   "file_extension": ".py",
   "mimetype": "text/x-python",
   "name": "python",
   "nbconvert_exporter": "python",
   "pygments_lexer": "ipython3",
   "version": "3.6.5"
  }
 },
 "nbformat": 4,
 "nbformat_minor": 1
}
