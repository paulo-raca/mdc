{
 "cells": [
  {
   "cell_type": "code",
   "execution_count": null,
   "metadata": {},
   "outputs": [],
   "source": [
    "%matplotlib inline"
   ]
  },
  {
   "cell_type": "markdown",
   "metadata": {},
   "source": [
    "# Assignment 01 - Exploring CNNs for MNIST\n",
    "\n",
    "In this assignment, we want you to modify the CNN architecture that we used in the last MNIST exercise, adding new layers and altering their hyperparameters. We have already loaded and preprocessed the data for you, so you can focus on the architecture and training of your network."
   ]
  },
  {
   "cell_type": "markdown",
   "metadata": {},
   "source": [
    "----------------------\n",
    "*** You do not need to alter the blocks `Imports`, `Load training data` and `Preprocessing` ***\n",
    "## Imports"
   ]
  },
  {
   "cell_type": "code",
   "execution_count": null,
   "metadata": {},
   "outputs": [],
   "source": [
    "import numpy as np\n",
    "from random import shuffle, seed\n",
    "seed(42)  #keep this seed, in order to compare the results with your classmates\n",
    "\n",
    "import matplotlib.pyplot as plt\n",
    "plt.rcParams['figure.figsize'] = (15,15) # Make the figures a bit bigger\n",
    "\n",
    "from keras.datasets import mnist\n",
    "from keras.models import Sequential\n",
    "from keras.layers.core import Dense, Dropout, Flatten\n",
    "from keras.layers import Conv2D, MaxPooling2D\n",
    "from keras.utils import np_utils\n",
    "from keras import optimizers"
   ]
  },
  {
   "cell_type": "markdown",
   "metadata": {},
   "source": [
    "## Load training data"
   ]
  },
  {
   "cell_type": "code",
   "execution_count": null,
   "metadata": {},
   "outputs": [],
   "source": [
    "nb_classes = 10\n",
    "\n",
    "# the data, shuffled and split between trainVal and test sets\n",
    "(trainVal_data, trainVal_label), (X_test, y_test) = mnist.load_data()\n",
    "\n",
    "# We want now to split the trainVal data into train and validation sets\n",
    "nData = trainVal_data.shape[0]  #find the size of trainVal\n",
    "nTrain = int(nData * 0.8)  #80% to train, 20% to val\n",
    "\n",
    "randomIdx = list(range(nData))   #randomly select indexes\n",
    "shuffle(randomIdx)\n",
    "trainIdx = randomIdx[:nTrain] \n",
    "valIdx = randomIdx[nTrain:]\n",
    "\n",
    "# Split the data\n",
    "X_val, y_val = trainVal_data[valIdx], trainVal_label[valIdx]\n",
    "X_train, y_train = trainVal_data[trainIdx], trainVal_label[trainIdx]"
   ]
  },
  {
   "cell_type": "markdown",
   "metadata": {},
   "source": [
    "## Obtain class weights and samples per class"
   ]
  },
  {
   "cell_type": "code",
   "execution_count": null,
   "metadata": {},
   "outputs": [],
   "source": [
    "unique, counts = np.unique(y_train, return_counts=True)\n",
    "print(\"Train ---> \", dict(zip(unique, counts)), \"\\n\")\n",
    "\n",
    "\n",
    "from sklearn.utils.class_weight import compute_class_weight\n",
    "class_weights = compute_class_weight('balanced', np.unique(y_train), y_train)\n",
    "train_class_weights = dict(enumerate(class_weights))\n",
    "\n",
    "unique, counts = np.unique(y_test, return_counts=True)\n",
    "test_sample_per_class = counts"
   ]
  },
  {
   "cell_type": "markdown",
   "metadata": {},
   "source": [
    "## Preprocessing"
   ]
  },
  {
   "cell_type": "code",
   "execution_count": null,
   "metadata": {},
   "outputs": [],
   "source": [
    "img_rows, img_cols = 28, 28\n",
    "\n",
    "#The first dimension refers to the number of images\n",
    "X_train = X_train.reshape(X_train.shape[0], img_rows, img_cols, 1)\n",
    "X_val = X_val.reshape(X_val.shape[0], img_rows, img_cols, 1)\n",
    "X_test = X_test.reshape(X_test.shape[0], img_rows, img_cols, 1)\n",
    "\n",
    "X_train = X_train.astype('float32')\n",
    "X_val = X_val.astype('float32')\n",
    "X_test = X_test.astype('float32')\n",
    "\n",
    "X_train /= 255\n",
    "X_val /= 255\n",
    "X_test /= 255\n",
    "\n",
    "Y_train = np_utils.to_categorical(y_train, nb_classes)\n",
    "Y_val = np_utils.to_categorical(y_val, nb_classes)\n",
    "Y_test = np_utils.to_categorical(y_test, nb_classes)"
   ]
  },
  {
   "cell_type": "markdown",
   "metadata": {},
   "source": [
    "------------------------------------------\n",
    "------------------------------------------\n",
    "------------------------------------------\n",
    "------------------------------------------"
   ]
  },
  {
   "cell_type": "markdown",
   "metadata": {},
   "source": [
    "***Your assignment starts here!!!***\n",
    "\n",
    "# Task 1 [0.25 pts] - Add a fully-connected layer\n",
    "Let's investigate if the network gets better as we add more layers to it. We want you to add another fully-connected layer to the network from last exercise. Your network will have:\n",
    "- Convolutional layer with 10 filters of size 5x5 with ReLU activation;\n",
    "- Max pooling layer with kernel 2x2, that will reduce each spatial dimension by half (24x24 to 12x12);\n",
    "- An operation to flatten the feature maps into an array of size 10x12x12 = 1440\n",
    "- Dropout operation with probability 0.25, applied to flattened array\n",
    "- **Fully connected layer with 100 units/neurons and ReLU activation;**\n",
    "- Fully connected layer with units/neurons equal to the number of classes in our problem (in this case, 10);\n",
    "- Softmax activation on the last FC layer.\n",
    "\n",
    "The architecture will look like this:\n"
   ]
  },
  {
   "cell_type": "markdown",
   "metadata": {},
   "source": [
    "<img src=\"task1_cnn.png\" />"
   ]
  },
  {
   "cell_type": "code",
   "execution_count": null,
   "metadata": {},
   "outputs": [],
   "source": [
    "# define your model here"
   ]
  },
  {
   "cell_type": "markdown",
   "metadata": {},
   "source": [
    "## Compile and train your model"
   ]
  },
  {
   "cell_type": "code",
   "execution_count": null,
   "metadata": {},
   "outputs": [],
   "source": [
    "# compile and train your model"
   ]
  },
  {
   "cell_type": "markdown",
   "metadata": {},
   "source": [
    "## Evaluate on the test data"
   ]
  },
  {
   "cell_type": "code",
   "execution_count": null,
   "metadata": {},
   "outputs": [],
   "source": [
    "score = model.evaluate(X_test, Y_test, verbose=1)\n",
    "print('Test loss:', score[0])\n",
    "print('Test accuracy (NOT NORMALIZED):', score[1])\n",
    "\n",
    "\n",
    "predicted_classes = model.predict_classes(X_test)\n",
    "Y_test_classes = np.argmax(Y_test, axis=-1)\n",
    "\n",
    "accPerClass = []\n",
    "for classIdx in range(nb_classes):\n",
    "    idx = (Y_test_classes == classIdx)\n",
    "    \n",
    "    correctPred = np.sum(predicted_classes[idx] == Y_test_classes[idx])\n",
    "    accPerClass.append( correctPred / float(test_sample_per_class[classIdx]))\n",
    "    \n",
    "print(dict(zip(range(nb_classes),accPerClass)), \"\\n\")\n",
    "print(\"Normalized Acc --> \", np.mean(accPerClass))"
   ]
  },
  {
   "cell_type": "markdown",
   "metadata": {},
   "source": [
    "----------------\n",
    "----------------\n",
    "# Task 2 [0.25 pts] - Add another (conv + max pooling) layers\n",
    "We want you to add another convolutional layer, followed by a max pooling to the network. Your network will have:\n",
    "- Convolutional layer with 10 filters of size 5x5 with ReLU activation;\n",
    "- Max pooling layer with kernel 2x2, that will reduce each spatial dimension by half (24x24 to 12x12);\n",
    "- **Convolutional layer with 20 filters of size 5x5 with ReLU activation;**\n",
    "- **Max pooling layer with kernel 2x2, that will reduce each spatial dimension by half (8x8 to 4x4);**\n",
    "- An operation to flatten the feature maps into an array of size 20x4x4 = 320\n",
    "- Dropout operation with probability 0.25, applied to flattened array\n",
    "- Fully connected layer with units/neurons equal to the number of classes in our problem (in this case, 10);\n",
    "- Softmax activation on the last FC layer.\n",
    "\n",
    "The architecture will look like this:\n"
   ]
  },
  {
   "cell_type": "markdown",
   "metadata": {},
   "source": [
    "<img src=\"task2_cnn.png\" />"
   ]
  },
  {
   "cell_type": "code",
   "execution_count": null,
   "metadata": {},
   "outputs": [],
   "source": [
    "# define your model here"
   ]
  },
  {
   "cell_type": "markdown",
   "metadata": {},
   "source": [
    "## Compile and train your model"
   ]
  },
  {
   "cell_type": "code",
   "execution_count": null,
   "metadata": {},
   "outputs": [],
   "source": [
    "# compile and train your model"
   ]
  },
  {
   "cell_type": "markdown",
   "metadata": {},
   "source": [
    "## Evaluate on the test data"
   ]
  },
  {
   "cell_type": "code",
   "execution_count": null,
   "metadata": {},
   "outputs": [],
   "source": [
    "score = model.evaluate(X_test, Y_test, verbose=1)\n",
    "print('Test loss:', score[0])\n",
    "print('Test accuracy (NOT NORMALIZED):', score[1])\n",
    "\n",
    "\n",
    "predicted_classes = model.predict_classes(X_test)\n",
    "Y_test_classes = np.argmax(Y_test, axis=-1)\n",
    "\n",
    "accPerClass = []\n",
    "for classIdx in range(nb_classes):\n",
    "    idx = (Y_test_classes == classIdx)\n",
    "    \n",
    "    correctPred = np.sum(predicted_classes[idx] == Y_test_classes[idx])\n",
    "    accPerClass.append( correctPred / float(test_sample_per_class[classIdx]))\n",
    "    \n",
    "print(dict(zip(range(nb_classes),accPerClass)), \"\\n\")\n",
    "print(\"Normalized Acc --> \", np.mean(accPerClass))"
   ]
  },
  {
   "cell_type": "markdown",
   "metadata": {},
   "source": [
    "----------------\n",
    "----------------\n",
    "# Task 3 [0.25 pts] - Add Conv + MaxPool + FC\n",
    "Now combine tasks 1 and 2; adding the convolutional, max pooling and fc layer to your network. Your CNN will have:\n",
    "- Convolutional layer with 10 filters of size 5x5 with ReLU activation;\n",
    "- Max pooling layer with kernel 2x2, that will reduce each spatial dimension by half (24x24 to 12x12);\n",
    "- **Convolutional layer with 20 filters of size 5x5 with ReLU activation;**\n",
    "- **Max pooling layer with kernel 2x2, that will reduce each spatial dimension by half (8x8 to 4x4);**\n",
    "- An operation to flatten the feature maps into an array of size 20x4x4 = 320\n",
    "- Dropout operation with probability 0.25, applied to flattened array\n",
    "- **Fully connected layer with 100 units/neurons and ReLU activation;**\n",
    "- Fully connected layer with units/neurons equal to the number of classes in our problem (in this case, 10);\n",
    "- Softmax activation on the last FC layer.\n",
    "\n",
    "The architecture will look like this:\n"
   ]
  },
  {
   "cell_type": "markdown",
   "metadata": {},
   "source": [
    "<img src=\"task3_cnn.png\" />"
   ]
  },
  {
   "cell_type": "code",
   "execution_count": null,
   "metadata": {},
   "outputs": [],
   "source": [
    "# define your model here"
   ]
  },
  {
   "cell_type": "markdown",
   "metadata": {},
   "source": [
    "## Compile and train your model"
   ]
  },
  {
   "cell_type": "code",
   "execution_count": null,
   "metadata": {},
   "outputs": [],
   "source": [
    "# compile and train your model"
   ]
  },
  {
   "cell_type": "markdown",
   "metadata": {},
   "source": [
    "## Evaluate on the test data"
   ]
  },
  {
   "cell_type": "code",
   "execution_count": null,
   "metadata": {},
   "outputs": [],
   "source": [
    "score = model.evaluate(X_test, Y_test, verbose=1)\n",
    "print('Test loss:', score[0])\n",
    "print('Test accuracy (NOT NORMALIZED):', score[1])\n",
    "\n",
    "\n",
    "predicted_classes = model.predict_classes(X_test)\n",
    "Y_test_classes = np.argmax(Y_test, axis=-1)\n",
    "\n",
    "accPerClass = []\n",
    "for classIdx in range(nb_classes):\n",
    "    idx = (Y_test_classes == classIdx)\n",
    "    \n",
    "    correctPred = np.sum(predicted_classes[idx] == Y_test_classes[idx])\n",
    "    accPerClass.append( correctPred / float(test_sample_per_class[classIdx]))\n",
    "    \n",
    "print(dict(zip(range(nb_classes),accPerClass)), \"\\n\")\n",
    "print(\"Normalized Acc --> \", np.mean(accPerClass))"
   ]
  },
  {
   "cell_type": "markdown",
   "metadata": {},
   "source": [
    "----------------\n",
    "----------------\n",
    "# Task 4 [0.25 pts] - Implement a new modification\n",
    "Implement **one** modification to your network and evaluate it. Some possible alterations are:\n",
    "- Add more convolutional and/or max pooling layers;\n",
    "- Alter the kernel size and number of filters of the conv layers;\n",
    "- Try training with different batch sizes and higher number of epochs;\n",
    "- Try with different activations, besides ReLU and Softmax;\n",
    "- Try optimizing the CNN with a different loss;\n",
    "- Try different learning rates;"
   ]
  },
  {
   "cell_type": "code",
   "execution_count": null,
   "metadata": {},
   "outputs": [],
   "source": []
  }
 ],
 "metadata": {
  "kernelspec": {
   "display_name": "Python 3",
   "language": "python",
   "name": "python3"
  },
  "language_info": {
   "codemirror_mode": {
    "name": "ipython",
    "version": 3
   },
   "file_extension": ".py",
   "mimetype": "text/x-python",
   "name": "python",
   "nbconvert_exporter": "python",
   "pygments_lexer": "ipython3",
   "version": "3.5.2"
  }
 },
 "nbformat": 4,
 "nbformat_minor": 1
}
