{
 "cells": [
  {
   "cell_type": "code",
   "execution_count": 1,
   "metadata": {
    "scrolled": false
   },
   "outputs": [],
   "source": [
    "library(ggplot2)\n",
    "options(repr.plot.width=5, repr.plot.height=2)\n",
    "\n",
    "dist_l1 <- function(a,b) {\n",
    "    sum( abs(a-b) )\n",
    "}\n",
    "dist_l2 <- function(a,b) {\n",
    "    sqrt( sum( (a-b)^2 ) )\n",
    "}\n",
    "dist_cos <- function(a,b) {\n",
    "    sum(a*b) / (sqrt(sum(a^2)) * sqrt(sum(b^2)))\n",
    "}"
   ]
  },
  {
   "cell_type": "markdown",
   "metadata": {},
   "source": [
    "# Problema 1"
   ]
  },
  {
   "cell_type": "code",
   "execution_count": 2,
   "metadata": {
    "scrolled": false
   },
   "outputs": [
    {
     "name": "stdout",
     "output_type": "stream",
     "text": [
      "[1] \"Distancia L2\"\n"
     ]
    },
    {
     "data": {
      "text/html": [
       "<table>\n",
       "<thead><tr><th></th><th scope=col>X</th><th scope=col>Y</th><th scope=col>dist_l2</th></tr></thead>\n",
       "<tbody>\n",
       "\t<tr><th scope=row>P3</th><td>3       </td><td>12      </td><td>2.236068</td></tr>\n",
       "\t<tr><th scope=row>P1</th><td>5       </td><td> 8      </td><td>6.708204</td></tr>\n",
       "\t<tr><th scope=row>P2</th><td>1       </td><td> 7      </td><td>7.071068</td></tr>\n",
       "</tbody>\n",
       "</table>\n"
      ],
      "text/latex": [
       "\\begin{tabular}{r|lll}\n",
       "  & X & Y & dist\\_l2\\\\\n",
       "\\hline\n",
       "\tP3 & 3        & 12       & 2.236068\\\\\n",
       "\tP1 & 5        &  8       & 6.708204\\\\\n",
       "\tP2 & 1        &  7       & 7.071068\\\\\n",
       "\\end{tabular}\n"
      ],
      "text/markdown": [
       "\n",
       "| <!--/--> | X | Y | dist_l2 | \n",
       "|---|---|---|\n",
       "| P3 | 3        | 12       | 2.236068 | \n",
       "| P1 | 5        |  8       | 6.708204 | \n",
       "| P2 | 1        |  7       | 7.071068 | \n",
       "\n",
       "\n"
      ],
      "text/plain": [
       "   X Y  dist_l2 \n",
       "P3 3 12 2.236068\n",
       "P1 5  8 6.708204\n",
       "P2 1  7 7.071068"
      ]
     },
     "metadata": {},
     "output_type": "display_data"
    },
    {
     "name": "stdout",
     "output_type": "stream",
     "text": [
      "[1] \"Similaridade do Cosseno\"\n"
     ]
    },
    {
     "data": {
      "text/html": [
       "<table>\n",
       "<thead><tr><th></th><th scope=col>X</th><th scope=col>Y</th><th scope=col>dist_cos</th></tr></thead>\n",
       "<tbody>\n",
       "\t<tr><th scope=row>P3</th><td>3        </td><td>12       </td><td>0.9788265</td></tr>\n",
       "\t<tr><th scope=row>P1</th><td>5        </td><td> 8       </td><td>0.7452336</td></tr>\n",
       "\t<tr><th scope=row>P2</th><td>1        </td><td> 7       </td><td>0.7071068</td></tr>\n",
       "</tbody>\n",
       "</table>\n"
      ],
      "text/latex": [
       "\\begin{tabular}{r|lll}\n",
       "  & X & Y & dist\\_cos\\\\\n",
       "\\hline\n",
       "\tP3 & 3         & 12        & 0.9788265\\\\\n",
       "\tP1 & 5         &  8        & 0.7452336\\\\\n",
       "\tP2 & 1         &  7        & 0.7071068\\\\\n",
       "\\end{tabular}\n"
      ],
      "text/markdown": [
       "\n",
       "| <!--/--> | X | Y | dist_cos | \n",
       "|---|---|---|\n",
       "| P3 | 3         | 12        | 0.9788265 | \n",
       "| P1 | 5         |  8        | 0.7452336 | \n",
       "| P2 | 1         |  7        | 0.7071068 | \n",
       "\n",
       "\n"
      ],
      "text/plain": [
       "   X Y  dist_cos \n",
       "P3 3 12 0.9788265\n",
       "P1 5  8 0.7452336\n",
       "P2 1  7 0.7071068"
      ]
     },
     "metadata": {},
     "output_type": "display_data"
    }
   ],
   "source": [
    "k <- 3\n",
    "q <- data.frame(X=2, Y=14)\n",
    "df <- data.frame(\n",
    "    row.names = c('P1', 'P2', 'P3', 'P4', 'P5'),\n",
    "    X = c(5,1,3,8,11),\n",
    "    Y = c(8,7,12,5,4)\n",
    ")\n",
    "df$dist_l2 = apply(df, 1, function(v) {dist_l2(v,q)})\n",
    "df$dist_cos = apply(df, 1, function(v) {dist_cos(v,q)})\n",
    "\n",
    "print(\"Distancia L2\")\n",
    "df[ order(df$dist_l2)[1:k], c('X', 'Y', 'dist_l2')]\n",
    "print(\"Similaridade do Cosseno\")\n",
    "df[ order(df$dist_cos, decreasing = T)[1:k], c('X', 'Y', 'dist_cos')]"
   ]
  },
  {
   "cell_type": "markdown",
   "metadata": {},
   "source": [
    "# Problema 2"
   ]
  },
  {
   "cell_type": "code",
   "execution_count": 3,
   "metadata": {
    "scrolled": false
   },
   "outputs": [
    {
     "name": "stdout",
     "output_type": "stream",
     "text": [
      "[1] \"Histograms\"\n"
     ]
    },
    {
     "data": {
      "text/html": [
       "<dl>\n",
       "\t<dt>$A</dt>\n",
       "\t\t<dd><ol class=list-inline>\n",
       "\t<li>5</li>\n",
       "\t<li>5</li>\n",
       "\t<li>5</li>\n",
       "\t<li>5</li>\n",
       "\t<li>5</li>\n",
       "</ol>\n",
       "</dd>\n",
       "\t<dt>$B</dt>\n",
       "\t\t<dd><ol class=list-inline>\n",
       "\t<li>4</li>\n",
       "\t<li>5</li>\n",
       "\t<li>5</li>\n",
       "\t<li>5</li>\n",
       "\t<li>6</li>\n",
       "</ol>\n",
       "</dd>\n",
       "\t<dt>$C</dt>\n",
       "\t\t<dd><ol class=list-inline>\n",
       "\t<li>10</li>\n",
       "\t<li>5</li>\n",
       "\t<li>5</li>\n",
       "\t<li>5</li>\n",
       "\t<li>0</li>\n",
       "</ol>\n",
       "</dd>\n",
       "\t<dt>$D</dt>\n",
       "\t\t<dd><ol class=list-inline>\n",
       "\t<li>5</li>\n",
       "\t<li>5</li>\n",
       "\t<li>5</li>\n",
       "\t<li>5</li>\n",
       "\t<li>5</li>\n",
       "</ol>\n",
       "</dd>\n",
       "</dl>\n"
      ],
      "text/latex": [
       "\\begin{description}\n",
       "\\item[\\$A] \\begin{enumerate*}\n",
       "\\item 5\n",
       "\\item 5\n",
       "\\item 5\n",
       "\\item 5\n",
       "\\item 5\n",
       "\\end{enumerate*}\n",
       "\n",
       "\\item[\\$B] \\begin{enumerate*}\n",
       "\\item 4\n",
       "\\item 5\n",
       "\\item 5\n",
       "\\item 5\n",
       "\\item 6\n",
       "\\end{enumerate*}\n",
       "\n",
       "\\item[\\$C] \\begin{enumerate*}\n",
       "\\item 10\n",
       "\\item 5\n",
       "\\item 5\n",
       "\\item 5\n",
       "\\item 0\n",
       "\\end{enumerate*}\n",
       "\n",
       "\\item[\\$D] \\begin{enumerate*}\n",
       "\\item 5\n",
       "\\item 5\n",
       "\\item 5\n",
       "\\item 5\n",
       "\\item 5\n",
       "\\end{enumerate*}\n",
       "\n",
       "\\end{description}\n"
      ],
      "text/markdown": [
       "$A\n",
       ":   1. 5\n",
       "2. 5\n",
       "3. 5\n",
       "4. 5\n",
       "5. 5\n",
       "\n",
       "\n",
       "\n",
       "$B\n",
       ":   1. 4\n",
       "2. 5\n",
       "3. 5\n",
       "4. 5\n",
       "5. 6\n",
       "\n",
       "\n",
       "\n",
       "$C\n",
       ":   1. 10\n",
       "2. 5\n",
       "3. 5\n",
       "4. 5\n",
       "5. 0\n",
       "\n",
       "\n",
       "\n",
       "$D\n",
       ":   1. 5\n",
       "2. 5\n",
       "3. 5\n",
       "4. 5\n",
       "5. 5\n",
       "\n",
       "\n",
       "\n",
       "\n",
       "\n"
      ],
      "text/plain": [
       "$A\n",
       "[1] 5 5 5 5 5\n",
       "\n",
       "$B\n",
       "[1] 4 5 5 5 6\n",
       "\n",
       "$C\n",
       "[1] 10  5  5  5  0\n",
       "\n",
       "$D\n",
       "[1] 5 5 5 5 5\n"
      ]
     },
     "metadata": {},
     "output_type": "display_data"
    },
    {
     "name": "stdout",
     "output_type": "stream",
     "text": [
      "[1] \"Distances\"\n"
     ]
    },
    {
     "data": {
      "text/html": [
       "<table>\n",
       "<tbody>\n",
       "\t<tr><td>NA</td><td> 2</td><td>10</td><td> 0</td></tr>\n",
       "\t<tr><td> 2</td><td>NA</td><td>12</td><td> 2</td></tr>\n",
       "\t<tr><td>10</td><td>12</td><td>NA</td><td>10</td></tr>\n",
       "\t<tr><td> 0</td><td> 2</td><td>10</td><td>NA</td></tr>\n",
       "</tbody>\n",
       "</table>\n"
      ],
      "text/latex": [
       "\\begin{tabular}{llll}\n",
       "\t NA &  2 & 10 &  0\\\\\n",
       "\t  2 & NA & 12 &  2\\\\\n",
       "\t 10 & 12 & NA & 10\\\\\n",
       "\t  0 &  2 & 10 & NA\\\\\n",
       "\\end{tabular}\n"
      ],
      "text/markdown": [
       "\n",
       "| NA |  2 | 10 |  0 | \n",
       "|  2 | NA | 12 |  2 | \n",
       "| 10 | 12 | NA | 10 | \n",
       "|  0 |  2 | 10 | NA | \n",
       "\n",
       "\n"
      ],
      "text/plain": [
       "     [,1] [,2] [,3] [,4]\n",
       "[1,] NA    2   10    0  \n",
       "[2,]  2   NA   12    2  \n",
       "[3,] 10   12   NA   10  \n",
       "[4,]  0    2   10   NA  "
      ]
     },
     "metadata": {},
     "output_type": "display_data"
    }
   ],
   "source": [
    "A <- matrix(c(\n",
    "    0,0,1,2,4,\n",
    "    0,0,3,2,4,\n",
    "    3,3,1,0,1,\n",
    "    3,1,4,2,1,\n",
    "    3,4,4,2,2),\n",
    "    nrow=5, byrow=T)\n",
    "B <- matrix(c(\n",
    "    1,1,2,3,\n",
    "    4,1,1,4,\n",
    "    3,4,4,2,\n",
    "    2,1,2,0,\n",
    "    0,4,3,2,\n",
    "    0,0,4,3,3),\n",
    "    nrow=5, byrow=T)\n",
    "C <- matrix(c(\n",
    "    3,3,1,0,0,\n",
    "    3,3,1,0,0,\n",
    "    3,2,2,0,0,\n",
    "    2,2,2,0,0,\n",
    "    1,1,1,0,0),\n",
    "    nrow=5, byrow=T)\n",
    "D <- matrix(c(\n",
    "    4,4,2,0,1,\n",
    "    4,4,2,0,1,\n",
    "    4,3,3,1,1,\n",
    "    3,3,3,0,1,\n",
    "    2,2,2,0,0),\n",
    "    nrow=5, byrow=T)\n",
    "\n",
    "hist <- function(data) {\n",
    "    sapply(X=0:4, function(x) { sum(data==x) } )\n",
    "}\n",
    "histograms <- list(A=hist(A), B=hist(B), C=hist(C), D=hist(D))\n",
    "print(\"Histograms\")\n",
    "histograms\n",
    "\n",
    "dist_matrix <- matrix(ncol=4, nrow=4)\n",
    "for (i in 1:4) {\n",
    "    for (j in 1:4) {\n",
    "        if (i != j) {\n",
    "            dist_matrix[i,j] <- dist_l1(histograms[[i]], histograms[[j]])\n",
    "        }\n",
    "    }        \n",
    "}\n",
    "print(\"Distances\")\n",
    "dist_matrix"
   ]
  },
  {
   "cell_type": "markdown",
   "metadata": {},
   "source": [
    "As imagens mais similares são A e D, que possuem exatamente o mesmo histograma"
   ]
  },
  {
   "cell_type": "markdown",
   "metadata": {},
   "source": [
    "# Problema 3\n",
    "\n",
    "- O melhor método é o Inception-V1, pois este está no topo do gráfico Precision X Recall na maior parte do intervalo, isto é, retorna mais documentos relevantes entre os k primeiros resultados para a maioria dos valores de k.\n",
    "- O Pior método é o CNN, pois apesar de um bom desempenho no inicio da pesquisa, ele domina a parte inferior do gráfico por quase todo o intervalo, isto é, retorna menos documentos relevantes entre os primeiros resultados."
   ]
  },
  {
   "cell_type": "markdown",
   "metadata": {},
   "source": [
    "# Problema 4"
   ]
  },
  {
   "cell_type": "code",
   "execution_count": 4,
   "metadata": {
    "scrolled": false
   },
   "outputs": [
    {
     "name": "stdout",
     "output_type": "stream",
     "text": [
      "[1] \"TF\"\n"
     ]
    },
    {
     "data": {
      "text/html": [
       "<table>\n",
       "<thead><tr><th></th><th scope=col>t1</th><th scope=col>t2</th><th scope=col>t3</th><th scope=col>t4</th></tr></thead>\n",
       "<tbody>\n",
       "\t<tr><th scope=row>D1</th><td>2</td><td>1</td><td>0</td><td>0</td></tr>\n",
       "\t<tr><th scope=row>D2</th><td>0</td><td>1</td><td>2</td><td>1</td></tr>\n",
       "\t<tr><th scope=row>D3</th><td>1</td><td>1</td><td>0</td><td>3</td></tr>\n",
       "\t<tr><th scope=row>D4</th><td>0</td><td>1</td><td>4</td><td>1</td></tr>\n",
       "</tbody>\n",
       "</table>\n"
      ],
      "text/latex": [
       "\\begin{tabular}{r|llll}\n",
       "  & t1 & t2 & t3 & t4\\\\\n",
       "\\hline\n",
       "\tD1 & 2 & 1 & 0 & 0\\\\\n",
       "\tD2 & 0 & 1 & 2 & 1\\\\\n",
       "\tD3 & 1 & 1 & 0 & 3\\\\\n",
       "\tD4 & 0 & 1 & 4 & 1\\\\\n",
       "\\end{tabular}\n"
      ],
      "text/markdown": [
       "\n",
       "| <!--/--> | t1 | t2 | t3 | t4 | \n",
       "|---|---|---|---|\n",
       "| D1 | 2 | 1 | 0 | 0 | \n",
       "| D2 | 0 | 1 | 2 | 1 | \n",
       "| D3 | 1 | 1 | 0 | 3 | \n",
       "| D4 | 0 | 1 | 4 | 1 | \n",
       "\n",
       "\n"
      ],
      "text/plain": [
       "   t1 t2 t3 t4\n",
       "D1 2  1  0  0 \n",
       "D2 0  1  2  1 \n",
       "D3 1  1  0  3 \n",
       "D4 0  1  4  1 "
      ]
     },
     "metadata": {},
     "output_type": "display_data"
    },
    {
     "name": "stdout",
     "output_type": "stream",
     "text": [
      "[1] \"IDF\"\n"
     ]
    },
    {
     "data": {
      "text/html": [
       "<dl>\n",
       "\t<dt>$t1</dt>\n",
       "\t\t<dd>0.693147180559945</dd>\n",
       "\t<dt>$t2</dt>\n",
       "\t\t<dd>0</dd>\n",
       "\t<dt>$t3</dt>\n",
       "\t\t<dd>0.693147180559945</dd>\n",
       "\t<dt>$t4</dt>\n",
       "\t\t<dd>0.287682072451781</dd>\n",
       "</dl>\n"
      ],
      "text/latex": [
       "\\begin{description}\n",
       "\\item[\\$t1] 0.693147180559945\n",
       "\\item[\\$t2] 0\n",
       "\\item[\\$t3] 0.693147180559945\n",
       "\\item[\\$t4] 0.287682072451781\n",
       "\\end{description}\n"
      ],
      "text/markdown": [
       "$t1\n",
       ":   0.693147180559945\n",
       "$t2\n",
       ":   0\n",
       "$t3\n",
       ":   0.693147180559945\n",
       "$t4\n",
       ":   0.287682072451781\n",
       "\n",
       "\n"
      ],
      "text/plain": [
       "$t1\n",
       "[1] 0.6931472\n",
       "\n",
       "$t2\n",
       "[1] 0\n",
       "\n",
       "$t3\n",
       "[1] 0.6931472\n",
       "\n",
       "$t4\n",
       "[1] 0.2876821\n"
      ]
     },
     "metadata": {},
     "output_type": "display_data"
    },
    {
     "name": "stdout",
     "output_type": "stream",
     "text": [
      "[1] \"TF-IDF\"\n"
     ]
    },
    {
     "data": {
      "text/html": [
       "<table>\n",
       "<thead><tr><th></th><th scope=col>t1</th><th scope=col>t2</th><th scope=col>t3</th><th scope=col>t4</th></tr></thead>\n",
       "<tbody>\n",
       "\t<tr><th scope=row>D1</th><td>1.3862944</td><td>0        </td><td>0.000000 </td><td>0.0000000</td></tr>\n",
       "\t<tr><th scope=row>D2</th><td>0.0000000</td><td>0        </td><td>1.386294 </td><td>0.2876821</td></tr>\n",
       "\t<tr><th scope=row>D3</th><td>0.6931472</td><td>0        </td><td>0.000000 </td><td>0.8630462</td></tr>\n",
       "\t<tr><th scope=row>D4</th><td>0.0000000</td><td>0        </td><td>2.772589 </td><td>0.2876821</td></tr>\n",
       "</tbody>\n",
       "</table>\n"
      ],
      "text/latex": [
       "\\begin{tabular}{r|llll}\n",
       "  & t1 & t2 & t3 & t4\\\\\n",
       "\\hline\n",
       "\tD1 & 1.3862944 & 0         & 0.000000  & 0.0000000\\\\\n",
       "\tD2 & 0.0000000 & 0         & 1.386294  & 0.2876821\\\\\n",
       "\tD3 & 0.6931472 & 0         & 0.000000  & 0.8630462\\\\\n",
       "\tD4 & 0.0000000 & 0         & 2.772589  & 0.2876821\\\\\n",
       "\\end{tabular}\n"
      ],
      "text/markdown": [
       "\n",
       "| <!--/--> | t1 | t2 | t3 | t4 | \n",
       "|---|---|---|---|\n",
       "| D1 | 1.3862944 | 0         | 0.000000  | 0.0000000 | \n",
       "| D2 | 0.0000000 | 0         | 1.386294  | 0.2876821 | \n",
       "| D3 | 0.6931472 | 0         | 0.000000  | 0.8630462 | \n",
       "| D4 | 0.0000000 | 0         | 2.772589  | 0.2876821 | \n",
       "\n",
       "\n"
      ],
      "text/plain": [
       "   t1        t2 t3       t4       \n",
       "D1 1.3862944 0  0.000000 0.0000000\n",
       "D2 0.0000000 0  1.386294 0.2876821\n",
       "D3 0.6931472 0  0.000000 0.8630462\n",
       "D4 0.0000000 0  2.772589 0.2876821"
      ]
     },
     "metadata": {},
     "output_type": "display_data"
    }
   ],
   "source": [
    "# Fazendo a contagem de termos manualmente, por preguiça\n",
    "tf <- data.frame(\n",
    "    row.names = c('D1', 'D2', 'D3', 'D4'),\n",
    "    t1 = c(2,0,1,0),\n",
    "    t2 = c(1, 1, 1, 1),\n",
    "    t3 = c(0,2,0,4),\n",
    "    t4 = c(0,1,3,1)\n",
    ")\n",
    "print(\"TF\")\n",
    "tf\n",
    "\n",
    "\n",
    "idf = list()\n",
    "for ( feature in c('t1', 't2', 't3', 't4') ) {\n",
    "  idf[[feature]] = log(nrow(tf) / sum(tf[[feature]] > 0))\n",
    "}\n",
    "print(\"IDF\")\n",
    "idf\n",
    "\n",
    "tf_idf <- data.frame(\n",
    "    row.names = row.names(tf),\n",
    "    t1 = tf$t1 * idf$t1,\n",
    "    t2 = tf$t2 * idf$t2,\n",
    "    t3 = tf$t3 * idf$t3,\n",
    "    t4 = tf$t4 * idf$t4\n",
    ")\n",
    "print(\"TF-IDF\")\n",
    "tf_idf"
   ]
  },
  {
   "cell_type": "markdown",
   "metadata": {},
   "source": [
    "# Problema 5"
   ]
  },
  {
   "cell_type": "code",
   "execution_count": 11,
   "metadata": {
    "scrolled": false
   },
   "outputs": [
    {
     "data": {},
     "metadata": {},
     "output_type": "display_data"
    },
    {
     "data": {
      "text/html": [
       "<ol class=list-inline>\n",
       "\t<li>8</li>\n",
       "\t<li>227</li>\n",
       "\t<li>3</li>\n",
       "\t<li>232</li>\n",
       "\t<li>47</li>\n",
       "\t<li>221</li>\n",
       "\t<li>55</li>\n",
       "\t<li>219</li>\n",
       "\t<li>36</li>\n",
       "\t<li>233</li>\n",
       "\t<li>8</li>\n",
       "\t<li>202</li>\n",
       "</ol>\n"
      ],
      "text/latex": [
       "\\begin{enumerate*}\n",
       "\\item 8\n",
       "\\item 227\n",
       "\\item 3\n",
       "\\item 232\n",
       "\\item 47\n",
       "\\item 221\n",
       "\\item 55\n",
       "\\item 219\n",
       "\\item 36\n",
       "\\item 233\n",
       "\\item 8\n",
       "\\item 202\n",
       "\\end{enumerate*}\n"
      ],
      "text/markdown": [
       "1. 8\n",
       "2. 227\n",
       "3. 3\n",
       "4. 232\n",
       "5. 47\n",
       "6. 221\n",
       "7. 55\n",
       "8. 219\n",
       "9. 36\n",
       "10. 233\n",
       "11. 8\n",
       "12. 202\n",
       "\n",
       "\n"
      ],
      "text/plain": [
       " [1]   8 227   3 232  47 221  55 219  36 233   8 202"
      ]
     },
     "metadata": {},
     "output_type": "display_data"
    },
    {
     "data": {},
     "metadata": {},
     "output_type": "display_data"
    },
    {
     "data": {
      "image/png": "[encoded data removed]",
      "text/plain": [
       "plot without title"
      ]
     },
     "metadata": {},
     "output_type": "display_data"
    },
    {
     "data": {
      "text/html": [
       "<ol class=list-inline>\n",
       "\t<li>-1.11928410058112</li>\n",
       "\t<li>0.989302721158793</li>\n",
       "\t<li>-1.16742535221901</li>\n",
       "\t<li>1.03744397279669</li>\n",
       "\t<li>-0.743782337805516</li>\n",
       "\t<li>0.931533219193316</li>\n",
       "\t<li>-0.66675633518488</li>\n",
       "\t<li>0.912276718538157</li>\n",
       "\t<li>-0.849693091408891</li>\n",
       "\t<li>1.04707222312427</li>\n",
       "\t<li>-1.11928410058112</li>\n",
       "\t<li>0.748596462969306</li>\n",
       "</ol>\n"
      ],
      "text/latex": [
       "\\begin{enumerate*}\n",
       "\\item -1.11928410058112\n",
       "\\item 0.989302721158793\n",
       "\\item -1.16742535221901\n",
       "\\item 1.03744397279669\n",
       "\\item -0.743782337805516\n",
       "\\item 0.931533219193316\n",
       "\\item -0.66675633518488\n",
       "\\item 0.912276718538157\n",
       "\\item -0.849693091408891\n",
       "\\item 1.04707222312427\n",
       "\\item -1.11928410058112\n",
       "\\item 0.748596462969306\n",
       "\\end{enumerate*}\n"
      ],
      "text/markdown": [
       "1. -1.11928410058112\n",
       "2. 0.989302721158793\n",
       "3. -1.16742535221901\n",
       "4. 1.03744397279669\n",
       "5. -0.743782337805516\n",
       "6. 0.931533219193316\n",
       "7. -0.66675633518488\n",
       "8. 0.912276718538157\n",
       "9. -0.849693091408891\n",
       "10. 1.04707222312427\n",
       "11. -1.11928410058112\n",
       "12. 0.748596462969306\n",
       "\n",
       "\n"
      ],
      "text/plain": [
       " [1] -1.1192841  0.9893027 -1.1674254  1.0374440 -0.7437823  0.9315332\n",
       " [7] -0.6667563  0.9122767 -0.8496931  1.0470722 -1.1192841  0.7485965"
      ]
     },
     "metadata": {},
     "output_type": "display_data"
    },
    {
     "data": {},
     "metadata": {},
     "output_type": "display_data"
    },
    {
     "data": {
      "image/png": "[encoded data removed]",
      "text/plain": [
       "plot without title"
      ]
     },
     "metadata": {},
     "output_type": "display_data"
    },
    {
     "data": {
      "text/html": [
       "<ol class=list-inline>\n",
       "\t<li>-0.0649906897111617</li>\n",
       "\t<li>-0.0649906897111616</li>\n",
       "\t<li>0.0938754406939001</li>\n",
       "\t<li>0.122760191676639</li>\n",
       "\t<li>0.0986895658576898</li>\n",
       "\t<li>-0.185343818805905</li>\n",
       "</ol>\n"
      ],
      "text/latex": [
       "\\begin{enumerate*}\n",
       "\\item -0.0649906897111617\n",
       "\\item -0.0649906897111616\n",
       "\\item 0.0938754406939001\n",
       "\\item 0.122760191676639\n",
       "\\item 0.0986895658576898\n",
       "\\item -0.185343818805905\n",
       "\\end{enumerate*}\n"
      ],
      "text/markdown": [
       "1. -0.0649906897111617\n",
       "2. -0.0649906897111616\n",
       "3. 0.0938754406939001\n",
       "4. 0.122760191676639\n",
       "5. 0.0986895658576898\n",
       "6. -0.185343818805905\n",
       "\n",
       "\n"
      ],
      "text/plain": [
       "[1] -0.06499069 -0.06499069  0.09387544  0.12276019  0.09868957 -0.18534382"
      ]
     },
     "metadata": {},
     "output_type": "display_data"
    },
    {
     "data": {
      "image/png": "[encoded data removed]",
      "text/plain": [
       "plot without title"
      ]
     },
     "metadata": {},
     "output_type": "display_data"
    }
   ],
   "source": [
    "# Pegando menor valor dos meses impares e maior valor dos meses pares:\n",
    "# Fiz no olho pq copiar esse monte de tabela é um saco, e eu provavelmente iria errar a cópia...\n",
    "serie <- c(\n",
    "    8, 227, 3, 232, \n",
    "    47, 221, 55, 219,\n",
    "    36, 233, 8, 202)\n",
    "\n",
    "serie_norm <- (serie - mean(serie)) / sd(serie)\n",
    "\n",
    "# PAA coxo 2:1 \n",
    "serie_norm_paa <- (serie_norm[seq(1, length(serie_norm), 2)] + serie_norm[seq(2, length(serie_norm), 2)] ) / 2\n",
    "\n",
    "serie_chart <- function(title, pixel, month=1:12) {\n",
    "    df <- data.frame(x=month, pixel=pixel)\n",
    "    p <- ggplot(df, aes(x=month, y=pixel))\n",
    "    p <- p + geom_point()\n",
    "    p <- p + geom_line()\n",
    "    p <- p + scale_x_continuous(breaks=1:12, labels=month.abb, limits=c(1, 12))\n",
    "    p <- p + labs(title = title);\n",
    "    p\n",
    "}\n",
    "\n",
    "serie_chart(\"Original\", serie)\n",
    "serie\n",
    "serie_chart(\"Normalized\", serie_norm)\n",
    "serie_norm\n",
    "serie_chart(\"Normalized bimestral\", serie_norm_paa, month=seq(1.5, 12.5, 2))\n",
    "serie_norm_paa"
   ]
  }
 ],
 "metadata": {
  "kernelspec": {
   "display_name": "R",
   "language": "R",
   "name": "ir"
  },
  "language_info": {
   "codemirror_mode": "r",
   "file_extension": ".r",
   "mimetype": "text/x-r-source",
   "name": "R",
   "pygments_lexer": "r",
   "version": "3.3.2"
  }
 },
 "nbformat": 4,
 "nbformat_minor": 2
}
