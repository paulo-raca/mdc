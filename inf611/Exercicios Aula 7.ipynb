{
 "cells": [
  {
   "cell_type": "code",
   "execution_count": 12,
   "metadata": {},
   "outputs": [
    {
     "data": {
      "text/html": [
       "<table>\n",
       "<thead><tr><th scope=col>v</th><th scope=col>n1</th><th scope=col>n2</th><th scope=col>n3</th></tr></thead>\n",
       "<tbody>\n",
       "\t<tr><td>1000      </td><td>-0.6718125</td><td>0.2405063 </td><td>0.2500    </td></tr>\n",
       "\t<tr><td>2000      </td><td> 0.1627372</td><td>0.4936709 </td><td>0.5000    </td></tr>\n",
       "\t<tr><td>3000      </td><td> 0.9972868</td><td>0.7468354 </td><td>0.7500    </td></tr>\n",
       "\t<tr><td>1500      </td><td>-0.2545376</td><td>0.3670886 </td><td>0.3750    </td></tr>\n",
       "\t<tr><td>1500      </td><td>-0.2545376</td><td>0.3670886 </td><td>0.3750    </td></tr>\n",
       "\t<tr><td>1000      </td><td>-0.6718125</td><td>0.2405063 </td><td>0.2500    </td></tr>\n",
       "\t<tr><td>3000      </td><td> 0.9972868</td><td>0.7468354 </td><td>0.7500    </td></tr>\n",
       "\t<tr><td>  50      </td><td>-1.4646347</td><td>0.0000000 </td><td>0.0125    </td></tr>\n",
       "\t<tr><td>4000      </td><td> 1.8318365</td><td>1.0000000 </td><td>1.0000    </td></tr>\n",
       "\t<tr><td>1000      </td><td>-0.6718125</td><td>0.2405063 </td><td>0.2500    </td></tr>\n",
       "</tbody>\n",
       "</table>\n"
      ],
      "text/latex": [
       "\\begin{tabular}{r|llll}\n",
       " v & n1 & n2 & n3\\\\\n",
       "\\hline\n",
       "\t 1000       & -0.6718125 & 0.2405063  & 0.2500    \\\\\n",
       "\t 2000       &  0.1627372 & 0.4936709  & 0.5000    \\\\\n",
       "\t 3000       &  0.9972868 & 0.7468354  & 0.7500    \\\\\n",
       "\t 1500       & -0.2545376 & 0.3670886  & 0.3750    \\\\\n",
       "\t 1500       & -0.2545376 & 0.3670886  & 0.3750    \\\\\n",
       "\t 1000       & -0.6718125 & 0.2405063  & 0.2500    \\\\\n",
       "\t 3000       &  0.9972868 & 0.7468354  & 0.7500    \\\\\n",
       "\t   50       & -1.4646347 & 0.0000000  & 0.0125    \\\\\n",
       "\t 4000       &  1.8318365 & 1.0000000  & 1.0000    \\\\\n",
       "\t 1000       & -0.6718125 & 0.2405063  & 0.2500    \\\\\n",
       "\\end{tabular}\n"
      ],
      "text/markdown": [
       "\n",
       "v | n1 | n2 | n3 | \n",
       "|---|---|---|---|---|---|---|---|---|---|\n",
       "| 1000       | -0.6718125 | 0.2405063  | 0.2500     | \n",
       "| 2000       |  0.1627372 | 0.4936709  | 0.5000     | \n",
       "| 3000       |  0.9972868 | 0.7468354  | 0.7500     | \n",
       "| 1500       | -0.2545376 | 0.3670886  | 0.3750     | \n",
       "| 1500       | -0.2545376 | 0.3670886  | 0.3750     | \n",
       "| 1000       | -0.6718125 | 0.2405063  | 0.2500     | \n",
       "| 3000       |  0.9972868 | 0.7468354  | 0.7500     | \n",
       "|   50       | -1.4646347 | 0.0000000  | 0.0125     | \n",
       "| 4000       |  1.8318365 | 1.0000000  | 1.0000     | \n",
       "| 1000       | -0.6718125 | 0.2405063  | 0.2500     | \n",
       "\n",
       "\n"
      ],
      "text/plain": [
       "   v    n1         n2        n3    \n",
       "1  1000 -0.6718125 0.2405063 0.2500\n",
       "2  2000  0.1627372 0.4936709 0.5000\n",
       "3  3000  0.9972868 0.7468354 0.7500\n",
       "4  1500 -0.2545376 0.3670886 0.3750\n",
       "5  1500 -0.2545376 0.3670886 0.3750\n",
       "6  1000 -0.6718125 0.2405063 0.2500\n",
       "7  3000  0.9972868 0.7468354 0.7500\n",
       "8    50 -1.4646347 0.0000000 0.0125\n",
       "9  4000  1.8318365 1.0000000 1.0000\n",
       "10 1000 -0.6718125 0.2405063 0.2500"
      ]
     },
     "metadata": {},
     "output_type": "display_data"
    },
    {
     "data": {
      "text/html": [
       "<table>\n",
       "<thead><tr><th></th><th scope=col>v</th><th scope=col>n1</th><th scope=col>n2</th><th scope=col>n3</th></tr></thead>\n",
       "<tbody>\n",
       "\t<tr><th scope=row>mean</th><td>1805.000     </td><td>-5.572799e-18</td><td>0.4443038    </td><td>0.4512500    </td></tr>\n",
       "\t<tr><th scope=row>sd</th><td>1198.251     </td><td> 1.000000e+00</td><td>0.3033547    </td><td>0.2995628    </td></tr>\n",
       "\t<tr><th scope=row>min</th><td>  50.000     </td><td>-1.464635e+00</td><td>0.0000000    </td><td>0.0125000    </td></tr>\n",
       "\t<tr><th scope=row>max</th><td>4000.000     </td><td> 1.831837e+00</td><td>1.0000000    </td><td>1.0000000    </td></tr>\n",
       "</tbody>\n",
       "</table>\n"
      ],
      "text/latex": [
       "\\begin{tabular}{r|llll}\n",
       "  & v & n1 & n2 & n3\\\\\n",
       "\\hline\n",
       "\tmean & 1805.000      & -5.572799e-18 & 0.4443038     & 0.4512500    \\\\\n",
       "\tsd & 1198.251      &  1.000000e+00 & 0.3033547     & 0.2995628    \\\\\n",
       "\tmin &   50.000      & -1.464635e+00 & 0.0000000     & 0.0125000    \\\\\n",
       "\tmax & 4000.000      &  1.831837e+00 & 1.0000000     & 1.0000000    \\\\\n",
       "\\end{tabular}\n"
      ],
      "text/markdown": [
       "\n",
       "| <!--/--> | v | n1 | n2 | n3 | \n",
       "|---|---|---|---|\n",
       "| mean | 1805.000      | -5.572799e-18 | 0.4443038     | 0.4512500     | \n",
       "| sd | 1198.251      |  1.000000e+00 | 0.3033547     | 0.2995628     | \n",
       "| min |   50.000      | -1.464635e+00 | 0.0000000     | 0.0125000     | \n",
       "| max | 4000.000      |  1.831837e+00 | 1.0000000     | 1.0000000     | \n",
       "\n",
       "\n"
      ],
      "text/plain": [
       "     v        n1            n2        n3       \n",
       "mean 1805.000 -5.572799e-18 0.4443038 0.4512500\n",
       "sd   1198.251  1.000000e+00 0.3033547 0.2995628\n",
       "min    50.000 -1.464635e+00 0.0000000 0.0125000\n",
       "max  4000.000  1.831837e+00 1.0000000 1.0000000"
      ]
     },
     "metadata": {},
     "output_type": "display_data"
    }
   ],
   "source": [
    "# 1 - Questão 10 (Lista de exercícios): normalização de valores de atributos.\n",
    "\n",
    "data <- data.frame(row.names = 1:10, v=c(1000,2000,3000,1500,1500,1000,3000,50,4000,1000))\n",
    "data$n1 <- (data$v - mean(data$v)) / sd(data$v)\n",
    "data$n2 <- (data$v - min(data$v)) / (max(data$v) - min(data$v))\n",
    "data$n3 <- data$v / max(data$v)\n",
    "\n",
    "summaries = data.frame(\n",
    "    row.names=c('mean', 'sd', 'min','max'), \n",
    "    v=c(mean(data$v), sd(data$v), min(data$v), max(data$v)),\n",
    "    n1=c(mean(data$n1), sd(data$n1), min(data$n1), max(data$n1)),\n",
    "    n2=c(mean(data$n2), sd(data$n2), min(data$n2), max(data$n2)),\n",
    "    n3=c(mean(data$n3), sd(data$n3), min(data$n3), max(data$n3))\n",
    ")\n",
    "data\n",
    "summaries"
   ]
  },
  {
   "cell_type": "code",
   "execution_count": 11,
   "metadata": {},
   "outputs": [
    {
     "data": {
      "text/html": [
       "0.948683298050514"
      ],
      "text/latex": [
       "0.948683298050514"
      ],
      "text/markdown": [
       "0.948683298050514"
      ],
      "text/plain": [
       "[1] 0.9486833"
      ]
     },
     "metadata": {},
     "output_type": "display_data"
    }
   ],
   "source": [
    "# 2 - Questão 16 (Lista de exercícios): similaridade entre os vetores q e d e cosseno do j do ângulo θ\n",
    "v1 = c(2,1)\n",
    "v2 = c(2,2)\n",
    "cos = sum(v1*v2) / (sqrt(sum(v1*v1)) * sqrt(sum(v2*v2)))\n",
    "cos"
   ]
  },
  {
   "cell_type": "markdown",
   "metadata": {},
   "source": [
    "# 3 - Questão 30 (Lista de exercícios)\n",
    "\n",
    "## A - Segundo cada descritor, esta consulta deve representar um objeto pertencente a qual classe? Justifique sua resposta.\n",
    "\n",
    "- Descritor 1: Classe 1\n",
    "- Descritor 2: Classe 2\n",
    "- Descritor 3: Classe 2\n",
    "\n",
    "Em todos os casos, foi escolhida a classe do elemento mais próximo ao ponto buscado\n",
    "\n",
    "## B - Segundo cada descritor, quais seriam os 5 vizinhos mais próximos desta consulta?\n",
    "\n",
    "\n",
    "- Descritor 1: 1, 1, 1, 1 ,1\n",
    "- Descritor 2: 2, 2, 1, 2, 1\n",
    "- Descritor 3: 2, 2, 2, 2, 2\n",
    "\n"
   ]
  },
  {
   "cell_type": "code",
   "execution_count": null,
   "metadata": {},
   "outputs": [],
   "source": [
    "hist_A = c(5. 5, 5, 5, 5)\n",
    "hist_B=c(5,5,5,5,5)\n",
    "dist = 0"
   ]
  },
  {
   "cell_type": "code",
   "execution_count": 80,
   "metadata": {},
   "outputs": [
    {
     "data": {
      "text/html": [
       "<ol class=list-inline>\n",
       "\t<li>2</li>\n",
       "\t<li>9</li>\n",
       "\t<li>8</li>\n",
       "\t<li>3</li>\n",
       "\t<li>3</li>\n",
       "</ol>\n"
      ],
      "text/latex": [
       "\\begin{enumerate*}\n",
       "\\item 2\n",
       "\\item 9\n",
       "\\item 8\n",
       "\\item 3\n",
       "\\item 3\n",
       "\\end{enumerate*}\n"
      ],
      "text/markdown": [
       "1. 2\n",
       "2. 9\n",
       "3. 8\n",
       "4. 3\n",
       "5. 3\n",
       "\n",
       "\n"
      ],
      "text/plain": [
       "[1] 2 9 8 3 3"
      ]
     },
     "metadata": {},
     "output_type": "display_data"
    },
    {
     "data": {
      "text/html": [
       "<ol class=list-inline>\n",
       "\t<li>3</li>\n",
       "\t<li>9</li>\n",
       "\t<li>4</li>\n",
       "\t<li>6</li>\n",
       "\t<li>3</li>\n",
       "</ol>\n"
      ],
      "text/latex": [
       "\\begin{enumerate*}\n",
       "\\item 3\n",
       "\\item 9\n",
       "\\item 4\n",
       "\\item 6\n",
       "\\item 3\n",
       "\\end{enumerate*}\n"
      ],
      "text/markdown": [
       "1. 3\n",
       "2. 9\n",
       "3. 4\n",
       "4. 6\n",
       "5. 3\n",
       "\n",
       "\n"
      ],
      "text/plain": [
       "[1] 3 9 4 6 3"
      ]
     },
     "metadata": {},
     "output_type": "display_data"
    },
    {
     "data": {
      "text/html": [
       "<ol class=list-inline>\n",
       "\t<li>7</li>\n",
       "\t<li>5</li>\n",
       "\t<li>5</li>\n",
       "\t<li>2</li>\n",
       "\t<li>6</li>\n",
       "</ol>\n"
      ],
      "text/latex": [
       "\\begin{enumerate*}\n",
       "\\item 7\n",
       "\\item 5\n",
       "\\item 5\n",
       "\\item 2\n",
       "\\item 6\n",
       "\\end{enumerate*}\n"
      ],
      "text/markdown": [
       "1. 7\n",
       "2. 5\n",
       "3. 5\n",
       "4. 2\n",
       "5. 6\n",
       "\n",
       "\n"
      ],
      "text/plain": [
       "[1] 7 5 5 2 6"
      ]
     },
     "metadata": {},
     "output_type": "display_data"
    },
    {
     "data": {
      "text/html": [
       "<ol class=list-inline>\n",
       "\t<li>4</li>\n",
       "\t<li>2</li>\n",
       "\t<li>8</li>\n",
       "\t<li>7</li>\n",
       "\t<li>4</li>\n",
       "</ol>\n"
      ],
      "text/latex": [
       "\\begin{enumerate*}\n",
       "\\item 4\n",
       "\\item 2\n",
       "\\item 8\n",
       "\\item 7\n",
       "\\item 4\n",
       "\\end{enumerate*}\n"
      ],
      "text/markdown": [
       "1. 4\n",
       "2. 2\n",
       "3. 8\n",
       "4. 7\n",
       "5. 4\n",
       "\n",
       "\n"
      ],
      "text/plain": [
       "[1] 4 2 8 7 4"
      ]
     },
     "metadata": {},
     "output_type": "display_data"
    },
    {
     "data": {
      "text/html": [
       "14"
      ],
      "text/latex": [
       "14"
      ],
      "text/markdown": [
       "14"
      ],
      "text/plain": [
       "[1] 14"
      ]
     },
     "metadata": {},
     "output_type": "display_data"
    },
    {
     "data": {
      "text/html": [
       "8.36660026534076"
      ],
      "text/latex": [
       "8.36660026534076"
      ],
      "text/markdown": [
       "8.36660026534076"
      ],
      "text/plain": [
       "[1] 8.3666"
      ]
     },
     "metadata": {},
     "output_type": "display_data"
    },
    {
     "data": {
      "text/html": [
       "14"
      ],
      "text/latex": [
       "14"
      ],
      "text/markdown": [
       "14"
      ],
      "text/plain": [
       "[1] 14"
      ]
     },
     "metadata": {},
     "output_type": "display_data"
    },
    {
     "data": {
      "text/html": [
       "8.24621125123532"
      ],
      "text/latex": [
       "8.24621125123532"
      ],
      "text/markdown": [
       "8.24621125123532"
      ],
      "text/plain": [
       "[1] 8.246211"
      ]
     },
     "metadata": {},
     "output_type": "display_data"
    },
    {
     "data": {
      "text/html": [
       "16"
      ],
      "text/latex": [
       "16"
      ],
      "text/markdown": [
       "16"
      ],
      "text/plain": [
       "[1] 16"
      ]
     },
     "metadata": {},
     "output_type": "display_data"
    },
    {
     "data": {
      "text/html": [
       "7.48331477354788"
      ],
      "text/latex": [
       "7.48331477354788"
      ],
      "text/markdown": [
       "7.48331477354788"
      ],
      "text/plain": [
       "[1] 7.483315"
      ]
     },
     "metadata": {},
     "output_type": "display_data"
    }
   ],
   "source": [
    "# Extraia os histogramas de cores das imagens A, B, C e Q.\n",
    "#Em seguida, calcule a distância L1 e L2 de Q para as imagens \n",
    "# A, B, C e ordene-as em relação à distância (mais relevantes antes das menos relevantes).\n",
    "\n",
    "a=matrix(c(0,1,1,1,2,4,1,2,2,1,2,4,2,1,1,2,3,4,2,3,2,1,3,1,0), nrow=5, ncol=5)\n",
    "b=matrix(c(0,0,1,3,2,1,1,3,1,4,1,3,2,0,1,3,3,3,1,1,4,2,2,1,4), nrow=5, ncol=5)\n",
    "c=matrix(c(4,0,4,4,4,3,1,4,1,3,0,1,4,1,2,0,1,0,2,2,2,2,0,0,0), nrow=5, ncol=5)\n",
    "d=matrix(c(1,3,3,2,2,3,2,2,3,0,3,2,4,3,1,3,4,4,0,2,2,4,0,0,2), nrow=5, ncol=5)\n",
    "\n",
    "hist <- function(data) {\n",
    "    sapply(X=0:4, function(x) { sum(data==x) } )\n",
    "}\n",
    "dist <- function(a, b, L) {\n",
    "    sum( abs(a-b) ^ L )^(1/L)\n",
    "}\n",
    "\n",
    "a <- hist(a)\n",
    "b <- hist(b)\n",
    "c <- hist(c)\n",
    "d <- hist(d)\n",
    "a\n",
    "b\n",
    "c\n",
    "d\n",
    "\n",
    "dist(a, d, 1)\n",
    "dist(a, d, 2)\n",
    "dist(b, d, 1)\n",
    "dist(b, d, 2)\n",
    "dist(c, d, 1)\n",
    "dist(c, d, 2)\n",
    "\n"
   ]
  },
  {
   "cell_type": "code",
   "execution_count": 77,
   "metadata": {},
   "outputs": [
    {
     "data": {},
     "metadata": {},
     "output_type": "display_data"
    },
    {
     "data": {
      "image/png": "[encoded data removed]",
      "text/plain": [
       "plot without title"
      ]
     },
     "metadata": {},
     "output_type": "display_data"
    }
   ],
   "source": [
    "#install.packages(\"ggplot2\")\n",
    "library(ggplot2) \n",
    "\n",
    "A <- c(T,F,T,F,T,F,F,F,F,F,T,T)\n",
    "B <- c(T,T,T,T,T,F,F,F,F,F,F,F)\n",
    "C <- c(T,F,F,T,F,F,T,F,T,F,T,F)\n",
    "\n",
    "precision_recall <- function(data, color) {\n",
    "    precision <- c()\n",
    "    recall <- c()\n",
    "    for (i in 1:length(data)) {\n",
    "        if (data[i]) {\n",
    "            precision <- c(precision, sum(data[1:i]) / length(data[1:i]))\n",
    "            recall <- c(recall, sum(data[1:i]) / sum(data))\n",
    "        }\n",
    "    }\n",
    "    df <- data.frame(precision, recall)\n",
    "    geom_line(data=df, aes(x=recall, y=precision), color=color)\n",
    "}\n",
    "ggplot(NULL) + precision_recall(A, 'red') + precision_recall(B, 'green') + precision_recall(C, 'blue')\n"
   ]
  },
  {
   "cell_type": "code",
   "execution_count": 79,
   "metadata": {},
   "outputs": [
    {
     "data": {
      "text/html": [
       "<table>\n",
       "<tbody>\n",
       "\t<tr><td> 50</td><td> 15</td><td>  5</td><td>  0</td></tr>\n",
       "\t<tr><td> 22</td><td>117</td><td> 99</td><td> 80</td></tr>\n",
       "\t<tr><td>244</td><td>245</td><td>255</td><td>254</td></tr>\n",
       "\t<tr><td>200</td><td>100</td><td> 50</td><td>250</td></tr>\n",
       "\t<tr><td>  8</td><td>  5</td><td>  7</td><td>  8</td></tr>\n",
       "\t<tr><td> 10</td><td> 15</td><td> 20</td><td> 40</td></tr>\n",
       "\t<tr><td> 50</td><td> 51</td><td> 53</td><td> 51</td></tr>\n",
       "\t<tr><td>100</td><td>110</td><td>101</td><td> 11</td></tr>\n",
       "</tbody>\n",
       "</table>\n"
      ],
      "text/latex": [
       "\\begin{tabular}{llll}\n",
       "\t  50 &  15 &   5 &   0\\\\\n",
       "\t  22 & 117 &  99 &  80\\\\\n",
       "\t 244 & 245 & 255 & 254\\\\\n",
       "\t 200 & 100 &  50 & 250\\\\\n",
       "\t   8 &   5 &   7 &   8\\\\\n",
       "\t  10 &  15 &  20 &  40\\\\\n",
       "\t  50 &  51 &  53 &  51\\\\\n",
       "\t 100 & 110 & 101 &  11\\\\\n",
       "\\end{tabular}\n"
      ],
      "text/markdown": [
       "\n",
       "|  50 |  15 |   5 |   0 | \n",
       "|  22 | 117 |  99 |  80 | \n",
       "| 244 | 245 | 255 | 254 | \n",
       "| 200 | 100 |  50 | 250 | \n",
       "|   8 |   5 |   7 |   8 | \n",
       "|  10 |  15 |  20 |  40 | \n",
       "|  50 |  51 |  53 |  51 | \n",
       "| 100 | 110 | 101 |  11 | \n",
       "\n",
       "\n"
      ],
      "text/plain": [
       "     [,1] [,2] [,3] [,4]\n",
       "[1,]  50   15    5    0 \n",
       "[2,]  22  117   99   80 \n",
       "[3,] 244  245  255  254 \n",
       "[4,] 200  100   50  250 \n",
       "[5,]   8    5    7    8 \n",
       "[6,]  10   15   20   40 \n",
       "[7,]  50   51   53   51 \n",
       "[8,] 100  110  101   11 "
      ]
     },
     "metadata": {},
     "output_type": "display_data"
    },
    {
     "data": {
      "text/html": [
       "<ol class=list-inline>\n",
       "\t<li>50</li>\n",
       "\t<li>117</li>\n",
       "\t<li>255</li>\n",
       "\t<li>250</li>\n",
       "\t<li>8</li>\n",
       "\t<li>40</li>\n",
       "\t<li>53</li>\n",
       "\t<li>110</li>\n",
       "</ol>\n"
      ],
      "text/latex": [
       "\\begin{enumerate*}\n",
       "\\item 50\n",
       "\\item 117\n",
       "\\item 255\n",
       "\\item 250\n",
       "\\item 8\n",
       "\\item 40\n",
       "\\item 53\n",
       "\\item 110\n",
       "\\end{enumerate*}\n"
      ],
      "text/markdown": [
       "1. 50\n",
       "2. 117\n",
       "3. 255\n",
       "4. 250\n",
       "5. 8\n",
       "6. 40\n",
       "7. 53\n",
       "8. 110\n",
       "\n",
       "\n"
      ],
      "text/plain": [
       "[1]  50 117 255 250   8  40  53 110"
      ]
     },
     "metadata": {},
     "output_type": "display_data"
    },
    {
     "data": {
      "text/html": [
       "<ol class=list-inline>\n",
       "\t<li>-0.637289687432864</li>\n",
       "\t<li>0.0699303383725503</li>\n",
       "\t<li>1.52659248107624</li>\n",
       "\t<li>1.47381486721016</li>\n",
       "\t<li>-1.0806216439079</li>\n",
       "\t<li>-0.742844915165015</li>\n",
       "\t<li>-0.605623119113218</li>\n",
       "\t<li>-0.00395832103995567</li>\n",
       "</ol>\n"
      ],
      "text/latex": [
       "\\begin{enumerate*}\n",
       "\\item -0.637289687432864\n",
       "\\item 0.0699303383725503\n",
       "\\item 1.52659248107624\n",
       "\\item 1.47381486721016\n",
       "\\item -1.0806216439079\n",
       "\\item -0.742844915165015\n",
       "\\item -0.605623119113218\n",
       "\\item -0.00395832103995567\n",
       "\\end{enumerate*}\n"
      ],
      "text/markdown": [
       "1. -0.637289687432864\n",
       "2. 0.0699303383725503\n",
       "3. 1.52659248107624\n",
       "4. 1.47381486721016\n",
       "5. -1.0806216439079\n",
       "6. -0.742844915165015\n",
       "7. -0.605623119113218\n",
       "8. -0.00395832103995567\n",
       "\n",
       "\n"
      ],
      "text/plain": [
       "[1] -0.637289687  0.069930338  1.526592481  1.473814867 -1.080621644\n",
       "[6] -0.742844915 -0.605623119 -0.003958321"
      ]
     },
     "metadata": {},
     "output_type": "display_data"
    },
    {
     "data": {
      "text/html": [
       "<ol class=list-inline>\n",
       "\t<li>-0.283679674530157</li>\n",
       "\t<li>1.5002036741432</li>\n",
       "\t<li>-0.911733279536457</li>\n",
       "\t<li>-0.304790720076587</li>\n",
       "</ol>\n"
      ],
      "text/latex": [
       "\\begin{enumerate*}\n",
       "\\item -0.283679674530157\n",
       "\\item 1.5002036741432\n",
       "\\item -0.911733279536457\n",
       "\\item -0.304790720076587\n",
       "\\end{enumerate*}\n"
      ],
      "text/markdown": [
       "1. -0.283679674530157\n",
       "2. 1.5002036741432\n",
       "3. -0.911733279536457\n",
       "4. -0.304790720076587\n",
       "\n",
       "\n"
      ],
      "text/plain": [
       "[1] -0.2836797  1.5002037 -0.9117333 -0.3047907"
      ]
     },
     "metadata": {},
     "output_type": "display_data"
    }
   ],
   "source": [
    "# 8 - Considere a sequência de imagens grayscale 2x2 pixels dada abaixo. \n",
    "# Deseja-se obter uma série temporal unidimensional e univariada a partir de tal conjunto.\n",
    "# Para isso, cada imagem deverá ser representada pelo valor do descritor MAXDESCRIPTOR,\n",
    "# que retorna o maior valor de pixel da imagem. Em seguida, a série deverá ser\n",
    "# normalizada (N(𝞵,𝞼) = N(0, 1)). Finalmente, a dimensionalidade da série normalizada\n",
    "# deverá ser reduzida em 50% por meio do algoritmo PAA (Piecewise Aggregate Approximation).\n",
    "# Encontre a série que deverá ser gerada após a execução dos procedimentos mencionados.\n",
    "\n",
    "data = matrix(c(\n",
    "    50,15,5,0,\n",
    "    22,117,99,80,\n",
    "    244,245,255,254,\n",
    "    200,100,50,250,\n",
    "    8,5,7,8,\n",
    "    10,15,20,40,\n",
    "    50,51,53,51,\n",
    "    100,110,101,11),\n",
    "    nrow=8, byrow=T)\n",
    "data\n",
    "\n",
    "data <- apply(data, 1, max)\n",
    "data\n",
    "\n",
    "data <- (data - mean(data)) / sd(data)\n",
    "data\n",
    "\n",
    "data <- (data[seq(1, length(data), 2)] + data[seq(2, length(data), 2)] ) / 2\n",
    "data\n",
    "\n",
    "?sd"
   ]
  }
 ],
 "metadata": {
  "kernelspec": {
   "display_name": "R",
   "language": "R",
   "name": "ir"
  },
  "language_info": {
   "codemirror_mode": "r",
   "file_extension": ".r",
   "mimetype": "text/x-r-source",
   "name": "R",
   "pygments_lexer": "r",
   "version": "3.3.2"
  }
 },
 "nbformat": 4,
 "nbformat_minor": 2
}
