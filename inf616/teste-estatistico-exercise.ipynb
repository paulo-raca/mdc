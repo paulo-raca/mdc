{
 "cells": [
  {
   "cell_type": "markdown",
   "metadata": {},
   "source": [
    "# INF-616 - Exercício teste estatístico\n",
    "\n",
    "Professor: Alexandre Ferreira -- melloferreira@ic.unicamp.br  \n",
    "Monitor: Lucas David -- ra188972@students.ic.unicamp.br\n",
    "\n",
    "Instituto de Computação - Unicamp  \n",
    "2018"
   ]
  },
  {
   "cell_type": "code",
   "execution_count": 1,
   "metadata": {},
   "outputs": [],
   "source": [
    "import os\n",
    "\n",
    "import numpy as np\n",
    "from scipy import stats\n",
    "\n",
    "from sklearn import datasets, metrics\n",
    "from sklearn.model_selection import KFold, cross_val_score\n",
    "from sklearn.svm import SVR\n",
    "from sklearn.linear_model import LinearRegression\n",
    "\n",
    "import matplotlib\n",
    "from matplotlib import pyplot\n",
    "\n",
    "%matplotlib inline"
   ]
  },
  {
   "cell_type": "code",
   "execution_count": 2,
   "metadata": {},
   "outputs": [
    {
     "name": "stdout",
     "output_type": "stream",
     "text": [
      "Boston House Prices dataset\n",
      "===========================\n",
      "\n",
      "Notes\n",
      "------\n",
      "Data Set Characteristics:  \n",
      "\n",
      "    :Number of Instances: 506 \n",
      "\n",
      "    :Number of Attributes: 13 numeric/categorical predictive\n",
      "    \n",
      "    :Median Value (attribute 14) is usually the target\n",
      "\n",
      "    :Attribute Information (in order):\n",
      "        - CRIM     per capita crime rate by town\n",
      "        - ZN       proportion of residential land zoned for lots over 25,000 sq.ft.\n",
      "        - INDUS    proportion of non-retail business acres per town\n",
      "        - CHAS     Charles River dummy variable (= 1 if tract bounds river; 0 otherwise)\n",
      "        - NOX      nitric oxides concentration (parts per 10 million)\n",
      "        - RM       average number of rooms per dwelling\n",
      "        - AGE      proportion of owner-occupied units built prior to 1940\n",
      "        - DIS      weighted distances to five Boston employment centres\n",
      "        - RAD      index of accessibility to radial highways\n",
      "        - TAX      full-value property-tax rate per $10,000\n",
      "        - PTRATIO  pupil-teacher ratio by town\n",
      "        - B        1000(Bk - 0.63)^2 where Bk is the proportion of blacks by town\n",
      "        - LSTAT    % lower status of the population\n",
      "        - MEDV     Median value of owner-occupied homes in $1000's\n",
      "\n",
      "    :Missing Attribute Values: None\n",
      "\n",
      "    :Creator: Harrison, D. and Rubinfeld, D.L.\n",
      "\n",
      "This is a copy of UCI ML housing dataset.\n",
      "http://archive.ics.uci.edu/ml/datasets/Housing\n",
      "\n",
      "\n",
      "This dataset was taken from the StatLib library which is maintained at Carnegie Mellon University.\n",
      "\n",
      "The Boston house-price data of Harrison, D. and Rubinfeld, D.L. 'Hedonic\n",
      "prices and the demand for clean air', J. Environ. Economics & Management,\n",
      "vol.5, 81-102, 1978.   Used in Belsley, Kuh & Welsch, 'Regression diagnostics\n",
      "...', Wiley, 1980.   N.B. Various transformations are used in the table on\n",
      "pages 244-261 of the latter.\n",
      "\n",
      "The Boston house-price data has been used in many machine learning papers that address regression\n",
      "problems.   \n",
      "     \n",
      "**References**\n",
      "\n",
      "   - Belsley, Kuh & Welsch, 'Regression diagnostics: Identifying Influential Data and Sources of Collinearity', Wiley, 1980. 244-261.\n",
      "   - Quinlan,R. (1993). Combining Instance-Based and Model-Based Learning. In Proceedings on the Tenth International Conference of Machine Learning, 236-243, University of Massachusetts, Amherst. Morgan Kaufmann.\n",
      "   - many more! (see http://archive.ics.uci.edu/ml/datasets/Housing)\n",
      "\n"
     ]
    },
    {
     "data": {
      "image/png": "[encoded data removed]",
      "text/plain": [
       "<Figure size 1152x648 with 1 Axes>"
      ]
     },
     "metadata": {},
     "output_type": "display_data"
    }
   ],
   "source": [
    "d = datasets.load_boston()\n",
    "print(d.DESCR)\n",
    "\n",
    "pyplot.figure(figsize=(16, 9))\n",
    "pyplot.plot(range(len(d.target)), sorted(d.target),\n",
    "            linewidth=8, color='crimson', alpha=.8)\n",
    "_ = pyplot.xlabel('Amostras de casas à venda')\n",
    "_ = pyplot.ylabel('Preço (em US$ 1,000)')"
   ]
  },
  {
   "cell_type": "code",
   "execution_count": 9,
   "metadata": {},
   "outputs": [
    {
     "name": "stdout",
     "output_type": "stream",
     "text": [
      "Executando experimento #0\n",
      "- Testando SVR(C=1.0, cache_size=200, coef0=0.0, degree=3, epsilon=0.1, gamma='auto',\n",
      "  kernel='linear', max_iter=-1, shrinking=True, tol=0.001, verbose=False)\n",
      "  pontuação nos folds: [3.18681219 3.35652385]\n",
      "\n",
      "- Testando LinearRegression(copy_X=True, fit_intercept=True, n_jobs=1, normalize=False)\n",
      "  pontuação nos folds: [3.42504058 3.51393561]\n",
      "\n",
      "\n",
      "Executando experimento #1\n",
      "- Testando SVR(C=1.0, cache_size=200, coef0=0.0, degree=3, epsilon=0.1, gamma='auto',\n",
      "  kernel='linear', max_iter=-1, shrinking=True, tol=0.001, verbose=False)\n",
      "  pontuação nos folds: [3.17753803 3.44310437]\n",
      "\n",
      "- Testando LinearRegression(copy_X=True, fit_intercept=True, n_jobs=1, normalize=False)\n",
      "  pontuação nos folds: [3.71332347 3.47068855]\n",
      "\n",
      "\n",
      "Executando experimento #2\n",
      "- Testando SVR(C=1.0, cache_size=200, coef0=0.0, degree=3, epsilon=0.1, gamma='auto',\n",
      "  kernel='linear', max_iter=-1, shrinking=True, tol=0.001, verbose=False)\n",
      "  pontuação nos folds: [3.24776933 3.23446521]\n",
      "\n",
      "- Testando LinearRegression(copy_X=True, fit_intercept=True, n_jobs=1, normalize=False)\n",
      "  pontuação nos folds: [3.47956224 3.26913849]\n",
      "\n",
      "\n",
      "Executando experimento #3\n",
      "- Testando SVR(C=1.0, cache_size=200, coef0=0.0, degree=3, epsilon=0.1, gamma='auto',\n",
      "  kernel='linear', max_iter=-1, shrinking=True, tol=0.001, verbose=False)\n",
      "  pontuação nos folds: [3.36721896 3.25605174]\n",
      "\n",
      "- Testando LinearRegression(copy_X=True, fit_intercept=True, n_jobs=1, normalize=False)\n",
      "  pontuação nos folds: [3.64808245 3.45892845]\n",
      "\n",
      "\n",
      "Executando experimento #4\n",
      "- Testando SVR(C=1.0, cache_size=200, coef0=0.0, degree=3, epsilon=0.1, gamma='auto',\n",
      "  kernel='linear', max_iter=-1, shrinking=True, tol=0.001, verbose=False)\n",
      "  pontuação nos folds: [3.42890026 3.37225774]\n",
      "\n",
      "- Testando LinearRegression(copy_X=True, fit_intercept=True, n_jobs=1, normalize=False)\n",
      "  pontuação nos folds: [3.45488452 3.54272988]\n",
      "\n",
      "\n"
     ]
    }
   ],
   "source": [
    "r = np.random.RandomState(42)\n",
    "\n",
    "experiments = 5\n",
    "estimators = [\n",
    "    SVR(kernel='linear'),\n",
    "    LinearRegression()\n",
    "]\n",
    "\n",
    "# scoring = erro absoluto médio (MAE) original.\n",
    "scoring = metrics.make_scorer(metrics.mean_absolute_error,\n",
    "                              greater_is_better=True)\n",
    "scores = []\n",
    "\n",
    "for experiment in range(experiments):\n",
    "    print('Executando experimento #%i' % experiment)\n",
    "    experiment_seed = r.randint(100)\n",
    "\n",
    "    # Compartilha o KFold entre os estimadores,\n",
    "    # garantindo que ambos sejam executados sobre as mesmas folds.\n",
    "    skf = KFold(n_splits=2,\n",
    "                shuffle=True,\n",
    "                random_state=experiment_seed)\n",
    "    exp_scores = []\n",
    "    \n",
    "    for e in estimators:\n",
    "        print('- Testando', e)\n",
    "        score = cross_val_score(e, d.data, d.target, cv=skf, n_jobs=4, scoring=scoring)\n",
    "        exp_scores += [score]\n",
    "        print('  pontuação nos folds:', score, end='\\n\\n')\n",
    "\n",
    "    scores += [exp_scores]\n",
    "    print()\n",
    "\n",
    "scores = np.asarray(scores)\n"
   ]
  },
  {
   "cell_type": "markdown",
   "metadata": {},
   "source": [
    "**Dado os resultados obtidos acima, determine qual dos estimadores possui maior pontuação e execute um teste estatístico a fim de rejeitar a hipótese nula.**\n",
    "\n",
    "**Atenção:** a pontuação em um problema de regressão nem sempre é definida por uma métrica onde o \"melhor resultado\" é o maior número."
   ]
  },
  {
   "cell_type": "code",
   "execution_count": null,
   "metadata": {},
   "outputs": [],
   "source": [
    "score_by_class = scores.transpose([1,0,2]).reshape(2,-1)\n",
    "mean_score_by_class = score_by_class.mean(axis=(1,))\n",
    "print(score_by_class)\n",
    "print(mean_score_by_class)\n",
    "\n",
    "best_estimator_index  = np.argmin(mean_score_by_class)\n",
    "print(f'Em média, o estimador {estimators[best_estimator_index].__class__.__name__} obteve uma melhor pontuação:')\n",
    "for estimator, mean_score in zip(estimators, mean_score_by_class):\n",
    "    print(f'- {estimator.__class__.__name__} = {mean_score}')"
   ]
  },
  {
   "cell_type": "code",
   "execution_count": 31,
   "metadata": {},
   "outputs": [
    {
     "name": "stdout",
     "output_type": "stream",
     "text": [
      "A diferença em pontuação é significativa (p-valor: 0.005062032126267864 < 5%)!\n"
     ]
    }
   ],
   "source": [
    "s, p = stats.wilcoxon(score_by_class[0], score_by_class[1])\n",
    "\n",
    "# `p` representa a probabilidade de que a diferença de \n",
    "# pontuação observada tenha ocorrido ao acaso.\n",
    "if p < 0.05:\n",
    "    print('A diferença em pontuação é significativa (p-valor: %s < 5%%)!' % p)\n",
    "else:\n",
    "    print('Entretanto, a diferença em pontuação não é '\n",
    "          'significativa (p-valor: %s >= 5%%).' % p)"
   ]
  }
 ],
 "metadata": {
  "kernelspec": {
   "display_name": "Python 3",
   "language": "python",
   "name": "python3"
  },
  "language_info": {
   "codemirror_mode": {
    "name": "ipython",
    "version": 3
   },
   "file_extension": ".py",
   "mimetype": "text/x-python",
   "name": "python",
   "nbconvert_exporter": "python",
   "pygments_lexer": "ipython3",
   "version": "3.6.5"
  }
 },
 "nbformat": 4,
 "nbformat_minor": 2
}
