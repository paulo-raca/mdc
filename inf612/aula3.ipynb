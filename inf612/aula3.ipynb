{
 "cells": [
  {
   "cell_type": "markdown",
   "metadata": {},
   "source": [
    "### Calcular quantos elementos de uma lista estão fora de 1 desvio padrão"
   ]
  },
  {
   "cell_type": "code",
   "execution_count": 1,
   "metadata": {},
   "outputs": [
    {
     "data": {
      "text/html": [
       "<ol class=list-inline>\n",
       "\t<li>15.1758138482413</li>\n",
       "\t<li>0.804273017811941</li>\n",
       "\t<li>2.03019008168062</li>\n",
       "\t<li>1.03264903674969</li>\n",
       "</ol>\n"
      ],
      "text/latex": [
       "\\begin{enumerate*}\n",
       "\\item 15.1758138482413\n",
       "\\item 0.804273017811941\n",
       "\\item 2.03019008168062\n",
       "\\item 1.03264903674969\n",
       "\\end{enumerate*}\n"
      ],
      "text/markdown": [
       "1. 15.1758138482413\n",
       "2. 0.804273017811941\n",
       "3. 2.03019008168062\n",
       "4. 1.03264903674969\n",
       "\n",
       "\n"
      ],
      "text/plain": [
       "[1] 15.175814  0.804273  2.030190  1.032649"
      ]
     },
     "metadata": {},
     "output_type": "display_data"
    },
    {
     "data": {
      "text/html": [
       "4"
      ],
      "text/latex": [
       "4"
      ],
      "text/markdown": [
       "4"
      ],
      "text/plain": [
       "[1] 4"
      ]
     },
     "metadata": {},
     "output_type": "display_data"
    }
   ],
   "source": [
    "data <- rnorm(10, mean=10, sd=5)\n",
    "\n",
    "outliers = data[abs(data-mean(data)) > sd(data)]\n",
    "num_outliers = sum(abs(data-mean(data)) > sd(data))\n",
    "outliers\n",
    "num_outliers"
   ]
  },
  {
   "cell_type": "markdown",
   "metadata": {},
   "source": [
    "### Qual a porcentagem dos elementos estão fora de 2 desvios padrão do conjunto?"
   ]
  },
  {
   "cell_type": "code",
   "execution_count": 2,
   "metadata": {},
   "outputs": [
    {
     "data": {
      "text/html": [
       "4.550238"
      ],
      "text/latex": [
       "4.550238"
      ],
      "text/markdown": [
       "4.550238"
      ],
      "text/plain": [
       "[1] 4.550238"
      ]
     },
     "metadata": {},
     "output_type": "display_data"
    }
   ],
   "source": [
    "data <- rnorm(100000000, mean=10, sd=5)\n",
    "perc_outliers = 100 * sum(abs(data-mean(data)) > 2*sd(data)) / length(data)\n",
    "perc_outliers"
   ]
  },
  {
   "cell_type": "code",
   "execution_count": 3,
   "metadata": {},
   "outputs": [
    {
     "data": {
      "text/html": [
       "'Micy hid i narrno nimb'"
      ],
      "text/latex": [
       "'Micy hid i narrno nimb'"
      ],
      "text/markdown": [
       "'Micy hid i narrno nimb'"
      ],
      "text/plain": [
       "[1] \"Micy hid i narrno nimb\""
      ]
     },
     "metadata": {},
     "output_type": "display_data"
    }
   ],
   "source": [
    "x <- \"Mary had a little lamb\"\n",
    "chartr(\"zenitpolar\", \"polarzenic\", x)"
   ]
  },
  {
   "cell_type": "code",
   "execution_count": 4,
   "metadata": {},
   "outputs": [
    {
     "data": {
      "text/html": [
       "0+1.41421356237309i"
      ],
      "text/latex": [
       "0+1.41421356237309i"
      ],
      "text/markdown": [
       "0+1.41421356237309i"
      ],
      "text/plain": [
       "[1] 0+1.414214i"
      ]
     },
     "metadata": {},
     "output_type": "display_data"
    }
   ],
   "source": [
    "(-2+0i)**0.5"
   ]
  },
  {
   "cell_type": "code",
   "execution_count": 5,
   "metadata": {},
   "outputs": [
    {
     "data": {
      "text/html": [
       "120"
      ],
      "text/latex": [
       "120"
      ],
      "text/markdown": [
       "120"
      ],
      "text/plain": [
       "[1] 120"
      ]
     },
     "metadata": {},
     "output_type": "display_data"
    }
   ],
   "source": [
    "myprod <- function(...) {\n",
    "    r <- 1 \n",
    "    for (x in c(...)) {\n",
    "        r <- r * x\n",
    "    }\n",
    "    r\n",
    "}\n",
    "\n",
    "prod(1,2,3,4,5)"
   ]
  },
  {
   "cell_type": "code",
   "execution_count": 6,
   "metadata": {},
   "outputs": [
    {
     "data": {
      "text/html": [
       "-5"
      ],
      "text/latex": [
       "-5"
      ],
      "text/markdown": [
       "-5"
      ],
      "text/plain": [
       "[1] -5"
      ]
     },
     "metadata": {},
     "output_type": "display_data"
    }
   ],
   "source": [
    "mymin <- function(...) {\n",
    "    r <- NULL\n",
    "    for (x in c(...)) {\n",
    "        if (is.null(r) || x < r) {\n",
    "            r <- x\n",
    "        }\n",
    "    }\n",
    "    r\n",
    "}\n",
    "\n",
    "mymin(1,2,-5)"
   ]
  },
  {
   "cell_type": "code",
   "execution_count": 12,
   "metadata": {},
   "outputs": [
    {
     "data": {
      "text/html": [
       "TRUE"
      ],
      "text/latex": [
       "TRUE"
      ],
      "text/markdown": [
       "TRUE"
      ],
      "text/plain": [
       "[1] TRUE"
      ]
     },
     "metadata": {},
     "output_type": "display_data"
    }
   ],
   "source": [
    "# returns if a is a subset of b \n",
    "mysubset <- function(a, b) {\n",
    "    #length(setdiff(a,b)) == 0\n",
    "    all(is.element(a,b))\n",
    "}\n",
    "\n",
    "mysubset(c(), c(1,2,3,4,5))"
   ]
  },
  {
   "cell_type": "code",
   "execution_count": 16,
   "metadata": {},
   "outputs": [
    {
     "data": {
      "text/html": [
       "FALSE"
      ],
      "text/latex": [
       "FALSE"
      ],
      "text/markdown": [
       "FALSE"
      ],
      "text/plain": [
       "[1] FALSE"
      ]
     },
     "metadata": {},
     "output_type": "display_data"
    }
   ],
   "source": [
    "disjoint <- function(a, b) {\n",
    "    !any(is.element(a,b))\n",
    "}\n",
    "disjoint(1:3, 2:5)"
   ]
  },
  {
   "cell_type": "code",
   "execution_count": 71,
   "metadata": {},
   "outputs": [
    {
     "data": {
      "text/html": [
       "'bmal elttil a dah yraM'"
      ],
      "text/latex": [
       "'bmal elttil a dah yraM'"
      ],
      "text/markdown": [
       "'bmal elttil a dah yraM'"
      ],
      "text/plain": [
       "[1] \"bmal elttil a dah yraM\""
      ]
     },
     "metadata": {},
     "output_type": "display_data"
    }
   ],
   "source": [
    "revstr <- function(str) {\n",
    "    ret <- \"\"\n",
    "    for (x in nchar(str):1) {\n",
    "        ret <- paste(ret, substr(str, start=x, stop=x), sep='')\n",
    "    }\n",
    "    ret\n",
    "}\n",
    "\n",
    "revstr <- function(str) {\n",
    "    n <- nchar(str)\n",
    "    for (i1 in 1:(n/2)) {\n",
    "        i2 <- n - i1 + 1\n",
    "        c1 <- substr(str, start=i1, stop=i1)\n",
    "        c2 <- substr(str, start=i2, stop=i2)\n",
    "        substr(str, start=i1, stop=i1) <- c2\n",
    "        substr(str, start=i2, stop=i2) <- c1\n",
    "    }\n",
    "    str\n",
    "}\n",
    "\n",
    "revstr(\"Mary had a little lamb\")"
   ]
  },
  {
   "cell_type": "code",
   "execution_count": 77,
   "metadata": {},
   "outputs": [
    {
     "data": {
      "text/html": [
       "0"
      ],
      "text/latex": [
       "0"
      ],
      "text/markdown": [
       "0"
      ],
      "text/plain": [
       "[1] 0"
      ]
     },
     "metadata": {},
     "output_type": "display_data"
    }
   ],
   "source": [
    "mycount <- function(array, element) {\n",
    "    sum(array == element)\n",
    "}\n",
    "\n",
    "mycount(c(1,2,3,4,2,3,2), 5)"
   ]
  },
  {
   "cell_type": "code",
   "execution_count": 96,
   "metadata": {},
   "outputs": [
    {
     "name": "stdout",
     "output_type": "stream",
     "text": [
      "[1] 15 21\n",
      "[1] 21 15\n",
      "[1] 15  6\n",
      "[1] 6 3\n",
      "[1] 3 0\n"
     ]
    },
    {
     "data": {
      "text/html": [
       "3"
      ],
      "text/latex": [
       "3"
      ],
      "text/markdown": [
       "3"
      ],
      "text/plain": [
       "[1] 3"
      ]
     },
     "metadata": {},
     "output_type": "display_data"
    }
   ],
   "source": [
    "gcd <- function(a, b) {\n",
    "    if (b == 0) {\n",
    "        a\n",
    "    } else {\n",
    "        gcd(b, a%%b)\n",
    "    }\n",
    "}\n",
    "gcd(15, 21)"
   ]
  },
  {
   "cell_type": "code",
   "execution_count": 129,
   "metadata": {},
   "outputs": [
    {
     "data": {
      "text/html": [
       "<ol class=list-inline>\n",
       "\t<li>FALSE</li>\n",
       "\t<li>TRUE</li>\n",
       "\t<li>TRUE</li>\n",
       "\t<li>FALSE</li>\n",
       "\t<li>TRUE</li>\n",
       "\t<li>FALSE</li>\n",
       "\t<li>TRUE</li>\n",
       "\t<li>FALSE</li>\n",
       "\t<li>FALSE</li>\n",
       "\t<li>FALSE</li>\n",
       "</ol>\n"
      ],
      "text/latex": [
       "\\begin{enumerate*}\n",
       "\\item FALSE\n",
       "\\item TRUE\n",
       "\\item TRUE\n",
       "\\item FALSE\n",
       "\\item TRUE\n",
       "\\item FALSE\n",
       "\\item TRUE\n",
       "\\item FALSE\n",
       "\\item FALSE\n",
       "\\item FALSE\n",
       "\\end{enumerate*}\n"
      ],
      "text/markdown": [
       "1. FALSE\n",
       "2. TRUE\n",
       "3. TRUE\n",
       "4. FALSE\n",
       "5. TRUE\n",
       "6. FALSE\n",
       "7. TRUE\n",
       "8. FALSE\n",
       "9. FALSE\n",
       "10. FALSE\n",
       "\n",
       "\n"
      ],
      "text/plain": [
       " [1] FALSE  TRUE  TRUE FALSE  TRUE FALSE  TRUE FALSE FALSE FALSE"
      ]
     },
     "metadata": {},
     "output_type": "display_data"
    },
    {
     "data": {
      "text/html": [
       "<ol class=list-inline>\n",
       "\t<li>2</li>\n",
       "\t<li>3</li>\n",
       "\t<li>5</li>\n",
       "\t<li>7</li>\n",
       "\t<li>11</li>\n",
       "\t<li>13</li>\n",
       "\t<li>17</li>\n",
       "\t<li>19</li>\n",
       "\t<li>23</li>\n",
       "\t<li>29</li>\n",
       "\t<li>31</li>\n",
       "\t<li>37</li>\n",
       "\t<li>41</li>\n",
       "\t<li>43</li>\n",
       "\t<li>47</li>\n",
       "\t<li>53</li>\n",
       "\t<li>59</li>\n",
       "\t<li>61</li>\n",
       "\t<li>67</li>\n",
       "\t<li>71</li>\n",
       "\t<li>73</li>\n",
       "\t<li>79</li>\n",
       "\t<li>83</li>\n",
       "\t<li>89</li>\n",
       "\t<li>97</li>\n",
       "</ol>\n"
      ],
      "text/latex": [
       "\\begin{enumerate*}\n",
       "\\item 2\n",
       "\\item 3\n",
       "\\item 5\n",
       "\\item 7\n",
       "\\item 11\n",
       "\\item 13\n",
       "\\item 17\n",
       "\\item 19\n",
       "\\item 23\n",
       "\\item 29\n",
       "\\item 31\n",
       "\\item 37\n",
       "\\item 41\n",
       "\\item 43\n",
       "\\item 47\n",
       "\\item 53\n",
       "\\item 59\n",
       "\\item 61\n",
       "\\item 67\n",
       "\\item 71\n",
       "\\item 73\n",
       "\\item 79\n",
       "\\item 83\n",
       "\\item 89\n",
       "\\item 97\n",
       "\\end{enumerate*}\n"
      ],
      "text/markdown": [
       "1. 2\n",
       "2. 3\n",
       "3. 5\n",
       "4. 7\n",
       "5. 11\n",
       "6. 13\n",
       "7. 17\n",
       "8. 19\n",
       "9. 23\n",
       "10. 29\n",
       "11. 31\n",
       "12. 37\n",
       "13. 41\n",
       "14. 43\n",
       "15. 47\n",
       "16. 53\n",
       "17. 59\n",
       "18. 61\n",
       "19. 67\n",
       "20. 71\n",
       "21. 73\n",
       "22. 79\n",
       "23. 83\n",
       "24. 89\n",
       "25. 97\n",
       "\n",
       "\n"
      ],
      "text/plain": [
       " [1]  2  3  5  7 11 13 17 19 23 29 31 37 41 43 47 53 59 61 67 71 73 79 83 89 97"
      ]
     },
     "metadata": {},
     "output_type": "display_data"
    }
   ],
   "source": [
    "myprime <- Vectorize(function(n) {\n",
    "    if (n <= 2) {\n",
    "        return (n == 2)\n",
    "    }\n",
    "    for (i in 2:(n/2)) {\n",
    "        if (n %% i == 0)\n",
    "            return (F)\n",
    "    }\n",
    "    T\n",
    "})\n",
    "\n",
    "myprimes <- function(n) {\n",
    "    (1:n)[myprime(1:n)]\n",
    "}\n",
    "myprime(1:10)\n",
    "myprimes(100)"
   ]
  },
  {
   "cell_type": "code",
   "execution_count": 138,
   "metadata": {},
   "outputs": [
    {
     "data": {
      "text/html": [
       "<ol class=list-inline>\n",
       "\t<li>-0.674489750196082</li>\n",
       "\t<li>0</li>\n",
       "\t<li>0.674489750196082</li>\n",
       "\t<li>Inf</li>\n",
       "</ol>\n"
      ],
      "text/latex": [
       "\\begin{enumerate*}\n",
       "\\item -0.674489750196082\n",
       "\\item 0\n",
       "\\item 0.674489750196082\n",
       "\\item Inf\n",
       "\\end{enumerate*}\n"
      ],
      "text/markdown": [
       "1. -0.674489750196082\n",
       "2. 0\n",
       "3. 0.674489750196082\n",
       "4. Inf\n",
       "\n",
       "\n"
      ],
      "text/plain": [
       "[1] -0.6744898  0.0000000  0.6744898        Inf"
      ]
     },
     "metadata": {},
     "output_type": "display_data"
    }
   ],
   "source": [
    "qnorm(1:4 / 4)"
   ]
  }
 ],
 "metadata": {
  "kernelspec": {
   "display_name": "R",
   "language": "R",
   "name": "ir"
  },
  "language_info": {
   "codemirror_mode": "r",
   "file_extension": ".r",
   "mimetype": "text/x-r-source",
   "name": "R",
   "pygments_lexer": "r",
   "version": "3.3.2"
  }
 },
 "nbformat": 4,
 "nbformat_minor": 2
}
