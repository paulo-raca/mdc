{
 "cells": [
  {
   "cell_type": "code",
   "execution_count": 22,
   "metadata": {},
   "outputs": [
    {
     "data": {
      "text/html": [
       "<dl>\n",
       "\t<dt>$a</dt>\n",
       "\t\t<dd>27.5</dd>\n",
       "\t<dt>$b</dt>\n",
       "\t\t<dd>3.5</dd>\n",
       "\t<dt>$c</dt>\n",
       "\t\t<dd>-0.742434555784376</dd>\n",
       "\t<dt>$d</dt>\n",
       "\t\t<dd>5.5</dd>\n",
       "</dl>\n"
      ],
      "text/latex": [
       "\\begin{description}\n",
       "\\item[\\$a] 27.5\n",
       "\\item[\\$b] 3.5\n",
       "\\item[\\$c] -0.742434555784376\n",
       "\\item[\\$d] 5.5\n",
       "\\end{description}\n"
      ],
      "text/markdown": [
       "$a\n",
       ":   27.5\n",
       "$b\n",
       ":   3.5\n",
       "$c\n",
       ":   -0.742434555784376\n",
       "$d\n",
       ":   5.5\n",
       "\n",
       "\n"
      ],
      "text/plain": [
       "$a\n",
       "[1] 27.5\n",
       "\n",
       "$b\n",
       "[1] 3.5\n",
       "\n",
       "$c\n",
       "[1] -0.7424346\n",
       "\n",
       "$d\n",
       "[1] 5.5\n"
      ]
     },
     "metadata": {},
     "output_type": "display_data"
    },
    {
     "data": {
      "text/html": [
       "<ol>\n",
       "\t<li><ol class=list-inline>\n",
       "\t<li>8.29688435187563</li>\n",
       "\t<li>5.7516948855482</li>\n",
       "</ol>\n",
       "</li>\n",
       "\t<li><ol class=list-inline>\n",
       "\t<li>6.33256464730948</li>\n",
       "\t<li>2.98514499561861</li>\n",
       "\t<li>9.90958939306438</li>\n",
       "</ol>\n",
       "</li>\n",
       "\t<li><ol class=list-inline>\n",
       "\t<li>1.13717116648331</li>\n",
       "\t<li>9.24337067408487</li>\n",
       "\t<li>9.78235337650403</li>\n",
       "\t<li>1.5098042646423</li>\n",
       "</ol>\n",
       "</li>\n",
       "</ol>\n"
      ],
      "text/latex": [
       "\\begin{enumerate}\n",
       "\\item \\begin{enumerate*}\n",
       "\\item 8.29688435187563\n",
       "\\item 5.7516948855482\n",
       "\\end{enumerate*}\n",
       "\n",
       "\\item \\begin{enumerate*}\n",
       "\\item 6.33256464730948\n",
       "\\item 2.98514499561861\n",
       "\\item 9.90958939306438\n",
       "\\end{enumerate*}\n",
       "\n",
       "\\item \\begin{enumerate*}\n",
       "\\item 1.13717116648331\n",
       "\\item 9.24337067408487\n",
       "\\item 9.78235337650403\n",
       "\\item 1.5098042646423\n",
       "\\end{enumerate*}\n",
       "\n",
       "\\end{enumerate}\n"
      ],
      "text/markdown": [
       "1. 1. 8.29688435187563\n",
       "2. 5.7516948855482\n",
       "\n",
       "\n",
       "\n",
       "2. 1. 6.33256464730948\n",
       "2. 2.98514499561861\n",
       "3. 9.90958939306438\n",
       "\n",
       "\n",
       "\n",
       "3. 1. 1.13717116648331\n",
       "2. 9.24337067408487\n",
       "3. 9.78235337650403\n",
       "4. 1.5098042646423\n",
       "\n",
       "\n",
       "\n",
       "\n",
       "\n"
      ],
      "text/plain": [
       "[[1]]\n",
       "[1] 8.296884 5.751695\n",
       "\n",
       "[[2]]\n",
       "[1] 6.332565 2.985145 9.909589\n",
       "\n",
       "[[3]]\n",
       "[1] 1.137171 9.243371 9.782353 1.509804\n"
      ]
     },
     "metadata": {},
     "output_type": "display_data"
    },
    {
     "data": {
      "text/html": [
       "<dl>\n",
       "\t<dt>$eruptions</dt>\n",
       "\t\t<dd>5.1</dd>\n",
       "\t<dt>$waiting</dt>\n",
       "\t\t<dd>96</dd>\n",
       "</dl>\n"
      ],
      "text/latex": [
       "\\begin{description}\n",
       "\\item[\\$eruptions] 5.1\n",
       "\\item[\\$waiting] 96\n",
       "\\end{description}\n"
      ],
      "text/markdown": [
       "$eruptions\n",
       ":   5.1\n",
       "$waiting\n",
       ":   96\n",
       "\n",
       "\n"
      ],
      "text/plain": [
       "$eruptions\n",
       "[1] 5.1\n",
       "\n",
       "$waiting\n",
       "[1] 96\n"
      ]
     },
     "metadata": {},
     "output_type": "display_data"
    },
    {
     "data": {
      "text/html": [
       "<dl>\n",
       "\t<dt>$eruptions</dt>\n",
       "\t\t<dd>3.5</dd>\n",
       "\t<dt>$waiting</dt>\n",
       "\t\t<dd>53</dd>\n",
       "</dl>\n"
      ],
      "text/latex": [
       "\\begin{description}\n",
       "\\item[\\$eruptions] 3.5\n",
       "\\item[\\$waiting] 53\n",
       "\\end{description}\n"
      ],
      "text/markdown": [
       "$eruptions\n",
       ":   3.5\n",
       "$waiting\n",
       ":   53\n",
       "\n",
       "\n"
      ],
      "text/plain": [
       "$eruptions\n",
       "[1] 3.5\n",
       "\n",
       "$waiting\n",
       "[1] 53\n"
      ]
     },
     "metadata": {},
     "output_type": "display_data"
    }
   ],
   "source": [
    "L = list(a=25:30, b=matrix(1:6, 2, 3), c=rnorm(5), d=sample(10))\n",
    "lapply(L, mean)\n",
    "lapply(2:4, runif, min=0, max=10)\n",
    "lapply(datasets::faithful, max)\n",
    "lapply(datasets::faithful, function(x) { max(x) - min(x)})"
   ]
  },
  {
   "cell_type": "code",
   "execution_count": 36,
   "metadata": {},
   "outputs": [
    {
     "data": {
      "text/html": [
       "592"
      ],
      "text/latex": [
       "592"
      ],
      "text/markdown": [
       "592"
      ],
      "text/plain": [
       "[1] 592"
      ]
     },
     "metadata": {},
     "output_type": "display_data"
    },
    {
     "data": {
      "text/html": [
       "<dl class=dl-horizontal>\n",
       "\t<dt>Black</dt>\n",
       "\t\t<dd>108</dd>\n",
       "\t<dt>Brown</dt>\n",
       "\t\t<dd>286</dd>\n",
       "\t<dt>Red</dt>\n",
       "\t\t<dd>71</dd>\n",
       "\t<dt>Blond</dt>\n",
       "\t\t<dd>127</dd>\n",
       "</dl>\n"
      ],
      "text/latex": [
       "\\begin{description*}\n",
       "\\item[Black] 108\n",
       "\\item[Brown] 286\n",
       "\\item[Red] 71\n",
       "\\item[Blond] 127\n",
       "\\end{description*}\n"
      ],
      "text/markdown": [
       "Black\n",
       ":   108Brown\n",
       ":   286Red\n",
       ":   71Blond\n",
       ":   127\n",
       "\n"
      ],
      "text/plain": [
       "Black Brown   Red Blond \n",
       "  108   286    71   127 "
      ]
     },
     "metadata": {},
     "output_type": "display_data"
    }
   ],
   "source": [
    "#total\n",
    "sum(HairEyeColor)\n",
    "apply(HairEyeColor, 1, sum)"
   ]
  },
  {
   "cell_type": "code",
   "execution_count": 55,
   "metadata": {},
   "outputs": [
    {
     "data": {
      "text/html": [
       "<dl class=dl-horizontal>\n",
       "\t<dt>4</dt>\n",
       "\t\t<dd>26.6636363636364</dd>\n",
       "\t<dt>6</dt>\n",
       "\t\t<dd>19.7428571428571</dd>\n",
       "\t<dt>8</dt>\n",
       "\t\t<dd>15.1</dd>\n",
       "</dl>\n"
      ],
      "text/plain": [
       "       4        6        8 \n",
       "26.66364 19.74286 15.10000 "
      ]
     },
     "metadata": {},
     "output_type": "display_data"
    },
    {
     "data": {
      "text/html": [
       "<dl class=dl-horizontal>\n",
       "\t<dt>5</dt>\n",
       "\t\t<dd>65.5483870967742</dd>\n",
       "\t<dt>6</dt>\n",
       "\t\t<dd>79.1</dd>\n",
       "\t<dt>7</dt>\n",
       "\t\t<dd>83.9032258064516</dd>\n",
       "\t<dt>8</dt>\n",
       "\t\t<dd>83.9677419354839</dd>\n",
       "\t<dt>9</dt>\n",
       "\t\t<dd>76.9</dd>\n",
       "</dl>\n"
      ],
      "text/plain": [
       "       5        6        7        8        9 \n",
       "65.54839 79.10000 83.90323 83.96774 76.90000 "
      ]
     },
     "metadata": {},
     "output_type": "display_data"
    },
    {
     "data": {
      "text/html": [
       "<dl class=dl-horizontal>\n",
       "\t<dt>3</dt>\n",
       "\t\t<dd>4.23785714285714</dd>\n",
       "\t<dt>5</dt>\n",
       "\t\t<dd>10.205</dd>\n",
       "\t<dt>10</dt>\n",
       "\t\t<dd>27.4421428571429</dd>\n",
       "\t<dt>15</dt>\n",
       "\t\t<dd>40.5435714285714</dd>\n",
       "\t<dt>20</dt>\n",
       "\t\t<dd>51.4685714285714</dd>\n",
       "\t<dt>25</dt>\n",
       "\t\t<dd>60.2892857142857</dd>\n",
       "</dl>\n"
      ],
      "text/plain": [
       "        3         5        10        15        20        25 \n",
       " 4.237857 10.205000 27.442143 40.543571 51.468571 60.289286 "
      ]
     },
     "metadata": {},
     "output_type": "display_data"
    }
   ],
   "source": [
    "tapply(mtcars$mpg, mtcars$cyl, mean)\n",
    "\n",
    "tapply(airquality$Temp, airquality$Month, mean)\n",
    "\n",
    "tapply(Loblolly$height, Loblolly$age, mean)"
   ]
  }
 ],
 "metadata": {
  "kernelspec": {
   "display_name": "R",
   "language": "R",
   "name": "ir"
  },
  "language_info": {
   "codemirror_mode": "r",
   "file_extension": ".r",
   "mimetype": "text/x-r-source",
   "name": "R",
   "pygments_lexer": "r",
   "version": "3.3.2"
  }
 },
 "nbformat": 4,
 "nbformat_minor": 2
}
