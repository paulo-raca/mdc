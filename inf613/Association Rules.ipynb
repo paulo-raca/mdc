{
 "cells": [
  {
   "cell_type": "code",
   "execution_count": null,
   "metadata": {},
   "outputs": [],
   "source": [
    "install.packages(\"arules\")\n",
    "library(arules)"
   ]
  },
  {
   "cell_type": "code",
   "execution_count": 19,
   "metadata": {},
   "outputs": [
    {
     "data": {
      "text/plain": [
       "transactions in sparse format with\n",
       " 6 transactions (rows) and\n",
       " 4 items (columns)"
      ]
     },
     "metadata": {},
     "output_type": "display_data"
    },
    {
     "name": "stdout",
     "output_type": "stream",
     "text": [
      "    items                        \n",
      "[1] {Carvão,Cerveja,Pão}         \n",
      "[2] {Carvão,Pão}                 \n",
      "[3] {Carvão,Cerveja,Maionese}    \n",
      "[4] {Carvão,Cerveja,Maionese,Pão}\n",
      "[5] {Cerveja}                    \n",
      "[6] {Carvão}                     \n",
      "Apriori\n",
      "\n",
      "Parameter specification:\n",
      " confidence minval smax arem  aval originalSupport maxtime support minlen\n",
      "        0.5    0.1    1 none FALSE            TRUE       5     0.5      1\n",
      " maxlen target   ext\n",
      "     10  rules FALSE\n",
      "\n",
      "Algorithmic control:\n",
      " filter tree heap memopt load sort verbose\n",
      "    0.1 TRUE TRUE  FALSE TRUE    2    TRUE\n",
      "\n",
      "Absolute minimum support count: 3 \n",
      "\n",
      "set item appearances ...[0 item(s)] done [0.00s].\n",
      "set transactions ...[4 item(s), 6 transaction(s)] done [0.00s].\n",
      "sorting and recoding items ... [3 item(s)] done [0.00s].\n",
      "creating transaction tree ... done [0.00s].\n",
      "checking subsets of size 1 2 done [0.00s].\n",
      "writing ... [7 rule(s)] done [0.00s].\n",
      "creating S4 object  ... done [0.00s].\n"
     ]
    },
    {
     "data": {
      "text/html": [
       "'------------'"
      ],
      "text/latex": [
       "'------------'"
      ],
      "text/markdown": [
       "'------------'"
      ],
      "text/plain": [
       "[1] \"------------\""
      ]
     },
     "metadata": {},
     "output_type": "display_data"
    },
    {
     "name": "stdout",
     "output_type": "stream",
     "text": [
      "    lhs          rhs       support   confidence lift count\n",
      "[1] {}        => {Pão}     0.5000000 0.5000000  1.0  3    \n",
      "[2] {}        => {Cerveja} 0.6666667 0.6666667  1.0  4    \n",
      "[3] {}        => {Carvão}  0.8333333 0.8333333  1.0  5    \n",
      "[4] {Pão}     => {Carvão}  0.5000000 1.0000000  1.2  3    \n",
      "[5] {Carvão}  => {Pão}     0.5000000 0.6000000  1.2  3    \n",
      "[6] {Cerveja} => {Carvão}  0.5000000 0.7500000  0.9  3    \n",
      "[7] {Carvão}  => {Cerveja} 0.5000000 0.6000000  0.9  3    \n"
     ]
    }
   ],
   "source": [
    "data <- read.transactions('basket.txt', format='basket', sep=',')\n",
    "data\n",
    "inspect(data)\n",
    "rules <- apriori(data, parameter = list(support=0.5, confidence=0.5))\n",
    "#rules <- eclat(data, parameter = list(support=0.1, maxlen=15))\n",
    "'------------'\n",
    "inspect(rules)"
   ]
  }
 ],
 "metadata": {
  "kernelspec": {
   "display_name": "R",
   "language": "R",
   "name": "ir"
  },
  "language_info": {
   "codemirror_mode": "r",
   "file_extension": ".r",
   "mimetype": "text/x-r-source",
   "name": "R",
   "pygments_lexer": "r",
   "version": "3.4.1"
  }
 },
 "nbformat": 4,
 "nbformat_minor": 2
}
