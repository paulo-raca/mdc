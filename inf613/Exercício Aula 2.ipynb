{
 "cells": [
  {
   "cell_type": "code",
   "execution_count": 1,
   "metadata": {
    "hideCode": false,
    "hidePrompt": false
   },
   "outputs": [
    {
     "data": {
      "text/plain": [
       "Importance of components%s:\n",
       "                          PC1    PC2     PC3     PC4     PC5     PC6     PC7\n",
       "Standard deviation     2.5585 1.2843 1.16142 0.94156 0.92244 0.81241 0.73172\n",
       "Proportion of Variance 0.4676 0.1178 0.09635 0.06332 0.06078 0.04714 0.03824\n",
       "Cumulative Proportion  0.4676 0.5854 0.68174 0.74507 0.80585 0.85299 0.89123\n",
       "                           PC8    PC9    PC10   PC11    PC12    PC13    PC14\n",
       "Standard deviation     0.63488 0.5266 0.50225 0.4613 0.42777 0.36607 0.24561\n",
       "Proportion of Variance 0.02879 0.0198 0.01802 0.0152 0.01307 0.00957 0.00431\n",
       "Cumulative Proportion  0.92003 0.9398 0.95785 0.9730 0.98612 0.99569 1.00000"
      ]
     },
     "metadata": {},
     "output_type": "display_data"
    }
   ],
   "source": [
    "library(MASS)\n",
    "boston.pca <- prcomp(Boston, scale=T)\n",
    "summary(boston.pca)"
   ]
  },
  {
   "cell_type": "code",
   "execution_count": 28,
   "metadata": {
    "hideCode": false,
    "hidePrompt": false
   },
   "outputs": [
    {
     "data": {
      "text/html": [
       "<table>\n",
       "<thead><tr><th scope=col>k</th><th scope=col>err</th></tr></thead>\n",
       "<tbody>\n",
       "\t<tr><td> 1      </td><td>19401064</td></tr>\n",
       "\t<tr><td> 2      </td><td> 5764994</td></tr>\n",
       "\t<tr><td> 3      </td><td> 4460944</td></tr>\n",
       "\t<tr><td> 4      </td><td> 1814438</td></tr>\n",
       "\t<tr><td> 5      </td><td> 3956185</td></tr>\n",
       "\t<tr><td> 6      </td><td> 3903191</td></tr>\n",
       "\t<tr><td> 7      </td><td> 3866751</td></tr>\n",
       "\t<tr><td> 8      </td><td> 1145030</td></tr>\n",
       "\t<tr><td> 9      </td><td> 1114773</td></tr>\n",
       "\t<tr><td>10      </td><td> 1081239</td></tr>\n",
       "</tbody>\n",
       "</table>\n"
      ],
      "text/latex": [
       "\\begin{tabular}{r|ll}\n",
       " k & err\\\\\n",
       "\\hline\n",
       "\t  1       & 19401064\\\\\n",
       "\t  2       &  5764994\\\\\n",
       "\t  3       &  4460944\\\\\n",
       "\t  4       &  1814438\\\\\n",
       "\t  5       &  3956185\\\\\n",
       "\t  6       &  3903191\\\\\n",
       "\t  7       &  3866751\\\\\n",
       "\t  8       &  1145030\\\\\n",
       "\t  9       &  1114773\\\\\n",
       "\t 10       &  1081239\\\\\n",
       "\\end{tabular}\n"
      ],
      "text/markdown": [
       "\n",
       "k | err | \n",
       "|---|---|---|---|---|---|---|---|---|---|\n",
       "|  1       | 19401064 | \n",
       "|  2       |  5764994 | \n",
       "|  3       |  4460944 | \n",
       "|  4       |  1814438 | \n",
       "|  5       |  3956185 | \n",
       "|  6       |  3903191 | \n",
       "|  7       |  3866751 | \n",
       "|  8       |  1145030 | \n",
       "|  9       |  1114773 | \n",
       "| 10       |  1081239 | \n",
       "\n",
       "\n"
      ],
      "text/plain": [
       "   k  err     \n",
       "1   1 19401064\n",
       "2   2  5764994\n",
       "3   3  4460944\n",
       "4   4  1814438\n",
       "5   5  3956185\n",
       "6   6  3903191\n",
       "7   7  3866751\n",
       "8   8  1145030\n",
       "9   9  1114773\n",
       "10 10  1081239"
      ]
     },
     "metadata": {},
     "output_type": "display_data"
    }
   ],
   "source": [
    "k = c()\n",
    "err = c()\n",
    "for (i in 1:10) {\n",
    "    set.seed(1234)\n",
    "    r <- kmeans(Boston, i)    \n",
    "    k = c(k, i)\n",
    "    err = c(err, r$tot.withinss)\n",
    "}\n",
    "all <- data.frame(k, err)\n",
    "all"
   ]
  }
 ],
 "metadata": {
  "hide_code_all_hidden": false,
  "kernelspec": {
   "display_name": "R",
   "language": "R",
   "name": "ir"
  },
  "language_info": {
   "codemirror_mode": "r",
   "file_extension": ".r",
   "mimetype": "text/x-r-source",
   "name": "R",
   "pygments_lexer": "r",
   "version": "3.4.1"
  }
 },
 "nbformat": 4,
 "nbformat_minor": 2
}
